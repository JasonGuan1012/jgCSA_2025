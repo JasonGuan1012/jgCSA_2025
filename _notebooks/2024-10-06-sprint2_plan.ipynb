{
 "cells": [
  {
   "cell_type": "markdown",
   "metadata": {
    "vscode": {
     "languageId": "raw"
    }
   },
   "source": [
    "---\n",
    "layout: post\n",
    "title: Sprint 2 - CSA Objectives \n",
    "description:  Student Teach and Software Development Objectives for Sprint 2\n",
    "type: issues \n",
    "courses: { csa: {week: 7} }\n",
    "comments: true\n",
    "---"
   ]
  },
  {
   "cell_type": "markdown",
   "metadata": {},
   "source": [
    "## Issues\n",
    "Teacher and Peer evaluation are critical to our success and improvements.   Be sure to support meeting objectives by providing feedback and acting on feedback received."
   ]
  },
  {
   "cell_type": "markdown",
   "metadata": {},
   "source": [
    "## Student Teaching - Part 1 Fundamentals\n",
    "\n",
    "Students will engage in lesson preparation, teaching, and grading. This activity is often called \"Team Teach\". The process and purpose are as follows:\n",
    "\n",
    "1. Learn Units #1-#10 from the College Board.\n",
    "2. Build a lesson using Java for each of the topics provided by the teacher's starters.\n",
    "3. The lesson should include a Tech Talk portion, popcorn hacks, and homework hacks. The lesson should NOT have more than 5 minutes of talking before engaging students in an activity (e.g., popcorn hacks).\n",
    "4. Be prepared to grade homework. This means having a plan for homework and a plan for grading the homework. You will grade on a \"1-point\" scale. Weight popcorn hacks and homework hacks in the grading.\n",
    "5. Lesson time will be between 20 and 30 minutes. Homework time should be about the same as lesson time."
   ]
  },
  {
   "cell_type": "markdown",
   "metadata": {},
   "source": [
    "### Lesson Building \n",
    "\n",
    "#### Grading Guideline\n",
    "- 55% is minimum per item\n",
    "- 75% is mostly done\n",
    "- 85% is complete\n",
    "- 90% is maximum perfection\n",
    "\n",
    "| **Assignment**             | **Points**    | **Grade** | **Evidence** |\n",
    "|----------------------------|---------------|-----------|--------------|\n",
    "| Pull Request (Integration) | 2             |      1.7     |       [Original Pull Request](https://github.com/nighthawkcoders/portfolio_2025/pull/96) and [Editted Pull Request](https://github.com/nighthawkcoders/portfolio_2025/pull/142)   <img width=\"1427\" alt=\"Screenshot 2024-10-10 at 10 27 48 AM\" src=\"https://github.com/user-attachments/assets/4b051499-137d-4a82-944e-7826c581aa20\"> |\n",
    "| Relevancy Checklist (Peer) | 2             |    **1.83**/2.00 = 165/180       |   Peer review with Aditya and Saaras.    ![image](https://github.com/user-attachments/assets/2c6249f2-77d6-43e7-add4-687ffe49bef9) ![image](https://github.com/user-attachments/assets/52779ac5-dac1-403a-8c35-f61b1f118bb5)      |\n",
    "| Lesson (Group)             | 1             |     0.91      |     <img width=\"1316\" alt=\"Screenshot 2024-10-09 at 12 58 26 PM\" src=\"https://github.com/user-attachments/assets/3ac2840f-cd01-47b3-8996-28b5784f0e7f\">          |\n",
    "| Homework, Popcorn Hacks    | 1 x 8         |    7.08/8.0       |    [Grading Lists](https://docs.google.com/spreadsheets/d/1sGQtZm9GI2Rze5F7Eh_P1CMNO8Fyag4bCtOT0ddARmc/edit?gid=0#gid=0).         |\n",
    "| Individual Contribution    | 1             |      0.90     |     [My Commits in GitHub](https://github.com/DrishyaMody/TeamTeachP3/commits/main/?author=JasonGuan1012). Have all the things that help more students to understand the content including visual representations, example codes, comments for codes, and the theories of the basics of the contents.     [My contributions in the blog](https://nighthawkcoders.github.io/portfolio_2025/csa/unit7-p3/unit7-4)   |\n",
    "| Personal Notebooks / Blogs | 1             |       0.9    |       [My notebooks](https://github.com/JasonGuan1012/jgCSA_2025/tree/main/_notebooks/TeamTeaches), Here you will see I organized every team teaches that we had over the weeks including the unit that we need to self study on.       |\n",
    "| Total                      | 12            |           |              |\n",
    "\n",
    "<br><br><br>\n",
    "\n",
    "| **Skill**                  | **Points**    | **Grade** | **Evidence** |\n",
    "|----------------------------|---------------|-----------|--------------|\n",
    "| Work Habits (Analytics)    |   1           |     0.89      |     <img width=\"828\" alt=\"Screenshot 2024-10-09 at 12 49 52 PM\" src=\"https://github.com/user-attachments/assets/8d71cbab-398a-4aad-8fec-9d432e2df86a\">         |\n",
    "| Team Planning (Issue)      |   1           |     0.86      |    [Team Planning Issue](https://github.com/DrishyaMody/TeamTeachP3/issues/1) - The planning issue was well organized and well planned.....      |\n",
    "| Presentation Memories      |   1           |     0.94      |    Overall great memories, we practiced our team teaching during office hours and also created a group chat to communicate and we all kept track of upcoming events such as the tasks that we needed to accomplish, etc... ![image](https://github.com/user-attachments/assets/f85e9b64-9c6c-4c40-9cd4-300539c2b824)         |\n",
    "| Grading and Feedback       |   1           |     TBD      |    <img width=\"1316\" alt=\"Screenshot 2024-10-09 at 12 58 26 PM\" src=\"https://github.com/user-attachments/assets/3ac2840f-cd01-47b3-8996-28b5784f0e7f\">          |\n",
    "| Beyond Perfunctory         |   1           |     0.9      |   We all came together and brought the Unit 7 TeamTeach and overall I'd say it was a pretty good experience, not only learning the basics that we were going to teach but also developing the teamwork and cooperation throughout the whole TeamTeach unit :)         | \n",
    "| Total                      |   5           |    TBD       |              |\n",
    "\n"
   ]
  },
  {
   "cell_type": "markdown",
   "metadata": {},
   "source": [
    "### Lesson Review - Topic Relevancy (Stdent Review)\n",
    "\n",
    "Peer review checklist.  Guideance\n",
    "\n",
    "- Scurm Master should coordinate.\n",
    "\n",
    "- Peer grading should be coordinated in Slack, if there are any issues.\n",
    "\n",
    "- Lesson providers will receive reviews from a peers in another class, doing the same topic, by enabling Utterances on your topic(s).\n",
    "\n",
    "- Peer graders will grade on Utterances.  Be sure two people provide a review to every section of lesson (ie 2 reviews on intro, 2 reviews on .1, 2 reviews on .2, ...).  \n",
    "\n",
    "- Assingments are to review corresponding topics in other classes where possible.  Otherwise review topic that does not match one taught in classroom.\n",
    "\n",
    "Note 1. **Student reviewers will be evaluated on how and if you perform a review** \n",
    "Note 2. **Student lesson providers will be evaluated if they improve lesson based off of feedback.  Remebmer/document your changes**\n",
    "\n",
    "\n",
    "#### Relevancy Checklist\n",
    "\n",
    "| **Assignment**          | **Weightage** | **Grade** | **Comments** |\n",
    "|-------------------------|---------------|-----------|--------------|\n",
    "| College Board Coverage  | 20            | 18       |Covered most of the collegeboard concepts in depth, great summary and explanations.|\n",
    "| Java Examples           | 30            | 27.5 | Great classic collegeboard examples that help students understand what it looks like, although it would be better to have some more examples, like a couple questions from past papers related to sorting.|\n",
    "| Popcorn Hack Usage      | 10            | 9.4 | Great popcorn hack involving sorting the ducks with either insertion or selection sort. It would definitely be better to have one more though.|\n",
    "| Homework                | 10            | 9.8 |The homework had great and relevant coverage from the lesson.|\n",
    "| Grading Plan            | 10            | 9.5 | Grading plan is complete and organized.|\n",
    "| Original and Creative    | 10            | 9.8      | It's a great thing that you used several pictures and examples to help students deepen their understanding of sorting, helping them visualize. Sorting is not easy at first, so your pictures were very helpful in understanding how exactly it works. Your part of the lesson is also really organized.|\n",
    "| Total                  | **90**        |     84      |In conclusion, Jason did a great job overall! He was able to summarize the three videos of his part and combine it into one part of the lesson effectively and concisely. He provided examples and pictures which were very helpful in understanding the sorting concepts. One thing to improve on is making the page a little more interactive. I also really liked the lesson home page which involved the ArrayList bubbles. It was super cool! |"
   ]
  }
 ],
 "metadata": {
  "language_info": {
   "name": "python"
  }
 },
 "nbformat": 4,
 "nbformat_minor": 2
}
