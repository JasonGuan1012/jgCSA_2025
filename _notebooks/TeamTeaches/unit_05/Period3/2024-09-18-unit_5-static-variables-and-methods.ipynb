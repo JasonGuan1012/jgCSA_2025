{
 "cells": [
  {
   "cell_type": "raw",
   "metadata": {
    "vscode": {
     "languageId": "raw"
    }
   },
   "source": [
    "---\n",
    "layout: post\n",
    "toc: true\n",
    "title: Static Variables and Methods\n",
    "categories: ['DevOps']\n",
    "Authors: Aashray, Lilian, Matthew, Tara, and Trevor\n",
    "menu: nav/unit5_teamteach.html\n",
    "---"
   ]
  },
  {
   "cell_type": "markdown",
   "metadata": {},
   "source": [
    "<img src=\"https://github.com/user-attachments/assets/526e3a43-a642-4112-8b33-8038b57832cd\">"
   ]
  },
  {
   "cell_type": "markdown",
   "metadata": {},
   "source": [
    "## What are static variables?\n",
    "> Static variables: belong to the class rather than a particular instance. \n",
    "- These types of variables are variables shared across all instances of a class."
   ]
  },
  {
   "cell_type": "code",
   "execution_count": 13,
   "metadata": {
    "vscode": {
     "languageId": "java"
    }
   },
   "outputs": [
    {
     "name": "stdout",
     "output_type": "stream",
     "text": [
      "Total gadgets made: 3\n"
     ]
    }
   ],
   "source": [
    "import java.util.ArrayList;\n",
    "import java.util.List;\n",
    "\n",
    "public class Gadget {\n",
    "    public static int totalGadgets = 0;  // Static variable to track total gadgets made\n",
    "    private String gadgetName;  // Instance variable to store the name of the gadget\n",
    "    //public static List<Gadget> gadgetsList = new ArrayList<>();  // Static list to track all gadgets\n",
    "\n",
    "    // Constructor to set the gadget name and increment totalGadgets\n",
    "    public Gadget(String gadgetName) {\n",
    "        this.gadgetName = gadgetName;\n",
    "        totalGadgets++;  // Increment the total gadgets count\n",
    "        // gadgetsList.add(this);  // Add this gadget to the static list\n",
    "    }\n",
    "\n",
    "}\n",
    "// In the Main class:\n",
    "public class Main {\n",
    "    public static void main(String[] args) {\n",
    "        // Create three gadgets\n",
    "        Gadget g1 = new Gadget(\"Freeze Ray\");\n",
    "        Gadget g2 = new Gadget(\"Banana Blaster\");\n",
    "        Gadget g3 = new Gadget(\"Lipstick Taser\");\n",
    "\n",
    "        // Print the total number of gadgets\n",
    "        System.out.println(\"Total gadgets made: \" + Gadget.totalGadgets);\n",
    "    }\n",
    "}\n",
    "\n",
    "Main.main(null);\n"
   ]
  },
  {
   "cell_type": "markdown",
   "metadata": {},
   "source": [
    "## Cool, but why did I have to use a static variable?\n",
    "- The totalGadgets was made as a static variable because it is tracking data that is shared across **all instances** of the Gadget class.\n",
    "- If totalGadgets was an instance variable, then it would always be 1 since it would only reflect how many gadgets are in the specific instance."
   ]
  },
  {
   "cell_type": "markdown",
   "metadata": {},
   "source": [
    "## Popcorn hacks:\n",
    "- Look at some of the code I've commented out and try experimenting with gadgetsList if you want. Otherwise, just make a static variable that serves a purpose in the program."
   ]
  },
  {
   "cell_type": "code",
   "execution_count": 1,
   "metadata": {
    "vscode": {
     "languageId": "java"
    }
   },
   "outputs": [
    {
     "name": "stdout",
     "output_type": "stream",
     "text": [
      "Total minions: 2\n"
     ]
    }
   ],
   "source": [
    "public class Minion {\n",
    "    // Static variable to count the number of minions\n",
    "    public static int minionCount = 0;\n",
    "\n",
    "    // Instance variables\n",
    "    private String name;\n",
    "\n",
    "    // Constructor\n",
    "    public Minion(String name) {\n",
    "        this.name = name;\n",
    "        minionCount++; // Increase count whenever a new minion is created\n",
    "    }\n",
    "\n",
    "    // Method to get the total number of minions\n",
    "    public static int getMinionCount() {\n",
    "        return minionCount;\n",
    "    }\n",
    "\n",
    "    public static void main(String[] args) {\n",
    "        // Create some minions\n",
    "        Minion kevin = new Minion(\"Kevin\");\n",
    "        Minion stuart = new Minion(\"Stuart\");\n",
    "\n",
    "        // Print the total number of minions\n",
    "        System.out.println(\"Total minions: \" + Minion.getMinionCount());\n",
    "    }\n",
    "}\n",
    "\n",
    "Minion.main(null);"
   ]
  },
  {
   "cell_type": "markdown",
   "metadata": {},
   "source": [
    "## What are static methods?\n",
    "> Static methods are associated with the class and not any object of the class\n",
    "- Static methods can only directly access other static methods and static variables of the class. \n",
    "- They cannot use the \"this\" keyword because they don't belong to any instance."
   ]
  },
  {
   "cell_type": "markdown",
   "metadata": {},
   "source": [
    "## Here's an example:"
   ]
  },
  {
   "cell_type": "code",
   "execution_count": 14,
   "metadata": {
    "vscode": {
     "languageId": "java"
    }
   },
   "outputs": [
    {
     "name": "stdout",
     "output_type": "stream",
     "text": [
      "Total gadgets made: 3\n",
      "Gadgets created:\n",
      "- Freeze Ray\n",
      "- Banana Blaster\n",
      "- Lipstick Taser\n"
     ]
    }
   ],
   "source": [
    "import java.util.ArrayList;\n",
    "import java.util.List;\n",
    "\n",
    "public class Gadget {\n",
    "    public static int totalGadgets = 0;  // Static variable to track total gadgets made\n",
    "    private String gadgetName;  // Instance variable to store the name of the gadget\n",
    "    public static List<Gadget> gadgetsList = new ArrayList<>();  // Static list to track all gadgets\n",
    "\n",
    "    // Constructor to set the gadget name and increment totalGadgets\n",
    "    public Gadget(String gadgetName) {\n",
    "        this.gadgetName = gadgetName;\n",
    "        totalGadgets++;  // Increment the total gadgets count\n",
    "        gadgetsList.add(this);  // Add this gadget to the static list\n",
    "    }\n",
    "\n",
    "    // Getter for the gadget name\n",
    "    public String getGadgetName() {\n",
    "        return gadgetName;\n",
    "    }\n",
    "\n",
    "    // Static method to print all gadgets in the list\n",
    "    public static void printAllGadgets() {\n",
    "        System.out.println(\"Gadgets created:\");\n",
    "        for (int i = 0; i < gadgetsList.size(); i++) {\n",
    "            System.out.println(\"- \" + gadgetsList.get(i).getGadgetName());\n",
    "        }\n",
    "    }\n",
    "}\n",
    "\n",
    "// In the Main class:\n",
    "public class Main {\n",
    "    public static void main(String[] args) {\n",
    "        // Create three gadgets\n",
    "        Gadget g1 = new Gadget(\"Freeze Ray\");\n",
    "        Gadget g2 = new Gadget(\"Banana Blaster\");\n",
    "        Gadget g3 = new Gadget(\"Lipstick Taser\");\n",
    "\n",
    "        // Print the total number of gadgets\n",
    "        System.out.println(\"Total gadgets made: \" + Gadget.totalGadgets);\n",
    "\n",
    "        // Print all gadgets stored in the static list\n",
    "        Gadget.printAllGadgets();\n",
    "    }\n",
    "}\n",
    "\n",
    "Main.main(null);\n"
   ]
  },
  {
   "cell_type": "markdown",
   "metadata": {},
   "source": [
    "## Why did I use a static method?\n",
    "- Static methods can only directly access other static variables and methods, such as gadgetsList\n",
    "- I needed to print inforamtion about all instances of the Gadget class, which applied to the entire class as a whole."
   ]
  },
  {
   "cell_type": "markdown",
   "metadata": {
    "vscode": {
     "languageId": "java"
    }
   },
   "source": [
    "## Popcorn hack:\n",
    "Dr. Nefario and Gru need to calculate the cost of their equipment to remain under the budget for this year! Add a second parameter to the Gadget constructor to include cost for Gadget instances, and make a static method to calculate the price of all gadgets that have been made so far."
   ]
  },
  {
   "cell_type": "code",
   "execution_count": 2,
   "metadata": {
    "vscode": {
     "languageId": "java"
    }
   },
   "outputs": [
    {
     "name": "stdout",
     "output_type": "stream",
     "text": [
      "Total cost of all gadgets: $2001.24\n"
     ]
    }
   ],
   "source": [
    "public class Gadget {\n",
    "    // Instance variables\n",
    "    private String name;\n",
    "    private double cost;\n",
    "\n",
    "    // Static variable to keep track of total cost\n",
    "    public static double totalCost = 0;\n",
    "\n",
    "    // Constructor to initialize name and cost of each gadget\n",
    "    public Gadget(String name, double cost) {\n",
    "        this.name = name;\n",
    "        this.cost = cost;\n",
    "        totalCost += cost; // Add the cost of this gadget to the total cost\n",
    "    }\n",
    "\n",
    "    // Static method to get the total cost of all gadgets\n",
    "    public static double getTotalCost() {\n",
    "        return totalCost;\n",
    "    }\n",
    "\n",
    "    public static void main(String[] args) {\n",
    "        // Create some gadgets with name and cost\n",
    "        Gadget laserGun = new Gadget(\"Laser Gun\", 500.50);\n",
    "        Gadget jetpack = new Gadget(\"Jetpack\", 1200.75);\n",
    "        Gadget bananaLauncher = new Gadget(\"Banana Launcher\", 299.99);\n",
    "\n",
    "        // Print the total cost of all gadgets\n",
    "        System.out.println(\"Total cost of all gadgets: $\" + Gadget.getTotalCost());\n",
    "    }\n",
    "}\n",
    "Gadget.main(null);\n"
   ]
  }
 ],
 "metadata": {
  "kernelspec": {
   "display_name": "java (IJava/j!)",
   "language": "java",
   "name": "jbang-ijava"
  },
  "language_info": {
   "codemirror_mode": "java",
   "file_extension": ".jshell",
   "mimetype": "text/x-java-source",
   "name": "Java",
   "pygments_lexer": "java",
   "version": "17.0.12+7-Ubuntu-1ubuntu222.04"
  }
 },
 "nbformat": 4,
 "nbformat_minor": 2
}
