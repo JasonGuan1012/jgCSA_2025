{
 "cells": [
  {
   "cell_type": "raw",
   "metadata": {
    "vscode": {
     "languageId": "raw"
    }
   },
   "source": [
    "---\n",
    "layout: post\n",
    "title: Homework\n",
    "description: Unit 5 Homework (Period 3)\n",
    "toc: True\n",
    "categories: ['DevOps']\n",
    "menu: nav/unit5_teamteach.html\n",
    "---"
   ]
  },
  {
   "cell_type": "markdown",
   "metadata": {},
   "source": [
    "## Hack 1\n",
    "Gru has just recently stopped El Macho from destroying the world. But now, Gru needs to separate the leftover purple minions and the yellow minions so that he can cure the infected minions. He then needs to organize the minions in terms of recovery time and usefulness. To do this, Gru needs you to make a minion class with the instance variables ``color, name, energy levels, gadgets, hair, height``\n",
    "\n",
    "## Hack 2\n",
    "Now Gru needs you to make a default constructor for all the NPC minions. Assign each default minion a default color,name,energy level, gadget, hair, and height. \n",
    "\n",
    "## Hack 3\n",
    "Now please make a parameterized constructor to create the main-character minions easily.\n",
    "\n",
    "## Hack 4\n",
    "Create three minions and print out their values(color, name, energy levels, gadgets, hair, height)\n",
    "\n",
    "## Hack 5\n",
    "Gru wants to make sure his workers are not overworked as per OSHA. So, Gru wants you to print out the average energy levels of all his Minions. (Hint: you should use static variables) \n",
    "\n",
    "## For 0.90+\n",
    "Dr. Nefario is trying to assign a recovery time for each minion! Minions who were purple and got cured are very tired, and so are a lot of minions with low energy levels. Create a simple algorithm to calculate how long each minion needs to recover based on their color and energy levels.\n"
   ]
  },
  {
   "cell_type": "markdown",
   "metadata": {},
   "source": [
    "# Hack 1"
   ]
  },
  {
   "cell_type": "code",
   "execution_count": 9,
   "metadata": {
    "vscode": {
     "languageId": "java"
    }
   },
   "outputs": [
    {
     "name": "stdout",
     "output_type": "stream",
     "text": [
      "Color: Yellow, Name: Dave, Energy Level: 80, Gadget: Laser Gun, Hair: Short, Height: 3.5\n"
     ]
    }
   ],
   "source": [
    "public class Minion {\n",
    "    // Instance variables\n",
    "    private String color;\n",
    "    private String name;\n",
    "    private int energyLevel;\n",
    "    private String gadget;\n",
    "    private String hair;\n",
    "    private double height;\n",
    "\n",
    "    // Constructor\n",
    "    public Minion(String color, String name, int energyLevel, String gadget, String hair, double height) {\n",
    "        this.color = color;\n",
    "        this.name = name;\n",
    "        this.energyLevel = energyLevel;\n",
    "        this.gadget = gadget;\n",
    "        this.hair = hair;\n",
    "        this.height = height;\n",
    "    }\n",
    "\n",
    "    // Getter method to return minion details\n",
    "    public String getDetails() {\n",
    "        return \"Color: \" + color + \", Name: \" + name + \", Energy Level: \" + energyLevel + \", Gadget: \" + gadget + \", Hair: \" + hair + \", Height: \" + height;\n",
    "    }\n",
    "\n",
    "    // Main method to run the program\n",
    "    public static void main(String[] args) {\n",
    "        // Creating a Minion object\n",
    "        Minion minion = new Minion(\"Yellow\", \"Dave\", 80, \"Laser Gun\", \"Short\", 3.5);\n",
    "\n",
    "        // Displaying the minion's details\n",
    "        System.out.println(minion.getDetails());\n",
    "    }\n",
    "}\n",
    "\n",
    "\n",
    "\n",
    "Minion.main(null);"
   ]
  },
  {
   "cell_type": "markdown",
   "metadata": {},
   "source": [
    "# Hack 2"
   ]
  },
  {
   "cell_type": "code",
   "execution_count": 10,
   "metadata": {
    "vscode": {
     "languageId": "java"
    }
   },
   "outputs": [
    {
     "name": "stdout",
     "output_type": "stream",
     "text": [
      "Minion details:\n",
      "Name: Bob\n",
      "Color: Yellow\n",
      "Energy Level: 100\n",
      "Gadget: None\n",
      "Hair: None\n",
      "Height: 3.0 feet\n"
     ]
    }
   ],
   "source": [
    "public class Minion {\n",
    "    // Attributes\n",
    "    String color;\n",
    "    String name;\n",
    "    int energyLevel;\n",
    "    String gadget;\n",
    "    String hair;\n",
    "    double height;\n",
    "\n",
    "    // Default constructor\n",
    "    public Minion() {\n",
    "        this.color = \"Yellow\";\n",
    "        this.name = \"Bob\";\n",
    "        this.energyLevel = 100;\n",
    "        this.gadget = \"None\";\n",
    "        this.hair = \"None\";\n",
    "        this.height = 3.0; // Height in feet\n",
    "    }\n",
    "\n",
    "    // Main method to test the Minion class\n",
    "    public static void main(String[] args) {\n",
    "        // Create a Minion object using the default constructor\n",
    "        Minion minion = new Minion();\n",
    "\n",
    "        // Output the details of the Minion object\n",
    "        System.out.println(\"Minion details:\");\n",
    "        System.out.println(\"Name: \" + minion.name);\n",
    "        System.out.println(\"Color: \" + minion.color);\n",
    "        System.out.println(\"Energy Level: \" + minion.energyLevel);\n",
    "        System.out.println(\"Gadget: \" + minion.gadget);\n",
    "        System.out.println(\"Hair: \" + minion.hair);\n",
    "        System.out.println(\"Height: \" + minion.height + \" feet\");\n",
    "    }\n",
    "}\n",
    "\n",
    "\n",
    "Minion.main(null);"
   ]
  },
  {
   "cell_type": "markdown",
   "metadata": {},
   "source": [
    "# Hack 3"
   ]
  },
  {
   "cell_type": "markdown",
   "metadata": {},
   "source": [
    "The parameterized constructor is already implemented in Hack 1, but you can call it while creating instances of the Minion class."
   ]
  },
  {
   "cell_type": "markdown",
   "metadata": {},
   "source": [
    "# Hack 4"
   ]
  },
  {
   "cell_type": "code",
   "execution_count": 5,
   "metadata": {
    "vscode": {
     "languageId": "java"
    }
   },
   "outputs": [
    {
     "name": "stdout",
     "output_type": "stream",
     "text": [
      "Color: Purple, Name: Stuart, Energy Level: 80, Gadget: Jetpack, Hair: Spiky, Height: 4.0\n",
      "Color: Yellow, Name: Kevin, Energy Level: 90, Gadget: Laser Gun, Hair: None, Height: 3.5\n",
      "Color: Purple, Name: Bob, Energy Level: 70, Gadget: Banana Launcher, Hair: Curly, Height: 3.2\n"
     ]
    }
   ],
   "source": [
    "public class Main {\n",
    "    public static void main(String[] args) {\n",
    "        // Creating three minions\n",
    "        Minion minion1 = new Minion(\"Purple\", \"Stuart\", 80, \"Jetpack\", \"Spiky\", 4.0);\n",
    "        Minion minion2 = new Minion(\"Yellow\", \"Kevin\", 90, \"Laser Gun\", \"None\", 3.5);\n",
    "        Minion minion3 = new Minion(\"Purple\", \"Bob\", 70, \"Banana Launcher\", \"Curly\", 3.2);\n",
    "\n",
    "        // Print details of the minions\n",
    "        System.out.println(minion1.getDetails());\n",
    "        System.out.println(minion2.getDetails());\n",
    "        System.out.println(minion3.getDetails());\n",
    "    }\n",
    "}\n",
    "\n",
    "Main.main(null);\n"
   ]
  },
  {
   "cell_type": "markdown",
   "metadata": {},
   "source": [
    "# Hack 5"
   ]
  },
  {
   "cell_type": "code",
   "execution_count": 7,
   "metadata": {
    "vscode": {
     "languageId": "java"
    }
   },
   "outputs": [
    {
     "name": "stdout",
     "output_type": "stream",
     "text": [
      "Average Energy Level: 80.0\n"
     ]
    }
   ],
   "source": [
    "public class Minion {\n",
    "    // Instance variables\n",
    "    private String color;\n",
    "    private String name;\n",
    "    private int energyLevel;\n",
    "    private String gadget;\n",
    "    private String hair;\n",
    "    private double height;\n",
    "\n",
    "    // Static variables to calculate average energy levels\n",
    "    private static int totalEnergy = 0;\n",
    "    private static int minionCount = 0;\n",
    "\n",
    "    // Constructor\n",
    "    public Minion(String color, String name, int energyLevel, String gadget, String hair, double height) {\n",
    "        this.color = color;\n",
    "        this.name = name;\n",
    "        this.energyLevel = energyLevel;\n",
    "        this.gadget = gadget;\n",
    "        this.hair = hair;\n",
    "        this.height = height;\n",
    "\n",
    "        totalEnergy += energyLevel;\n",
    "        minionCount++;\n",
    "    }\n",
    "\n",
    "    // Method to calculate average energy level\n",
    "    public static double getAverageEnergyLevel() {\n",
    "        return (minionCount > 0) ? (double) totalEnergy / minionCount : 0;\n",
    "    }\n",
    "}\n",
    "\n",
    "// In the main class\n",
    "public class Main {\n",
    "    public static void main(String[] args) {\n",
    "        // Create three minions\n",
    "        Minion minion1 = new Minion(\"Purple\", \"Stuart\", 80, \"Jetpack\", \"Spiky\", 4.0);\n",
    "        Minion minion2 = new Minion(\"Yellow\", \"Kevin\", 90, \"Laser Gun\", \"None\", 3.5);\n",
    "        Minion minion3 = new Minion(\"Purple\", \"Bob\", 70, \"Banana Launcher\", \"Curly\", 3.2);\n",
    "\n",
    "        // Print the average energy level of all minions\n",
    "        System.out.println(\"Average Energy Level: \" + Minion.getAverageEnergyLevel());\n",
    "    }\n",
    "}\n",
    "\n",
    "\n",
    "Main.main(null);"
   ]
  }
 ],
 "metadata": {
  "kernelspec": {
   "display_name": "java (IJava/j!)",
   "language": "java",
   "name": "jbang-ijava"
  },
  "language_info": {
   "codemirror_mode": "java",
   "file_extension": ".jshell",
   "mimetype": "text/x-java-source",
   "name": "Java",
   "pygments_lexer": "java",
   "version": "17.0.12+7-Ubuntu-1ubuntu222.04"
  }
 },
 "nbformat": 4,
 "nbformat_minor": 2
}
