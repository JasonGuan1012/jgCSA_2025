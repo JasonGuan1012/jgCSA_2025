{
 "cells": [
  {
   "cell_type": "markdown",
   "metadata": {},
   "source": [
    "---\n",
    "layout: post\n",
    "title: Unit 4 - HW Quiz\n",
    "toc: True\n",
    "courses: {csa: {week: 6}}\n",
    "menu: nav/unit4_teamteach.html\n",
    "categories: ['DevOps']\n",
    "author: hanlun, saaras, arthur, miheer, eshaan, beijan\n",
    "---"
   ]
  },
  {
   "cell_type": "markdown",
   "metadata": {},
   "source": [
    "## Unit 4 - Iteration:\n",
    "- This is the homework quiz for unit 4, iterations\n",
    "- 4 multiple choice questions\n",
    "- 2 programming hacks\n",
    "- 1 bonus programming hack (required to get above 0.9)"
   ]
  },
  {
   "cell_type": "markdown",
   "metadata": {},
   "source": [
    "### Question 1:\n",
    "What does the following code print?   \n",
    "\n",
    "A. 5 6 7 8 9   \n",
    "\n",
    "B. 4 5 6 7 8 9 10 11 12   \n",
    "\n",
    "C. 3 5 7 9 11   \n",
    "\n",
    "D. 3 4 5 6 7 8 9 10 11 12   \n",
    "\n",
    "<details>\n",
    "<summary>Click to reveal answer:</summary> \n",
    "  D\n",
    "</details>\n",
    "\n",
    "Explain your answer. (explanation is graded not answer)"
   ]
  },
  {
   "cell_type": "markdown",
   "metadata": {},
   "source": [
    "##### ⬆️⬆️⬆️ Answering\n",
    "\n",
    "\n",
    "It's **D** because we can first eliminate A and B because those both didn't start with a 3. Then we can eliminate C because in D, the code prints the numbers that is starting from 3 and incrementing by 1 and then end with a 12, unlike in C, it skips part of the numbers from 3 to 12.\n",
    "\n"
   ]
  },
  {
   "cell_type": "code",
   "execution_count": null,
   "metadata": {
    "vscode": {
     "languageId": "java"
    }
   },
   "outputs": [],
   "source": [
    "for (int i = 3; i <= 12; i++) {\n",
    "   System.out.print(i + \" \");\n",
    "}"
   ]
  },
  {
   "cell_type": "markdown",
   "metadata": {},
   "source": [
    "### Bonus:\n",
    "- Explain the difference between using a variable like i inside a for loop, vs. using a variable that exists in the code itself for a while loop"
   ]
  },
  {
   "cell_type": "markdown",
   "metadata": {},
   "source": [
    "### Question 2:\n",
    "How many times does the following method print a \"*\" ?\n",
    "\n",
    "A. 9\n",
    "\n",
    "B. 7\n",
    "\n",
    "C. 8\n",
    "\n",
    "D. 6\n",
    "\n",
    "<details>\n",
    "<summary>Click to reveal answer:</summary> \n",
    "  C\n",
    "</details>\n",
    "\n",
    "Explain your answer. (explanation is graded not answer)"
   ]
  },
  {
   "cell_type": "markdown",
   "metadata": {},
   "source": [
    "##### ⬆️⬆️⬆️ Answering\n",
    "\n",
    "\n",
    "\n",
    "It's **C** beacuse the loop runs from i=3 to i=10, which means that there will be total of 8 *s. Then each iteration corresponds to one increment, there fore, the loop iterates a total of 8 times."
   ]
  },
  {
   "cell_type": "code",
   "execution_count": null,
   "metadata": {
    "vscode": {
     "languageId": "java"
    }
   },
   "outputs": [],
   "source": [
    "for (int i = 3; i < 11; i++) {\n",
    "   System.out.print(\"*\");\n",
    "}"
   ]
  },
  {
   "cell_type": "markdown",
   "metadata": {},
   "source": [
    "### Question 3:\n",
    "What does the following code print?\n",
    "\n",
    "A. -4 -3 -2 -1 0\n",
    "\n",
    "B. -5 -4 -3 -2 -1\n",
    "\n",
    "C. 5 4 3 2 1\n",
    "\n",
    "<details>\n",
    "<summary>Click to reveal answer:</summary> \n",
    "  A\n",
    "</details>\n",
    "\n",
    "Explain your answer. (explanation is graded not answer)"
   ]
  },
  {
   "cell_type": "markdown",
   "metadata": {},
   "source": [
    "##### ⬆️⬆️⬆️ Answering\n",
    "\n",
    "\n",
    "\n",
    "The correct answer will be **A** since after the first iteration, x is -5 then after the incrementing, the x will becomes -4. The only answer choice that has -4 starting is only option A. Therefore the correct answer is **A**."
   ]
  },
  {
   "cell_type": "code",
   "execution_count": null,
   "metadata": {
    "vscode": {
     "languageId": "java"
    }
   },
   "outputs": [],
   "source": [
    "int x = -5;\n",
    "while (x < 0)\n",
    "{\n",
    "   x++;\n",
    "   System.out.print(x + \" \");\n",
    "}"
   ]
  },
  {
   "cell_type": "markdown",
   "metadata": {},
   "source": [
    "### Question 4:\n",
    "What does the following code print?\n",
    "\n",
    "A. 20\n",
    "\n",
    "B. 21\n",
    "\n",
    "C. 25\n",
    "\n",
    "D. 30\n",
    "\n",
    "<details>\n",
    "<summary>Click to reveal answer:</summary> \n",
    "  B\n",
    "</details>\n",
    "\n",
    "Explain your answer. (explanation is graded not answer)"
   ]
  },
  {
   "cell_type": "markdown",
   "metadata": {},
   "source": [
    "##### ⬆️⬆️⬆️ Answering\n",
    "\n",
    "\n",
    "\n",
    "The correct answer is **B**. This is because that the loop check each value of i from 1 --> 5, and then adding either i itself for the odd numbers or double the value of the i for even numbers. Then it will be 21 in total after a calculation, so therefore, the correct option is **B**."
   ]
  },
  {
   "cell_type": "code",
   "execution_count": null,
   "metadata": {
    "vscode": {
     "languageId": "java"
    }
   },
   "outputs": [],
   "source": [
    "int sum = 0;\n",
    "\n",
    "for (int i = 1; i <= 5; i++) {\n",
    "    if (i % 2 == 0) {\n",
    "        sum += i * 2;\n",
    "    } else {\n",
    "        sum += i;\n",
    "    }\n",
    "}\n",
    "\n",
    "System.out.println(sum);"
   ]
  },
  {
   "cell_type": "markdown",
   "metadata": {},
   "source": [
    "## Loops HW Hack"
   ]
  },
  {
   "cell_type": "markdown",
   "metadata": {},
   "source": [
    "### Easy Hack\n",
    "- Use a while loop to find the numbers from 1-50 that are divisible by 3 or 5, then store them into a list (make sure to print it out at the end)\n",
    "- Use a for loop to do the same thing detailed above"
   ]
  },
  {
   "cell_type": "code",
   "execution_count": 1,
   "metadata": {
    "vscode": {
     "languageId": "java"
    }
   },
   "outputs": [
    {
     "name": "stdout",
     "output_type": "stream",
     "text": [
      "Numbers divisible by 3 or 5 (while loop): [3, 5, 6, 9, 10, 12, 15, 18, 20, 21, 24, 25, 27, 30, 33, 35, 36, 39, 40, 42, 45, 48, 50]\n"
     ]
    }
   ],
   "source": [
    "public class usingWhileLoop {\n",
    "    public static void main(String[] args) {\n",
    "        ArrayList<Integer> numbers = new ArrayList<>();\n",
    "        int i = 1;\n",
    "        \n",
    "        while (i <= 50) {\n",
    "            if (i % 3 == 0 || i % 5 == 0) {\n",
    "                numbers.add(i);\n",
    "            }\n",
    "            i++;\n",
    "        }\n",
    "        \n",
    "        System.out.println(\"Numbers divisible by 3 or 5 (while loop): \" + numbers);\n",
    "    }\n",
    "}\n",
    "\n",
    "usingWhileLoop.main(null);"
   ]
  },
  {
   "cell_type": "code",
   "execution_count": 2,
   "metadata": {
    "vscode": {
     "languageId": "java"
    }
   },
   "outputs": [
    {
     "name": "stdout",
     "output_type": "stream",
     "text": [
      "Numbers divisible by 3 or 5 (for loop): [3, 5, 6, 9, 10, 12, 15, 18, 20, 21, 24, 25, 27, 30, 33, 35, 36, 39, 40, 42, 45, 48, 50]\n"
     ]
    }
   ],
   "source": [
    "public class usingForLOop {\n",
    "    public static void main(String[] args) {\n",
    "        ArrayList<Integer> numbers = new ArrayList<>();\n",
    "        \n",
    "        for (int i = 1; i <= 50; i++) {\n",
    "            if (i % 3 == 0 || i % 5 == 0) {\n",
    "                numbers.add(i);\n",
    "            }\n",
    "        }\n",
    "        \n",
    "        System.out.println(\"Numbers divisible by 3 or 5 (for loop): \" + numbers);\n",
    "    }\n",
    "}\n",
    "\n",
    "usingForLOop.main(null);"
   ]
  },
  {
   "cell_type": "markdown",
   "metadata": {},
   "source": [
    "##### ⬆️⬆️⬆️ Answering"
   ]
  },
  {
   "cell_type": "markdown",
   "metadata": {},
   "source": [
    "### Harder Hack\n",
    "#### Palindromes are numbers that have the same value when reversed (ex: “123321” or “323”). Create a program that uses a while loop that outputs all palindromes in any given list. \n",
    "\n",
    "Sample Input: \n",
    "test_list = [5672, 235, 5537, 6032, 317, 8460, 1672, 8104, 7770, 4442, 913, 2508, 1116, 9969, 9091, 522, 8756, 9527, 7968, 1520, 4444, 515, 2882, 6556, 595]\n",
    "\n",
    "Sample Output:\n",
    "4444, 515, 2882, 6556, 595"
   ]
  },
  {
   "cell_type": "code",
   "execution_count": 4,
   "metadata": {
    "vscode": {
     "languageId": "java"
    }
   },
   "outputs": [
    {
     "name": "stdout",
     "output_type": "stream",
     "text": [
      "4444 515 2882 6556 595 "
     ]
    }
   ],
   "source": [
    "public class PalindromeFinder {\n",
    "    public static void main(String[] args) {\n",
    "        int[] testList = {5672, 235, 5537, 6032, 317, 8460, 1672, 8104, 7770, 4442, \n",
    "                          913, 2508, 1116, 9969, 9091, 522, 8756, 9527, 7968, 1520, \n",
    "                          4444, 515, 2882, 6556, 595};\n",
    "        \n",
    "        // creating a new arraylist to store the palindromes\n",
    "        ArrayList<Integer> palindromes = new ArrayList<>();\n",
    "        \n",
    "        int i = 0;\n",
    "        \n",
    "        while (i < testList.length) {\n",
    "            if (isPalindrome(testList[i])) {\n",
    "                palindromes.add(testList[i]); \n",
    "            }\n",
    "            i++; // The increment the index\n",
    "        }\n",
    "        \n",
    "        // printing the palindromes\n",
    "        for (int num : palindromes) {\n",
    "            System.out.print(num + \" \");\n",
    "        }\n",
    "    }\n",
    "    \n",
    "    // the helper method to check if a number is a palindrome or not\n",
    "    public static boolean isPalindrome(int num) {\n",
    "        int originalNum = num;\n",
    "        int reversedNum = 0;\n",
    "        \n",
    "        // Reverse the number\n",
    "        while (num > 0) {\n",
    "            int digit = num % 10;\n",
    "            reversedNum = reversedNum * 10 + digit;\n",
    "            num /= 10;\n",
    "        }\n",
    "        \n",
    "        // checking if the original number is = to the reversed number\n",
    "        return originalNum == reversedNum;\n",
    "    }\n",
    "}\n",
    "\n",
    "\n",
    "PalindromeFinder.main(null);"
   ]
  },
  {
   "cell_type": "markdown",
   "metadata": {},
   "source": [
    "##### ⬆️⬆️⬆️ Answering"
   ]
  },
  {
   "cell_type": "markdown",
   "metadata": {},
   "source": [
    "## Bonus Hack (for above 0.9)\n",
    "### Use a for loop to output a spiral matrix with size n\n",
    "Example:\n",
    "\n",
    "Sample Input: n = 3\n",
    "\n",
    "Output: [[1, 2, 3], [8, 9, 4], [7, 6, 5]]"
   ]
  },
  {
   "cell_type": "code",
   "execution_count": null,
   "metadata": {
    "vscode": {
     "languageId": "java"
    }
   },
   "outputs": [],
   "source": []
  }
 ],
 "metadata": {
  "kernelspec": {
   "display_name": "Java",
   "language": "java",
   "name": "java"
  },
  "language_info": {
   "codemirror_mode": "java",
   "file_extension": ".jshell",
   "mimetype": "text/x-java-source",
   "name": "Java",
   "pygments_lexer": "java",
   "version": "17.0.12+0"
  }
 },
 "nbformat": 4,
 "nbformat_minor": 2
}
