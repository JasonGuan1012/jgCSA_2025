{
 "cells": [
  {
   "cell_type": "markdown",
   "metadata": {
    "vscode": {
     "languageId": "raw"
    }
   },
   "source": [
    "---\n",
    "layout: post\n",
    "title: Unit 6.3 Lesson\n",
    "type: collab \n",
    "toc: true\n",
    "courses: {csa: {week: 4}}\n",
    "type: ccc\n",
    "categories: ['DevOps']\n",
    "---"
   ]
  },
  {
   "cell_type": "markdown",
   "metadata": {},
   "source": [
    "> # Enhanced For Loop (For-each)\n",
    "\n",
    "An enhanced For Loop is a simplified version of a regular for loop, where the coder doesn't need to specify the increment and can access each element directly.\n",
    "\n",
    "### Pros\n",
    "  - Can access the elements of a array instad of a counter\n",
    "  - Enhanced readability\n",
    "  - Less likely to be buggy\n",
    "\n",
    "### Cons\n",
    "  - Can only traverse the array in order\n",
    "  - Accesses a copy of the array, so modifications to the variables are not saved in the original array"
   ]
  },
  {
   "cell_type": "markdown",
   "metadata": {},
   "source": [
    "## Regular For Loop\n",
    "![Regular For Loop](https://media.geeksforgeeks.org/wp-content/uploads/20231221155254/cpp-for-loop.png)\n",
    "\n",
    "## Enhanced For Loop\n",
    "![Enhanced For Loop](https://swcarpentry.github.io/python-novice-inflammation/fig/05-loops_image_num.png)"
   ]
  },
  {
   "cell_type": "code",
   "execution_count": 6,
   "metadata": {
    "vscode": {
     "languageId": "java"
    }
   },
   "outputs": [
    {
     "name": "stdout",
     "output_type": "stream",
     "text": [
      "11\n",
      "21\n",
      "31\n",
      "41\n",
      "51\n",
      "[10, 20, 30, 40, 50]\n"
     ]
    }
   ],
   "source": [
    "int[] numbers = {10, 20, 30, 40, 50};\n",
    "for (int number : numbers) {\n",
    "    number += 1;\n",
    "    System.out.println(number);\n",
    "};\n",
    "\n",
    "System.out.println(Arrays.toString(numbers))"
   ]
  },
  {
   "cell_type": "markdown",
   "metadata": {},
   "source": [
    "## Comparing a regular for loop with the enhanced for loop\n",
    "\n",
    "Popcorn Hack: Rewrite this code to use an enhanced for loop instead. make comments explaining what you added/changed"
   ]
  },
  {
   "cell_type": "code",
   "execution_count": 7,
   "metadata": {
    "vscode": {
     "languageId": "java"
    }
   },
   "outputs": [
    {
     "name": "stdout",
     "output_type": "stream",
     "text": [
      "Java\n",
      "Python\n",
      "Markdown\n",
      "C++\n",
      "Go\n",
      "JavaScript\n",
      "HTML\n"
     ]
    }
   ],
   "source": [
    "String[] languages = {\"Java\", \"Python\", \"Markdown\", \"C++\", \"Go\", \"JavaScript\", \"HTML\"};\n",
    "\n",
    "for (int i = 0; i<languages.length; i++) {\n",
    "    System.out.println(languages[i]);\n",
    "};"
   ]
  },
  {
   "cell_type": "markdown",
   "metadata": {},
   "source": [
    "## Hacks\n",
    "\n",
    "1. Build the loop\n",
    "2. Multiple Choice\n",
    "3. Find each index of the letter 'a' in each word\n",
    "4. Find the error\n",
    "5. HW Hack"
   ]
  },
  {
   "cell_type": "code",
   "execution_count": 16,
   "metadata": {
    "vscode": {
     "languageId": "java"
    }
   },
   "outputs": [
    {
     "name": "stdout",
     "output_type": "stream",
     "text": [
      "Math\n",
      "PE\n",
      "English\n",
      "CSA\n",
      "Science\n"
     ]
    }
   ],
   "source": [
    "public class Main {\n",
    "    public static void main(String[] args) {\n",
    "        // Add an array here\n",
    "        String[] myArray = {\"Math\", \"PE\", \"English\", \"CSA\", \"Science\"};\n",
    "        \n",
    "        // Add a loop to go through the array here\n",
    "        for (String element : myArray) {\n",
    "            System.out.println(element);\n",
    "        }\n",
    "    }\n",
    "}\n",
    "Main.main(null);\n"
   ]
  },
  {
   "cell_type": "code",
   "execution_count": null,
   "metadata": {
    "vscode": {
     "languageId": "java"
    }
   },
   "outputs": [],
   "source": [
    "private String[] myArray = {\n",
    "    \"And\", \"Table\", \"Shirts\", \"Tea\", \"School Day\"\n",
    "};\n",
    "\n",
    "for (String currentWord : myArray) {\n",
    "    // Add code here\n",
    "}\n",
    "\n",
    "A: System.out.println(myArray.currentWord.length());\n",
    "B: System.out.println(myArray[index].length());\n",
    "C: System.out.println(myArray[currentWord].length());\n",
    "D: System.out.println(currentWord.length());\n",
    "//*** IT'S OPTION D ***"
   ]
  },
  {
   "cell_type": "code",
   "execution_count": 12,
   "metadata": {
    "vscode": {
     "languageId": "java"
    }
   },
   "outputs": [],
   "source": [
    "String[] fruits = {\"Apple\", \"Banana\", \"Orange\"};\n",
    "\n",
    "for (String fruit: fruits) {\n",
    "    // Find the index of the letter 'a' in each fruit\n",
    "};"
   ]
  },
  {
   "cell_type": "code",
   "execution_count": 13,
   "metadata": {
    "vscode": {
     "languageId": "java"
    }
   },
   "outputs": [
    {
     "name": "stdout",
     "output_type": "stream",
     "text": [
      "The index of 'a' in Apple is: 0\n",
      "The index of 'a' in Banana is: 1\n",
      "The index of 'a' in Orange is: 2\n"
     ]
    }
   ],
   "source": [
    "public class Main {\n",
    "    public static void main(String[] args) {\n",
    "        String[] fruits = {\"Apple\", \"Banana\", \"Orange\"};\n",
    "        \n",
    "        for (String fruit : fruits) {\n",
    "            // Find the index of the letter 'a' in each fruit\n",
    "            int index = fruit.toLowerCase().indexOf('a');\n",
    "            System.out.println(\"The index of 'a' in \" + fruit + \" is: \" + index);\n",
    "        }\n",
    "    }\n",
    "}\n",
    "Main.main(null);"
   ]
  },
  {
   "cell_type": "code",
   "execution_count": null,
   "metadata": {
    "vscode": {
     "languageId": "java"
    }
   },
   "outputs": [],
   "source": [
    "String[] myArray = {\"Object 1\", \"Object 2\", \"Object 3\", \"Object 4\", \"Object 5\"};\n",
    "\n",
    "for (currentWord: myArray) {\n",
    "    System.out(currentWord)\n",
    "};\n",
    "\n",
    "// There are 3 errors, can you find them?"
   ]
  },
  {
   "cell_type": "code",
   "execution_count": 10,
   "metadata": {
    "vscode": {
     "languageId": "java"
    }
   },
   "outputs": [
    {
     "name": "stdout",
     "output_type": "stream",
     "text": [
      "Object 1Object 2Object 3Object 4Object 5"
     ]
    }
   ],
   "source": [
    "public class Main {\n",
    "    public static void main(String[] args) {\n",
    "        String[] myArray = {\"Object 1\", \"Object 2\", \"Object 3\", \"Object 4\", \"Object 5\"};\n",
    "        \n",
    "        for (String currentWord : myArray) {\n",
    "            System.out.print(currentWord);  // You can use println() if you want each on a new line\n",
    "        }\n",
    "    }\n",
    "}\n",
    "Main.main(null);"
   ]
  },
  {
   "cell_type": "markdown",
   "metadata": {},
   "source": [
    "# Final Hack\n",
    "\n",
    "Add to the code below to create a average grade calculator (using an enhanced for loop)"
   ]
  },
  {
   "cell_type": "code",
   "execution_count": 1,
   "metadata": {
    "vscode": {
     "languageId": "java"
    }
   },
   "outputs": [
    {
     "name": "stdout",
     "output_type": "stream",
     "text": [
      "Enter a grade: [88, 93, 55, 68, 77, 88]\n"
     ]
    }
   ],
   "source": [
    "Integer[] grades = {88, 93, 55, 68, 77};\n",
    "\n",
    "Scanner userGrades = new Scanner(System.in);\n",
    "System.out.print(\"Enter a grade: \");\n",
    "int grade = Integer.parseInt(userGrades.nextLine());\n",
    "\n",
    "// Add code here to take the average\n",
    "\n",
    "grades = Arrays.copyOf(grades, grades.length + 1);\n",
    "grades[grades.length - 1] = grade;\n",
    "System.out.println(Arrays.toString(grades));"
   ]
  },
  {
   "cell_type": "markdown",
   "metadata": {},
   "source": [
    "# ***Homework down below...***"
   ]
  },
  {
   "cell_type": "code",
   "execution_count": 9,
   "metadata": {
    "vscode": {
     "languageId": "java"
    }
   },
   "outputs": [
    {
     "name": "stdout",
     "output_type": "stream",
     "text": [
      "Enter a grade: "
     ]
    },
    {
     "name": "stdout",
     "output_type": "stream",
     "text": [
      "Average grade before adding new grade: 76.2\n",
      "Updated grades: [88, 93, 55, 68, 77, 85]\n"
     ]
    }
   ],
   "source": [
    "public class AverageGradeCalculator {\n",
    "    public static void main(String[] args) {\n",
    "        Integer[] grades = {88, 93, 55, 68, 77};\n",
    "\n",
    "        Scanner userGrades = new Scanner(System.in);\n",
    "        System.out.print(\"Enter a grade: \");\n",
    "        int grade = Integer.parseInt(userGrades.nextLine());\n",
    "\n",
    "        // Add code here to take the average\n",
    "        int sum = 0;\n",
    "        for (int g : grades) {\n",
    "            sum += g;  \n",
    "        }\n",
    "        double average = (double) sum / grades.length;\n",
    "        System.out.println(\"Average grade before adding new grade: \" + average);\n",
    "\n",
    "        grades = Arrays.copyOf(grades, grades.length + 1);\n",
    "        grades[grades.length - 1] = grade;\n",
    "        System.out.println(\"Updated grades: \" + Arrays.toString(grades));\n",
    "    }\n",
    "}\n",
    "\n",
    "AverageGradeCalculator.main(null);\n"
   ]
  }
 ],
 "metadata": {
  "kernelspec": {
   "display_name": "java (IJava/j!)",
   "language": "java",
   "name": "jbang-ijava"
  },
  "language_info": {
   "codemirror_mode": "java",
   "file_extension": ".jshell",
   "mimetype": "text/x-java-source",
   "name": "Java",
   "pygments_lexer": "java",
   "version": "17.0.12+7-Ubuntu-1ubuntu222.04"
  },
  "orig_nbformat": 4
 },
 "nbformat": 4,
 "nbformat_minor": 2
}
