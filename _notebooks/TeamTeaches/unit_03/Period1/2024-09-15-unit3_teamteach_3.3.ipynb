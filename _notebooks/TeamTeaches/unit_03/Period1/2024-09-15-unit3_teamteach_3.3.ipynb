{
 "cells": [
  {
   "cell_type": "raw",
   "metadata": {
    "vscode": {
     "languageId": "raw"
    }
   },
   "source": [
    "---\n",
    "layout: post\n",
    "title: Unit 3 Team Teach - 3.3\n",
    "description: Unit 3 Team Teach\n",
    "toc: true\n",
    "courses: {csa: {week: 6}}\n",
    "menu: nav/unit3_teamteach.html\n",
    "categories: ['DevOps']\n",
    "author: Alisha Hussain, Anika Bhatnagar, Kayden Le, Sharon Kodali\n",
    "---"
   ]
  },
  {
   "cell_type": "markdown",
   "metadata": {},
   "source": [
    "# 3.3 If Else Statements\n",
    "\n",
    "<a id=\"if-else-statements\"></a>\n",
    "## Purpose of Else Statements\n",
    "Else statements: Handles what happens when the if condition is false.\n",
    "Structure of If-Else:\n",
    "- If statement with a condition.\n",
    "- Else statement without a condition.\n",
    "- Both parts have code blocks surrounded by {}.\n",
    "\n"
   ]
  },
  {
   "cell_type": "markdown",
   "metadata": {},
   "source": [
    "# don't forget the brackets "
   ]
  },
  {
   "cell_type": "code",
   "execution_count": null,
   "metadata": {
    "vscode": {
     "languageId": "java"
    }
   },
   "outputs": [],
   "source": [
    "int x = 20;\n",
    "if (x > 10) {\n",
    "\n",
    "    console.log(\"x is greater than 10\");\n",
    "    console.log(\"This code when the condition is true\");\n",
    "    } else {\n",
    "    \n",
    "    console.log(\"x is 10 or less\");\n",
    "    console.log(\"This code runs when the condition is false\");\n",
    "}\n",
    "//    Without brackets:\n",
    "        \n",
    "   console.log(\"x is greater than 10\");\n",
    "   console.log(\"this code will always run\");"
   ]
  },
  {
   "cell_type": "markdown",
   "metadata": {},
   "source": [
    "<img width=\"816\" alt=\"image\" src=\"https://github.com/user-attachments/assets/c6701143-b87f-427b-a206-6cee0660571c\">\n",
    "\n",
    "1. Based on this code, if you were younger than 16 what would it print out?\n",
    "2. Write your own if else statement"
   ]
  },
  {
   "cell_type": "markdown",
   "metadata": {},
   "source": [
    "**answer**\n",
    "1. Based on this code, if I was younger than 16, the output should be the second one: \"You are not old enough for a license yet.\"\n",
    "2. ↓↓↓"
   ]
  },
  {
   "cell_type": "code",
   "execution_count": 5,
   "metadata": {
    "vscode": {
     "languageId": "java"
    }
   },
   "outputs": [
    {
     "name": "stdout",
     "output_type": "stream",
     "text": [
      "Current height: 5.7\n",
      "You can ride this dangerous ride in DNHS.\n"
     ]
    }
   ],
   "source": [
    "public static void main(String[] args) {\n",
    "    double myHeight = 5.7;\n",
    "    System.out.println(\"Current height: \" + myHeight);\n",
    "    \n",
    "    if (myHeight >= 5.7) {\n",
    "        System.out.println(\"You can ride this dangerous ride in DNHS.\");\n",
    "    } else {\n",
    "        System.out.println(\"You are not tall enough to ride this dangerous ride in DNHS.\");\n",
    "    }\n",
    "}\n",
    "\n",
    "main(null);\n"
   ]
  }
 ],
 "metadata": {
  "kernelspec": {
   "display_name": "java (IJava/j!)",
   "language": "java",
   "name": "jbang-ijava"
  },
  "language_info": {
   "codemirror_mode": "java",
   "file_extension": ".jshell",
   "mimetype": "text/x-java-source",
   "name": "Java",
   "pygments_lexer": "java",
   "version": "17.0.12+7-Ubuntu-1ubuntu222.04"
  }
 },
 "nbformat": 4,
 "nbformat_minor": 2
}
