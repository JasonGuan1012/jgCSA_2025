{
 "cells": [
  {
   "cell_type": "raw",
   "metadata": {
    "vscode": {
     "languageId": "raw"
    }
   },
   "source": [
    "---\n",
    "layout: post\n",
    "title: Unit 3 Team Teach - 3.2\n",
    "description: Unit 3 Team Teach\n",
    "toc: true\n",
    "courses: {csa: {week: 6}}\n",
    "menu: nav/unit3_teamteach.html\n",
    "categories: ['DevOps']\n",
    "author: Alisha Hussain, Anika Bhatnagar, Kayden Le, Sharon Kodali\n",
    "---"
   ]
  },
  {
   "cell_type": "markdown",
   "metadata": {},
   "source": [
    "# 3.2 If Statements and Control Flow\n",
    "<a id=\"if-statements\"></a>\n",
    "\n",
    "<img width=\"322\" alt=\"Screenshot 2024-09-16 at 8 07 34 AM\" src=\"https://github.com/user-attachments/assets/4409a622-5497-4495-b23c-ad25597e80bf\">\n",
    "<img width=\"319\" alt=\"Screenshot 2024-09-16 at 8 07 41 AM\" src=\"https://github.com/user-attachments/assets/25c381e4-e5c9-47dc-aaa5-d3892d5b8738\">\n"
   ]
  },
  {
   "cell_type": "markdown",
   "metadata": {},
   "source": [
    "### popcorn hack\n",
    "create test cases that do not satisy the condition above. you can copy/paste the code into the new code cell"
   ]
  },
  {
   "cell_type": "code",
   "execution_count": 1,
   "metadata": {
    "vscode": {
     "languageId": "java"
    }
   },
   "outputs": [],
   "source": [
    "public static void main(String[] args) {\n",
    "    int myAge = 16;\n",
    "    System.out.println(\"Current age: \" + myAge);\n",
    "    \n",
    "    if (myAge >= 16) {\n",
    "        System.out.println(\"You can start learning to drive!\");\n",
    "    }\n",
    "\n",
    "    System.out.println(\"On your next birthday, you will be \" + (myAge + 1) + \" years old!\");\n",
    "}"
   ]
  },
  {
   "cell_type": "code",
   "execution_count": 8,
   "metadata": {
    "vscode": {
     "languageId": "java"
    }
   },
   "outputs": [],
   "source": [
    "public static void main(String[] args) {\n",
    "    // Test case 1: Age less than 16 (condition -> false)\n",
    "    int myAge1 = 15;\n",
    "    System.out.println(\"Current age: \" + myAge1);\n",
    "    \n",
    "    if (myAge1 >= 16) {\n",
    "        System.out.println(\"You can start learning to drive!\");\n",
    "    } else {\n",
    "        System.out.println(\"You cannot start learning to drive yet.\");\n",
    "    }\n",
    "    System.out.println(\"On your next birthday, you will be \" + (myAge1 + 1) + \" years old!\\n\");\n",
    "    \n",
    "    // Test case 2: Age far less than 16 (condition -> false)\n",
    "    int myAge2 = 10;\n",
    "    System.out.println(\"Current age: \" + myAge2);\n",
    "    \n",
    "    if (myAge2 >= 16) {\n",
    "        System.out.println(\"You can start learning to drive!\");\n",
    "    } else {\n",
    "        System.out.println(\"You cannot start learning to drive yet.\");\n",
    "    }\n",
    "    System.out.println(\"On your next birthday, you will be \" + (myAge2 + 1) + \" years old!\\n\");\n",
    "    \n",
    "    // Test case 3: Age equal to 16 (condition -> true)\n",
    "    int myAge3 = 16;\n",
    "    System.out.println(\"Current age: \" + myAge3);\n",
    "    \n",
    "    if (myAge3 >= 16) {\n",
    "        System.out.println(\"You can start learning to drive! (Condition -> true)\");\n",
    "    } else {\n",
    "        System.out.println(\"You cannot start learning to drive yet.\");\n",
    "    }\n",
    "    System.out.println(\"On your next birthday, you will be \" + (myAge3 + 1) + \" years old!\");\n",
    "}\n",
    "\n"
   ]
  },
  {
   "cell_type": "markdown",
   "metadata": {},
   "source": [
    "If statements can be used to create chatbots \n",
    "--> Magpie Lab\n",
    "<img width=\"697\" alt=\"Screenshot 2024-09-25 at 2 40 43 AM\" src=\"https://github.com/user-attachments/assets/8af679b4-0f17-46d3-b080-0d6403620d7b\">\n",
    "\n",
    "<img width=\"702\" alt=\"Screenshot 2024-09-25 at 2 40 54 AM\" src=\"https://github.com/user-attachments/assets/13d01b26-6c2c-4e37-bd56-1eb1b18e0217\">\n",
    "\n",
    "- the user’s input affects the flow of the program"
   ]
  }
 ],
 "metadata": {
  "kernelspec": {
   "display_name": "java (IJava/j!)",
   "language": "java",
   "name": "jbang-ijava"
  },
  "language_info": {
   "codemirror_mode": "java",
   "file_extension": ".jshell",
   "mimetype": "text/x-java-source",
   "name": "Java",
   "pygments_lexer": "java",
   "version": "17.0.12+7-Ubuntu-1ubuntu222.04"
  }
 },
 "nbformat": 4,
 "nbformat_minor": 2
}
