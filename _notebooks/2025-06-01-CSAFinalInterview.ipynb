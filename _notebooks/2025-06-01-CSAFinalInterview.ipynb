{
 "cells": [
  {
   "cell_type": "markdown",
   "metadata": {},
   "source": [
    "---\n",
    "toc: true\n",
    "layout: post\n",
    "title: CSA Final Interview \n",
    "description: CSA Final Interview...\n",
    "type: issues \n",
    "comments: true\n",
    "permalink: /FinalInterview\n",
    "---\n"
   ]
  },
  {
   "cell_type": "markdown",
   "metadata": {},
   "source": [
    "# **Final Interview**\n",
    "\n",
    "## **ABOUT** Me\n",
    "\n",
    "I am a Junior in Del Norte High School and participated in a 7 months project - Crypto Mining Simulator Game. I enjoy FrontEnd development, communicating with group members, problem solvings. I enjoy making new ideas, brainstorm any ideas to make the project more attractive to the players.\n",
    "\n",
    "<br>\n",
    "\n",
    "## **PROJECT** Overview\n",
    "[![Watch the Demo](https://img.shields.io/badge/Watch%20on-YouTube-red?logo=youtube)](https://youtu.be/_P6NM3q2ajM)\n",
    "### **FORTUNE** Finders\n",
    "#### Crypto Mining Simulator Game\n",
    "Crypto Mining Simulator Game is part of Fortune Finders, a fun and interesting platform. Crypto Mining allows anyone to get used to the real life Crypto Mining. So people can use Crypto Mining to either practice mining in real life or just play the game for fun!\n",
    "\n",
    "##### 🔧 Core Features\n",
    "\n",
    "* Real-time mining dashboard (hashrate, temp updates every 15 mins)\n",
    "* Buy GPUs with different hashrates (budget to premium)\n",
    "* Track multiple cryptocurrencies (BTC, ETH, LTC, XMR)\n",
    "* Interactive tutorial system for beginners\n",
    "* Energy management tracks power use and mining costs\n",
    "\n",
    "##### 🛠️ Advanced Features\n",
    "\n",
    "* Sell GPUs at 80% of original price with quantity selector\n",
    "* \"Active GPUs\" modal shows stats: hashrate, temp, power use\n",
    "* Energy store with plans that optimize energy efficiency (EEM)\n",
    "* Leaderboard ranks users by earnings and mining stats\n",
    "* Switch between coins with different algorithms and difficulties\n",
    "\n",
    "##### 📊 UI/UX Features\n",
    "\n",
    "* Real-time charts for profit/hashrate trends (zoom/pan enabled)\n",
    "* Detailed GPU inventory: revenue estimates, cost breakdowns\n",
    "* Notification system for instant user feedback\n",
    "* Audio system: toggleable sound effects and background music\n",
    "* Mobile-responsive design for all device types\n",
    "\n",
    "---\n"
   ]
  },
  {
   "cell_type": "markdown",
   "metadata": {},
   "source": [
    "## **UNIQUE** Qualities\n",
    "\n",
    "- Adapted quickly to different challenges within the **Gamify** team of **Fortune Finders**, focusing on the **Crypto Mining Simulator** and contributing ideas that made the gameplay more engaging and realistic.\n",
    "- Took initiative during group discussions, helping plan out features like the energy system, leaderboard, and GPU management to make the game both fun and educational.\n",
    "- Gained experience with both frontend logic (JavaScript modules, real-time charts, UI modals) and backend integration (Spring Boot APIs for mining and inventory).\n",
    "- Worked actively with teammates to debug complex issues, especially with mining logic, GPU data updates, and UI responsiveness.\n",
    "- Helped explain the simulator to users during testing and Night at the Museum, improving my ability to communicate technical concepts clearly to non-developers.\n"
   ]
  },
  {
   "cell_type": "markdown",
   "metadata": {},
   "source": [
    "## **DATA** Structure #2\n",
    "\n",
    "[Homeworks](https://jasonguan1012.github.io/jgCSA_2025/navigation/csa.html)\n",
    "[Homework Spread Sheet (Grade: 91%)](https://docs.google.com/spreadsheets/d/1PTSIDKf5L2N8nXuge9e4IT6INMtfLVtFDDLgv_Z1ysg/edit?gid=0#gid=0)\n",
    "\n",
    "[Abstract Fibonaccii Hack](https://jasonguan1012.github.io/jgCSA_2025/2025/02/20/fibonaccii_abstract_IPYNB_2_.html)\n",
    "[Calculator Enactment](https://jasonguan1012.github.io/jgCSA_2025/calcEactHW)\n",
    "[Collections](https://jasonguan1012.github.io/jgCSA_2025/DTMcollectible)\n",
    "[Graph Heuristics](https://jasonguan1012.github.io/jgCSA_2025/notes/graph-heuristics)\n",
    "\n",
    "Homework Grades: **91%**"
   ]
  },
  {
   "cell_type": "markdown",
   "metadata": {},
   "source": [
    "## **PROJECT** Usage and Showcase\n",
    "![Night At the Museum](https://i.ibb.co/8Ln06mTx/image.png)\n",
    "\n",
    "N@TM was such an awesome event! I had a great time showing my project to parents, students, and other guests, and it felt good to share what I’ve been working on this year. It was also really cool to see what other CSSE and CSP students made, and some of their ideas were super creative and impressive. I liked getting to talk with people, share ideas, and learn from others. Overall, the night was a great experience, and it made me more excited to keep learning and building in the future.\n"
   ]
  },
  {
   "cell_type": "markdown",
   "metadata": {},
   "source": [
    "## Stats\n",
    "![Night At the Museum](https://i.ibb.co/QFDCZ1Nn/image.png)\n",
    "\n"
   ]
  }
 ],
 "metadata": {
  "language_info": {
   "name": "python"
  }
 },
 "nbformat": 4,
 "nbformat_minor": 2
}
