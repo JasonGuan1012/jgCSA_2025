{
 "cells": [
  {
   "cell_type": "markdown",
   "metadata": {},
   "source": [
    "---\n",
    "layout: post\n",
    "toc: true\n",
    "title: JQuery\n",
    "description: Introduction to JQuery Library\n",
    "courses: { csa: {week: 18} }\n",
    "type: ccc\n",
    "author: Akhil, Tarun, Kayden\n",
    "---"
   ]
  },
  {
   "cell_type": "markdown",
   "metadata": {},
   "source": [
    "## What is jQuery?\n",
    "\n",
    "jQuery is a lightweight JavaScript library designed to simplify coding by allowing you to write less while accomplishing more. It makes working with JavaScript on your website easier by condensing complex tasks that typically require multiple lines of code into simple, callable methods.\n",
    "\n",
    "Additionally, jQuery streamlines many advanced JavaScript functions, such as AJAX calls and DOM manipulation, making them more accessible and efficient."
   ]
  },
  {
   "cell_type": "markdown",
   "metadata": {},
   "source": [
    "## The implications of jQuery\n",
    "\n",
    "jQuery includes the following.\n",
    "\n",
    "HTML/DOM manipulation\n",
    "CSS manipulation\n",
    "HTML event methods\n",
    "Effects and animations\n",
    "AJAX (Asynchronous Javascript and XML)\n",
    "Utilities\n",
    "\n",
    "Jquery also has plugins for almoost any task."
   ]
  },
  {
   "cell_type": "markdown",
   "metadata": {},
   "source": [
    "## jQuery syntax and how to use it\n",
    "\n",
    "With jQuery you slect (query) HTML elements and perform \"actions\" on them.\n",
    "\n",
    "Basic syntax is $(selector).action()\n",
    "\n",
    "A $ symbol to define/access jQuery\n",
    "A (selector) to “query (or find)” HTML elements\n",
    "A jQuery action() to be performed on the element(s)\n",
    "\n",
    "Examples:\n",
    "$(this).hide() - hides the current element\n",
    "\n",
    "$(“p”).hide() - hides all <p> elements\n",
    "\n",
    "$(“.test”).hide() - hides all elements with class=”test”\n",
    "\n",
    "$(“#test”).hide() - hides the element with id=”test”\n"
   ]
  },
  {
   "cell_type": "markdown",
   "metadata": {},
   "source": [
    "## Popcorn hack\n",
    "Write in one of the comments where the selector is.\n"
   ]
  },
  {
   "cell_type": "code",
   "execution_count": 8,
   "metadata": {
    "vscode": {
     "languageId": "java"
    }
   },
   "outputs": [
    {
     "ename": "CompilationException",
     "evalue": "",
     "output_type": "error",
     "traceback": [
      "\u001b[1m\u001b[30m|   \u001b[1m\u001b[30m$(document).ready(function()\u001b[0m\u001b[1m\u001b[30m\u001b[41m\u001b[0m\u001b[1m\u001b[30m{   // Document is ready\u001b[0m",
      "\u001b[1m\u001b[31m')' expected\u001b[0m",
      ""
     ]
    }
   ],
   "source": [
    "$(document).ready(function(){   // Document is ready\n",
    "  $(\"button\").click(function(){ // Attach a click event to all <button> elements\n",
    "    $(\"p\").hide();              // Select all <p> elements and hide them\n",
    "  });                           // End of click function\n",
    "});                             // End of document ready function"
   ]
  },
  {
   "cell_type": "markdown",
   "metadata": {},
   "source": [
    "The element Selector\n",
    "\n",
    "$(“p”) The #id Selector\n",
    "$(“#test”) The .class Selector\n",
    "$(“.class”)\n",
    "The Document Ready Event\n",
    "\n",
    "All jQuery methods begin inside a document ready event:"
   ]
  },
  {
   "cell_type": "code",
   "execution_count": 2,
   "metadata": {
    "vscode": {
     "languageId": "java"
    }
   },
   "outputs": [
    {
     "ename": "CompilationException",
     "evalue": "",
     "output_type": "error",
     "traceback": [
      "\u001b[1m\u001b[30m|   \u001b[1m\u001b[30m$(document).ready(function()\u001b[0m\u001b[1m\u001b[30m\u001b[41m\u001b[0m\u001b[1m\u001b[30m{\u001b[0m",
      "\u001b[1m\u001b[31m')' expected\u001b[0m",
      ""
     ]
    }
   ],
   "source": [
    "$(document).ready(function(){\n",
    "  $(\"p\").click(function(){\n",
    "      $(this).hide(); // Hides the paragraph that was clicked\n",
    "  });\n",
    "});\n"
   ]
  },
  {
   "cell_type": "markdown",
   "metadata": {},
   "source": [
    "This is to prevent any jQuery code from running before the document is finished loading (is ready).\n",
    "\n",
    "It is good practice to wait for the document to be fully loaded and ready before working with it. This also allows you to have your JavaScript code before the body of your document, in the head section."
   ]
  },
  {
   "cell_type": "markdown",
   "metadata": {},
   "source": [
    "Reason:\n",
    "\n",
    "Trying to hide an element that is not created yet\n",
    "Trying to get the size of an image that is not loaded yet\n"
   ]
  },
  {
   "cell_type": "code",
   "execution_count": null,
   "metadata": {
    "vscode": {
     "languageId": "java"
    }
   },
   "outputs": [],
   "source": [
    "$(function(){\n",
    "    \n",
    "    // An even quicker way to do it\n",
    "    // jQuery methods go here...\n",
    "  \n",
    "  });\n"
   ]
  },
  {
   "cell_type": "markdown",
   "metadata": {},
   "source": [
    "jQuery methods and event handling\n",
    "What are Events?\n",
    "\n",
    "All the different visitors’ actions that a web page can respond to are called events\n",
    "Mouse Events\tKeyboard Events\tForm Events\tDocument/Window Events\n",
    "click\tkeypress\tsubmit\tload\n",
    "dblclick\tkeydown\tchange\tresize\n",
    "mouseenter\tkeyup\tfocus\tscroll\n",
    "mouseleave\t \tblur\tunload\n"
   ]
  },
  {
   "cell_type": "markdown",
   "metadata": {},
   "source": [
    "## Making requests with AJAX\n",
    "\n",
    "AJAX, which stands for Asynchronous JavaScript and XML, enables web pages to update asynchronously more efficiently. It operates on a promise-based system, where a JavaScript Promise represents the eventual success or failure of an asynchronous request.\n",
    "\n",
    "## WHy use jQuery AJAX over a normal aync request or AJAX request?\n",
    "Against a normal sun request AJAX jas a lot of advantages:\n",
    "Easier Error Handling: Promises are much easier to deal with than callbacks. If an error occurs in a promise, it will be passed down to the next catch() clause.\n",
    "Simpler API Chaining: If you want to wait for one operation to finish before starting another one you can simply use .then().\n",
    "\n",
    "Normal async request:"
   ]
  },
  {
   "cell_type": "code",
   "execution_count": 3,
   "metadata": {
    "vscode": {
     "languageId": "java"
    }
   },
   "outputs": [
    {
     "ename": "CompilationException",
     "evalue": "",
     "output_type": "error",
     "traceback": [
      "\u001b[1m\u001b[30m|   \u001b[1m\u001b[30mgetUserLocation(function(error, location)\u001b[0m\u001b[1m\u001b[30m\u001b[41m\u001b[0m\u001b[1m\u001b[30m {\u001b[0m",
      "\u001b[1m\u001b[31m')' expected\u001b[0m",
      ""
     ]
    }
   ],
   "source": [
    "getUserLocation(function(error, location) {\n",
    "    if (error) {\n",
    "        console.error('Error:', error);\n",
    "    } else {\n",
    "        getForecast(location, function(error, forecast) {\n",
    "            if (error) {\n",
    "                console.error('Error:', error);\n",
    "            } else {\n",
    "                console.log('Forecast:', forecast);\n",
    "            }\n",
    "        });\n",
    "    }\n",
    "});"
   ]
  },
  {
   "cell_type": "markdown",
   "metadata": {},
   "source": [
    "Ajax requests wihtout any library"
   ]
  },
  {
   "cell_type": "code",
   "execution_count": 4,
   "metadata": {
    "vscode": {
     "languageId": "java"
    }
   },
   "outputs": [
    {
     "ename": "CompilationException",
     "evalue": "",
     "output_type": "error",
     "traceback": [
      "\u001b[1m\u001b[30m|   \u001b[1m\u001b[30mfetch(\u001b[0m\u001b[1m\u001b[30m\u001b[41m\u001b[0m\u001b[1m\u001b[30m'api/location')\u001b[0m",
      "\u001b[1m\u001b[31munclosed character literal\u001b[0m",
      ""
     ]
    }
   ],
   "source": [
    "fetch('api/location')\n",
    ".then(response => response.json())\n",
    ".then(location => fetch('api/forecast/' + location))\n",
    ".then(response => response.json())\n",
    ".then(forecast => {\n",
    "    console.log('Forecast:', forecast);\n",
    "})\n",
    ".catch(error => {\n",
    "    console.error('Error:', error);\n",
    "});"
   ]
  },
  {
   "cell_type": "markdown",
   "metadata": {},
   "source": [
    "Ajax requests with jQuery"
   ]
  },
  {
   "cell_type": "code",
   "execution_count": 5,
   "metadata": {
    "vscode": {
     "languageId": "java"
    }
   },
   "outputs": [
    {
     "ename": "CompilationException",
     "evalue": "",
     "output_type": "error",
     "traceback": [
      "\u001b[1m\u001b[30m|   \u001b[1m\u001b[30m$.ajax(\u001b[0m\u001b[1m\u001b[30m\u001b[41m\u001b[0m\u001b[1m\u001b[30m{ url: 'api/location', method: 'GET', dataType: 'json' })\u001b[0m",
      "\u001b[1m\u001b[31millegal start of expression\u001b[0m",
      ""
     ]
    }
   ],
   "source": [
    "$.ajax({ url: 'api/location', method: 'GET', dataType: 'json' })\n",
    ".then(function(location) {\n",
    "    return $.ajax({ url: 'api/forecast/' + location, method: 'GET', dataType: 'json' });\n",
    "})\n",
    ".then(function(forecast) {\n",
    "    console.log('Forecast:', forecast);\n",
    "})\n",
    ".catch(function(error) {\n",
    "    console.error('Error:', error);\n",
    "});"
   ]
  },
  {
   "cell_type": "markdown",
   "metadata": {},
   "source": [
    "Using AJAX is much easier to read compared to the callback system. However, when comparing jQuery AJAX with JavaScript’s native version, the differences are minimal. The choice ultimately depends on which syntax you prefer.\n",
    "\n",
    "As noted earlier, jQuery AJAX is built on top of the older JavaScript implementation, allowing it to support older browser versions."
   ]
  },
  {
   "cell_type": "markdown",
   "metadata": {},
   "source": [
    "## Jquery's use with PBL\n",
    "\n",
    "jQuery's primary function is to make your site dynamic and responsive to user input. For our projects, the key aspect of this is retrieving data from the backend and generating HTML from it."
   ]
  },
  {
   "cell_type": "code",
   "execution_count": 6,
   "metadata": {
    "vscode": {
     "languageId": "java"
    }
   },
   "outputs": [
    {
     "ename": "EvalException",
     "evalue": "Undefined cell magic 'html'",
     "output_type": "error",
     "traceback": [
      "\u001b[1m\u001b[31m---------------------------------------------------------------------------\u001b[0m",
      "\u001b[1m\u001b[31mio.github.spencerpark.jupyter.kernel.magic.registry.UndefinedMagicException: Undefined cell magic 'html'\u001b[0m",
      "\u001b[1m\u001b[31m\tat io.github.spencerpark.jupyter.kernel.magic.registry.Magics.applyCellMagic(Magics.java:34)\u001b[0m",
      "\u001b[1m\u001b[31m\tat io.github.spencerpark.ijava.runtime.Magics.cellMagic(Magics.java:31)\u001b[0m",
      "\u001b[1m\u001b[31m\tat .(#17:1)\u001b[0m"
     ]
    }
   ],
   "source": [
    "%%html\n",
    "<head>\n",
    "    <script src=\"https://ajax.googleapis.com/ajax/libs/jquery/3.5.1/jquery.min.js\"></script>\n",
    "    <style>\n",
    "        .post {\n",
    "            border: 1px solid #ddd;\n",
    "            margin-bottom: 20px;\n",
    "            padding: 20px;\n",
    "            border-radius: 5px;\n",
    "        }\n",
    "        .like-count {\n",
    "            color: #007BFF;\n",
    "        }\n",
    "    </style>\n",
    "</head>\n",
    "<body>\n",
    "\n",
    "<div id=\"posts\"></div>\n",
    "\n",
    "<script>\n",
    "// Fake API function\n",
    "function getAPI() {\n",
    "    return [\n",
    "        {id: 1, content: 'Dogs are man\\'s best friend.', likes: 10},\n",
    "        {id: 2, content: 'Dogs have an exceptional sense of smell.', likes: 20},\n",
    "        {id: 3, content: 'There are hundreds of different dog breeds.', likes: 30}\n",
    "    ];\n",
    "}\n",
    "\n",
    "$(document).ready(function(){\n",
    "    var posts = getAPI();\n",
    "    $.each(posts, function(i, post) {\n",
    "        var postHtml = '<div class=\"post\"><h2>Post ' + post.id + '</h2><p>' + post.content + '</p><p class=\"like-count\">' + post.likes + ' likes</p></div>';\n",
    "        $('#posts').append(postHtml);\n",
    "    });\n",
    "});\n",
    "</script>\n",
    "\n",
    "</body>"
   ]
  },
  {
   "cell_type": "markdown",
   "metadata": {},
   "source": [
    "## Animations with JQuery\n",
    "\n",
    "You can also create animations in JQuery."
   ]
  },
  {
   "cell_type": "code",
   "execution_count": 7,
   "metadata": {
    "vscode": {
     "languageId": "java"
    }
   },
   "outputs": [
    {
     "ename": "CompilationException",
     "evalue": "",
     "output_type": "error",
     "traceback": [
      "\u001b[1m\u001b[30m|   \u001b[1m\u001b[30m\u001b[0m\u001b[1m\u001b[30m\u001b[41m\u001b[0m\u001b[1m\u001b[30m<script src=\"https://ajax.googleapis.com/ajax/libs/jquery/3.5.1/jquery.min.js\"></script>\u001b[0m",
      "\u001b[1m\u001b[31millegal start of expression\u001b[0m",
      "",
      "\u001b[1m\u001b[30m|   \u001b[1m\u001b[30m<script \u001b[0m\u001b[1m\u001b[30m\u001b[41m\u001b[0m\u001b[1m\u001b[30msrc=\"https://ajax.googleapis.com/ajax/libs/jquery/3.5.1/jquery.min.js\"></script>\u001b[0m",
      "\u001b[1m\u001b[31millegal start of type\u001b[0m",
      ""
     ]
    }
   ],
   "source": [
    "<html>\n",
    "<head>\n",
    "<script src=\"https://ajax.googleapis.com/ajax/libs/jquery/3.5.1/jquery.min.js\"></script>\n",
    "<script>\n",
    "$(document).ready(function(){\n",
    "  // Reset CSS properties to their original values\n",
    "  $(\"div\").css({\n",
    "    left: '0px',\n",
    "    opacity: '1',\n",
    "    height: '100px',\n",
    "    width: '100%'\n",
    "  });\n",
    "\n",
    "  $(\"button\").click(function(){\n",
    "    $(\"div\").animate({\n",
    "      left: '250px',\n",
    "      opacity: '0.5',\n",
    "      height: '150px',\n",
    "      width: '100%'\n",
    "    });\n",
    "  });\n",
    "});\n",
    "</script>\n",
    "</head>\n",
    "<body>\n",
    "\n",
    "<button>Start</button>\n",
    "\n",
    "<div style=\"background:#98bf21;height:100px;width:100px;position:absolute;\"></div>\n",
    "\n",
    "</body>\n",
    "</html>"
   ]
  },
  {
   "cell_type": "markdown",
   "metadata": {},
   "source": [
    "## CRUD Principles:\n",
    "\n",
    "What Does CRUD Stand For?\n",
    "\n",
    "Create, Read, Update Delete\n",
    "What Does CRUD Do?\n",
    "\n",
    "These four basic operations represent the fundamental actions that can be performed on data in a computer system or a database.\n",
    "How Can CRUD Be Applied to jQuery and Beyond?\n",
    "\n",
    "jQuery:\n",
    "jQuery is a JavaScript library that simplifies HTML document traversal and manipulation. You can use jQuery to perform CRUD operations on the client side, interacting with the DOM. Here’s a brief overview:\n",
    "\n",
    "## Create (C)"
   ]
  },
  {
   "cell_type": "code",
   "execution_count": null,
   "metadata": {
    "vscode": {
     "languageId": "java"
    }
   },
   "outputs": [],
   "source": [
    "// Create a new element and append it to a table\n",
    "$('#myTable').append('<tr><td>New Data</td></tr>');"
   ]
  },
  {
   "cell_type": "markdown",
   "metadata": {},
   "source": [
    "## Read (R)"
   ]
  },
  {
   "cell_type": "code",
   "execution_count": null,
   "metadata": {
    "vscode": {
     "languageId": "java"
    }
   },
   "outputs": [],
   "source": [
    "// Read data from a table\n",
    "$('#myTable tr').each(function() {\n",
    "    console.log($(this).text());\n",
    "  });  "
   ]
  },
  {
   "cell_type": "markdown",
   "metadata": {},
   "source": [
    "## Update (U)"
   ]
  },
  {
   "cell_type": "code",
   "execution_count": null,
   "metadata": {
    "vscode": {
     "languageId": "java"
    }
   },
   "outputs": [],
   "source": [
    "// Update data in a table\n",
    "$('#myTable td:contains(\"Old Data\")').text('Updated Data');"
   ]
  },
  {
   "cell_type": "markdown",
   "metadata": {},
   "source": [
    "## Delete (D)"
   ]
  },
  {
   "cell_type": "code",
   "execution_count": null,
   "metadata": {
    "vscode": {
     "languageId": "java"
    }
   },
   "outputs": [],
   "source": [
    "// Delete a row from a table\n",
    "$('#myTable td:contains(\"Data to Delete\")').closest('tr').remove();"
   ]
  },
  {
   "cell_type": "markdown",
   "metadata": {},
   "source": [
    "## Beyond Jquery:\n",
    "\n",
    "\n",
    "In more advanced web development, CRUD operations are typically handled using server-side technologies and databases. Frameworks like Node.js, Express, Django, and Flask are commonly used for backend development, while databases such as MySQL, MongoDB, and PostgreSQL store and manage the data."
   ]
  },
  {
   "cell_type": "markdown",
   "metadata": {},
   "source": [
    "## Demonstration fo Applying CRUD to TABLES:\n",
    "\n",
    "Assuming a simple HTML table with the ID \"mytable\";"
   ]
  },
  {
   "cell_type": "code",
   "execution_count": null,
   "metadata": {
    "vscode": {
     "languageId": "java"
    }
   },
   "outputs": [],
   "source": [
    "<table id=\"myTable\">\n",
    "  <tr>\n",
    "    <th>Data</th>\n",
    "  </tr>\n",
    "  <tr>\n",
    "    <td>Row 1</td>\n",
    "  </tr>\n",
    "  <tr>\n",
    "    <td>Row 2</td>\n",
    "  </tr>\n",
    "</table>"
   ]
  },
  {
   "cell_type": "markdown",
   "metadata": {},
   "source": [
    "Create (C)"
   ]
  },
  {
   "cell_type": "code",
   "execution_count": null,
   "metadata": {
    "vscode": {
     "languageId": "java"
    }
   },
   "outputs": [],
   "source": [
    "// Create a new row and append it to the table\n",
    "$('#myTable').append('<tr><td>New Row</td></tr>');"
   ]
  },
  {
   "cell_type": "markdown",
   "metadata": {},
   "source": [
    "Read (R)"
   ]
  },
  {
   "cell_type": "code",
   "execution_count": null,
   "metadata": {
    "vscode": {
     "languageId": "java"
    }
   },
   "outputs": [],
   "source": [
    "// Read and log data from the table\n",
    "$('#myTable tr').each(function() {\n",
    "    console.log($(this).text());\n",
    "});"
   ]
  },
  {
   "cell_type": "markdown",
   "metadata": {},
   "source": [
    "Update (U)"
   ]
  },
  {
   "cell_type": "code",
   "execution_count": null,
   "metadata": {
    "vscode": {
     "languageId": "java"
    }
   },
   "outputs": [],
   "source": [
    "// Update data in the first row of the table\n",
    "$('#myTable tr:first-child td').text('Updated Row');"
   ]
  },
  {
   "cell_type": "markdown",
   "metadata": {},
   "source": [
    "Delete (D)"
   ]
  },
  {
   "cell_type": "code",
   "execution_count": null,
   "metadata": {
    "vscode": {
     "languageId": "java"
    }
   },
   "outputs": [],
   "source": [
    "// Delete the second row from the table\n",
    "$('#myTable tr:nth-child(2)').remove();"
   ]
  }
 ],
 "metadata": {
  "kernelspec": {
   "display_name": "Java",
   "language": "java",
   "name": "java"
  },
  "language_info": {
   "codemirror_mode": "java",
   "file_extension": ".jshell",
   "mimetype": "text/x-java-source",
   "name": "Java",
   "pygments_lexer": "java",
   "version": "17.0.12+0"
  },
  "orig_nbformat": 4
 },
 "nbformat": 4,
 "nbformat_minor": 2
}
