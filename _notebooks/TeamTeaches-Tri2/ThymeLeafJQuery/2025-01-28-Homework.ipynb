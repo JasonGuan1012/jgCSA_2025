{
 "cells": [
  {
   "cell_type": "markdown",
   "metadata": {},
   "source": [
    "---\n",
    "layout: post\n",
    "toc: true\n",
    "title: JQuery/Thymeleaf Homework\n",
    "description: Homework for JQuery/Thymeleaf lesson\n",
    "courses: { csa: {week: 18} }\n",
    "type: ccc\n",
    "author: Akhil, Tarun, Kayden\n",
    "---"
   ]
  },
  {
   "cell_type": "markdown",
   "metadata": {},
   "source": [
    "# Question 1: jQuery - Dynamic Content Update\n",
    "\n",
    "Objective:\n",
    "Use jQuery to dynamically update a p element with user input from an input field when a button is clicked."
   ]
  },
  {
   "cell_type": "markdown",
   "metadata": {},
   "source": [
    "<!DOCTYPE html>\n",
    "<html lang=\"en\">\n",
    "<head>\n",
    "  <meta charset=\"UTF-8\">\n",
    "  <meta name=\"viewport\" content=\"width=device-width, initial-scale=1.0\">\n",
    "  <title>Dynamic Content Update</title>\n",
    "  <script src=\"https://code.jquery.com/jquery-3.6.0.min.js\"></script>\n",
    "</head>\n",
    "<body>\n",
    "  <input type=\"text\" id=\"userInput\" placeholder=\"Enter some text\">\n",
    "  <button id=\"updateButton\">Update Text</button>\n",
    "  <p id=\"outputText\">This text will be updated.</p>\n",
    "\n",
    "  <script>\n",
    "    $(document).ready(function() {\n",
    "        // Here is attaching a click event to the button\n",
    "        $(\"#updateButton\").click(function() {\n",
    "          // Here is getting the value from the input field\n",
    "          const userInput = $(\"#userInput\").val();\n",
    "      \n",
    "          // Here is updating the content of the <p> element with the user input\n",
    "          $(\"#outputText\").text(userInput);\n",
    "        });\n",
    "      });\n",
    "  </script>\n",
    "</body>\n",
    "</html>"
   ]
  },
  {
   "cell_type": "markdown",
   "metadata": {},
   "source": [
    "# Question 2: Thymeleaf - Displaying a List of Items\n",
    "\n",
    "Objective:\n",
    "Use Thymeleaf to display a list of students stored in a backend Java controller.\n",
    "\n",
    "Info you may need:\n",
    "  - student.getStatus(): Returns True if the student passed, returns False if the student failed\n",
    "  - student.getName(): Returns student name\n",
    "  - student.getGrade(): Returns student grade"
   ]
  },
  {
   "cell_type": "markdown",
   "metadata": {},
   "source": [
    "Student Model Class:"
   ]
  },
  {
   "cell_type": "code",
   "execution_count": 8,
   "metadata": {},
   "outputs": [],
   "source": [
    "public class Student {\n",
    "    private String name;\n",
    "    private int grade;\n",
    "    private boolean status; // true = passed, false = failed\n",
    "\n",
    "    // Constructor, getters, and setters\n",
    "    public Student(String name, int grade, boolean status) {\n",
    "        this.name = name;\n",
    "        this.grade = grade;\n",
    "        this.status = status;\n",
    "    }\n",
    "\n",
    "    public String getName() {\n",
    "        return name;\n",
    "    }\n",
    "\n",
    "    public int getGrade() {\n",
    "        return grade;\n",
    "    }\n",
    "\n",
    "    public boolean getStatus() {\n",
    "        return status;\n",
    "    }\n",
    "}\n",
    "\n"
   ]
  },
  {
   "cell_type": "markdown",
   "metadata": {},
   "source": [
    "Controller:"
   ]
  },
  {
   "cell_type": "code",
   "execution_count": 3,
   "metadata": {},
   "outputs": [
    {
     "ename": "CompilationException",
     "evalue": "",
     "output_type": "error",
     "traceback": [
      "\u001b[1m\u001b[30m|   \u001b[1m\u001b[30mimport \u001b[0m\u001b[1m\u001b[30m\u001b[41morg.springframework.stereotype.Controller\u001b[0m\u001b[1m\u001b[30m;\u001b[0m",
      "\u001b[1m\u001b[31mpackage org.springframework.stereotype does not exist\u001b[0m",
      ""
     ]
    }
   ],
   "source": [
    "import org.springframework.stereotype.Controller;\n",
    "import org.springframework.ui.Model;\n",
    "import org.springframework.web.bind.annotation.GetMapping;\n",
    "\n",
    "import java.util.Arrays;\n",
    "import java.util.List;\n",
    "\n",
    "@Controller\n",
    "public class StudentController {\n",
    "\n",
    "    @GetMapping(\"/students\")\n",
    "    public String getStudents(Model model) {\n",
    "        // Creating a list of students...\n",
    "        List<Student> students = Arrays.asList(\n",
    "            new Student(\"Alice\", 85, true),\n",
    "            new Student(\"Bob\", 45, false),\n",
    "            new Student(\"Charlie\", 90, true)\n",
    "        );\n",
    "\n",
    "        // Here is adding the list to the model\n",
    "        model.addAttribute(\"students\", students);\n",
    "\n",
    "        // Here is returning the Thymeleaf template name\n",
    "        return \"students\";\n",
    "    }\n",
    "}"
   ]
  },
  {
   "cell_type": "markdown",
   "metadata": {},
   "source": [
    "<!DOCTYPE html>\n",
    "<html xmlns:th=\"http://www.thymeleaf.org\">\n",
    "<head>\n",
    "  <meta charset=\"UTF-8\">\n",
    "  <title>Student List</title>\n",
    "  <style>\n",
    "    .passed { color: green; }\n",
    "    .failed { color: red; }\n",
    "  </style>\n",
    "</head>\n",
    "<body>\n",
    "  <h1>Student List</h1>\n",
    "  <table border=\"1\">\n",
    "    <thead>\n",
    "      <tr>\n",
    "        <th>Name</th>\n",
    "        <th>Grade</th>\n",
    "        <th>Status</th>\n",
    "      </tr>\n",
    "    </thead>\n",
    "    <tbody>\n",
    "      <!-- Iterate over the list of students -->\n",
    "      <tr th:each=\"student : ${students}\">\n",
    "        <td th:text=\"${student.name}\">Student Name</td>\n",
    "        <td th:text=\"${student.grade}\">Student Grade</td>\n",
    "        <td>\n",
    "          <!-- Conditional styling based on status -->\n",
    "          <span th:if=\"${student.status}\" class=\"passed\">Passed</span>\n",
    "          <span th:unless=\"${student.status}\" class=\"failed\">Failed</span>\n",
    "        </td>\n",
    "      </tr>\n",
    "    </tbody>\n",
    "  </table>\n",
    "</body>\n",
    "</html>"
   ]
  },
  {
   "cell_type": "markdown",
   "metadata": {
    "vscode": {
     "languageId": "html"
    }
   },
   "source": [
    "<title>Student List</title>\n",
    "<style>\n",
    "    .failed {\n",
    "        color: red;\n",
    "        font-weight: bold;\n",
    "    }\n",
    "</style>\n",
    "\n",
    "<h2>Student List</h2>\n",
    "<table border=\"1\">\n",
    "    <thead>\n",
    "        <tr>\n",
    "            <th>Name</th>\n",
    "            <th>Grade</th>\n",
    "            <th>Status</th>\n",
    "        </tr>\n",
    "    </thead>\n",
    "    <tbody>\n",
    "        <tr>\n",
    "        <!-- Display each student and apply red styling if the student failed -->\n",
    "        </tr>\n",
    "    </tbody>\n",
    "</table>"
   ]
  },
  {
   "cell_type": "markdown",
   "metadata": {},
   "source": [
    "# Bonus Question:\n",
    "\n",
    "Why is Thymeleaf better than creating a regular table? What are any potential pros and cons of Thymeleaf tables?"
   ]
  }
 ],
 "metadata": {
  "kernelspec": {
   "display_name": "Java",
   "language": "java",
   "name": "java"
  },
  "language_info": {
   "codemirror_mode": "java",
   "file_extension": ".jshell",
   "mimetype": "text/x-java-source",
   "name": "java",
   "pygments_lexer": "java",
   "version": "17.0.12+0"
  },
  "orig_nbformat": 4
 },
 "nbformat": 4,
 "nbformat_minor": 2
}
