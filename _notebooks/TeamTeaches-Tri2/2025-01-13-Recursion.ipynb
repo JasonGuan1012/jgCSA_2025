{
 "cells": [
  {
   "cell_type": "markdown",
   "metadata": {},
   "source": [
    "---\n",
    "layout: post\n",
    "title: Recursion P3\n",
    "description:  Recursion P3\n",
    "courses: {csa: {week: 17} }\n",
    "type: issues \n",
    "toc: true\n",
    "---"
   ]
  },
  {
   "cell_type": "markdown",
   "metadata": {},
   "source": [
    "# **Popcorn Hack #1**\n",
    "![Popcorn Hack #1 question](https://i.ibb.co/HrDbTSd/Screenshot-2025-01-14-at-10-58-26-AM.png)"
   ]
  },
  {
   "cell_type": "code",
   "execution_count": 5,
   "metadata": {
    "vscode": {
     "languageId": "java"
    }
   },
   "outputs": [
    {
     "name": "stdout",
     "output_type": "stream",
     "text": [
      "120\n"
     ]
    }
   ],
   "source": [
    "// 5! = 5 * 4! = 5 * (5 – 1)!\n",
    "// 4! = 4 * 3! = 4 * (4 – 1)!\n",
    "// ...\n",
    "// 1! = 1\n",
    "\n",
    "public static int factorial(int target) {\n",
    "    // Base case: If target is 1 or 0, return 1\n",
    "    if (target == 0 || target == 1) {\n",
    "        return 1;\n",
    "    }\n",
    "    // Recursive step: Multiply target by factorial of (target - 1)\n",
    "    return target * factorial(target - 1);\n",
    "}\n",
    "public static void main(String[] args) {\n",
    "    System.out.println(factorial(5)); \n",
    "}\n",
    "\n",
    "main(null);\n"
   ]
  },
  {
   "cell_type": "markdown",
   "metadata": {},
   "source": [
    "# **Popcorn Hack #2**\n",
    "![Popcorn Hack #2 Question](https://i.ibb.co/5TW7dVF/Screenshot-2025-01-14-at-11-01-31-AM.png)"
   ]
  },
  {
   "cell_type": "code",
   "execution_count": null,
   "metadata": {
    "vscode": {
     "languageId": "java"
    }
   },
   "outputs": [
    {
     "name": "stdout",
     "output_type": "stream",
     "text": [
      "15\n"
     ]
    }
   ],
   "source": [
    "// Pro tip: Think of why the index is stored as a parameter\n",
    "// What are parameters usually used as?\n",
    "\n",
    "public static int sumArray(int[] arr, int index) {\n",
    "    // Base case: If index is out of bounds, return 0\n",
    "    if (index == arr.length) {\n",
    "        return 0;\n",
    "    }\n",
    "    // Recursive step: Add the current element to the result of the next element\n",
    "    return arr[index] + sumArray(arr, index + 1);\n",
    "}\n",
    "public static void main(String[] args) {\n",
    "    int[] numbers = {1, 2, 3, 4, 5};\n",
    "    System.out.println(sumArray(numbers, 0)); \n",
    "}\n",
    "\n",
    "main(null);"
   ]
  },
  {
   "cell_type": "markdown",
   "metadata": {},
   "source": [
    "# **Popcorn Hack #3**\n",
    "\n",
    "![Popcorn Hack #3](https://i.ibb.co/vzdm3dF/Screenshot-2025-01-14-at-11-05-24-AM.png)"
   ]
  },
  {
   "cell_type": "code",
   "execution_count": 16,
   "metadata": {
    "vscode": {
     "languageId": "java"
    }
   },
   "outputs": [
    {
     "name": "stdout",
     "output_type": "stream",
     "text": [
      "[11, 12, 22, 25, 64]\n"
     ]
    }
   ],
   "source": [
    "public static void selectionSort(int[] arr, int index) {\n",
    "    // Base case: if the index is at the end of the array, stop recursion\n",
    "    if (index == arr.length - 1) {\n",
    "        return;\n",
    "    }\n",
    "\n",
    "    // Find the index of the smallest element in the subarray starting at 'index'\n",
    "    int minIndex = index;\n",
    "    for (int i = index + 1; i < arr.length; i++) {\n",
    "        if (arr[i] < arr[minIndex]) {\n",
    "            minIndex = i;\n",
    "        }\n",
    "    }\n",
    "\n",
    "    // Swap the smallest element with the current element\n",
    "    int temp = arr[index];\n",
    "    arr[index] = arr[minIndex];\n",
    "    arr[minIndex] = temp;\n",
    "\n",
    "    // Recur for the next part of the array\n",
    "    selectionSort(arr, index + 1);\n",
    "}\n",
    "\n",
    "public static void main(String[] args) {\n",
    "    int[] numbers = {64, 25, 12, 22, 11};\n",
    "    selectionSort(numbers, 0);\n",
    "    System.out.println(Arrays.toString(numbers));\n",
    "}\n",
    "main(null);"
   ]
  },
  {
   "cell_type": "markdown",
   "metadata": {},
   "source": [
    "# **Popcorn Hack #4**\n",
    "\n",
    "![Popcorn Hack #4](https://i.ibb.co/7CYX1Dr/Screenshot-2025-01-14-at-11-06-23-AM.png)"
   ]
  },
  {
   "cell_type": "code",
   "execution_count": 33,
   "metadata": {
    "vscode": {
     "languageId": "java"
    }
   },
   "outputs": [
    {
     "name": "stdout",
     "output_type": "stream",
     "text": [
      "Alice: 23\n",
      "Charlie: 21\n",
      "Bob: 19\n"
     ]
    }
   ],
   "source": [
    "public static void sort2DArray(int[][] arr, int x_index, int y_index) {\n",
    "    // Base case: if we reach the last row and column, stop recursion\n",
    "    if (x_index == arr.length - 1 && y_index == arr[0].length) {\n",
    "        return;\n",
    "    }\n",
    "\n",
    "    // Find the smallest element in the 2D array starting from (x_index, y_index)\n",
    "    int minRow = x_index, minCol = y_index;\n",
    "    for (int i = x_index; i < arr.length; i++) {\n",
    "        for (int j = (i == x_index ? y_index : 0); j < arr[0].length; j++) {\n",
    "            if (arr[i][j] < arr[minRow][minCol]) {\n",
    "                minRow = i;\n",
    "                minCol = j;\n",
    "            }\n",
    "        }\n",
    "    }\n",
    "\n",
    "    // Swap the smallest element with the current element\n",
    "    int temp = arr[x_index][y_index];\n",
    "    arr[x_index][y_index] = arr[minRow][minCol];\n",
    "    arr[minRow][minCol] = temp;\n",
    "\n",
    "    // Move to the next element\n",
    "    if (y_index < arr[0].length - 1) {\n",
    "        sort2DArray(arr, x_index, y_index + 1);\n",
    "    } else {\n",
    "        sort2DArray(arr, x_index + 1, 0);\n",
    "    }\n",
    "}\n",
    "\n",
    "main(null);\n",
    "\n"
   ]
  },
  {
   "cell_type": "markdown",
   "metadata": {},
   "source": [
    "# **Homework Hack**"
   ]
  },
  {
   "cell_type": "code",
   "execution_count": 32,
   "metadata": {
    "vscode": {
     "languageId": "java"
    }
   },
   "outputs": [
    {
     "name": "stdout",
     "output_type": "stream",
     "text": [
      "Alice: 23\n",
      "Charlie: 21\n",
      "Bob: 19\n"
     ]
    }
   ],
   "source": [
    "public class Student {\n",
    "    String name;\n",
    "    int efficiency, collab, iq, performanceScore;\n",
    "\n",
    "    public Student(String name, int efficiency, int collab, int iq) {\n",
    "        this.name = name;\n",
    "        this.efficiency = efficiency;\n",
    "        this.collab = collab;\n",
    "        this.iq = iq;\n",
    "        this.performanceScore = calculatePerformanceScore();\n",
    "    }\n",
    "\n",
    "    public int calculatePerformanceScore() {\n",
    "        return (collab * 2) + (iq * 3) + efficiency;\n",
    "    }\n",
    "}\n",
    "\n",
    "public static void sortStudents(Student[] students, int index) {\n",
    "    // Base case: if the index is at the end of the array, stop recursion\n",
    "    if (index == students.length - 1) {\n",
    "        return;\n",
    "    }\n",
    "\n",
    "    // Find the student with the highest performance score in the subarray\n",
    "    int maxIndex = index;\n",
    "    for (int i = index + 1; i < students.length; i++) {\n",
    "        if (students[i].performanceScore > students[maxIndex].performanceScore) {\n",
    "            maxIndex = i;\n",
    "        }\n",
    "    }\n",
    "\n",
    "    // Swap the current student with the one having the highest performance score\n",
    "    Student temp = students[index];\n",
    "    students[index] = students[maxIndex];\n",
    "    students[maxIndex] = temp;\n",
    "\n",
    "    // Recur for the next part of the array\n",
    "    sortStudents(students, index + 1);\n",
    "}\n",
    "\n",
    "public static void main(String[] args) {\n",
    "    Student[] students = {\n",
    "        new Student(\"Alice\", 5, 3, 4),\n",
    "        new Student(\"Bob\", 3, 5, 2),\n",
    "        new Student(\"Charlie\", 4, 4, 3)\n",
    "    };\n",
    "    sortStudents(students, 0);\n",
    "    for (Student student : students) {\n",
    "        System.out.println(student.name + \": \" + student.performanceScore);\n",
    "    }\n",
    "}\n",
    "\n",
    "main(null);"
   ]
  }
 ],
 "metadata": {
  "kernelspec": {
   "display_name": "Java",
   "language": "java",
   "name": "java"
  },
  "language_info": {
   "codemirror_mode": "java",
   "file_extension": ".jshell",
   "mimetype": "text/x-java-source",
   "name": "Java",
   "pygments_lexer": "java",
   "version": "17.0.12+0"
  }
 },
 "nbformat": 4,
 "nbformat_minor": 2
}
