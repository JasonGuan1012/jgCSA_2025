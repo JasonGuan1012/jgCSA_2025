{
 "cells": [
  {
   "cell_type": "markdown",
   "metadata": {},
   "source": [
    "---\n",
    "layout: post\n",
    "title: Introduction to FRQ#1\n",
    "description:  Introduction to FRQ#1 - Methods and Control Structures - Student Teaching\n",
    "courses: {csa: {week: 17} }\n",
    "type: ccc \n",
    "---"
   ]
  },
  {
   "cell_type": "markdown",
   "metadata": {
    "vscode": {
     "languageId": "plaintext"
    }
   },
   "source": [
    "##### **Question #1 on Exam - Methods + Control Structures**\n",
    "- Typical questions from this category require writing methods that satisfy specific requirements through the use of expressions, conditional statements, and iterative statements.\n",
    "- question typically consists of **2 parts**"
   ]
  },
  {
   "cell_type": "markdown",
   "metadata": {},
   "source": [
    "#### **What Is a Java Method?**\n",
    "- A method in Java is a reusable block of code that performs a specific task.\n",
    "- Consists of an access modifier (e.g., public or private), a return type (e.g., void if it doesn’t return a value), a method name, optional parameters enclosed in parentheses, and a method body enclosed in curly braces."
   ]
  },
  {
   "cell_type": "markdown",
   "metadata": {},
   "source": [
    "![Method](https://media.geeksforgeeks.org/wp-content/uploads/20240717150503/1.webp)"
   ]
  },
  {
   "cell_type": "markdown",
   "metadata": {},
   "source": [
    "\n",
    "##### **Part (a):**\n",
    "- this question usually requires you to write a certain method that fits the given test cases and \"rules\" provided by the problem \n",
    "- rules + test cases may be provided as a table or as example method calls\n",
    "- a **precondition**/**postcondition** may be provided by the problem. \n",
    "- a boilerplate segment containing a method declaration is also given"
   ]
  },
  {
   "cell_type": "markdown",
   "metadata": {},
   "source": [
    "##### **Common/General Penalties:**\n",
    "![image.png](https://i.ibb.co/yp2Nvt3/Image-1-7-25-at-12-33-PM.jpg)"
   ]
  },
  {
   "cell_type": "markdown",
   "metadata": {},
   "source": [
    "- some of the mistakes that do not have any penalties are mainly syntax + spelling issues (however, the code should be easily understood)\n",
    "\n"
   ]
  },
  {
   "cell_type": "markdown",
   "metadata": {},
   "source": [
    "\n",
    "##### **Satisfying the Rules:**\n",
    "The rules that need to be satisfied by the method typically require the use of one or more of the following categories: \n",
    "   1. **conditional statements**\n",
    "   2. **iterative statements**"
   ]
  },
  {
   "cell_type": "markdown",
   "metadata": {},
   "source": [
    "##### **Example of Conditional Statements:**\n",
    "**Example Question:**\n",
    "\n",
    "![Example](https://i.ibb.co/ZddYQsN/Image-1-7-25-at-2-47-PM.jpg)\n",
    "\n",
    "**Example Answer:**\n",
    "\n",
    "![Solution](https://i.ibb.co/bWW0x72/Image-1-8-25-at-11-52-AM.jpg)\n",
    "\n",
    "##### **Generalizations/Reminders:**\n",
    "- Points will not be given when parameters are included when they are not necessary. \n",
    "- Parameters have to be included in the method call. \n",
    "- There is a difference between the .equals method and the .compareTo method (.equals returns boolean values) while the .compareTo method returns an integer value (you will lose points if you use the return value of .compareTo as a boolean)"
   ]
  },
  {
   "cell_type": "markdown",
   "metadata": {},
   "source": [
    "\n",
    "##### **Example of Iterative Statements:**\n",
    "**Example Question:**\n",
    "![Problem Example](https://i.ibb.co/QQBfX5Z/Image-1-7-25-at-2-34-PM.jpg)\n",
    "\n",
    "**Example Answer:**\n",
    "\n",
    "![Problem Solution](https://i.ibb.co/dQBQW3q/Image-1-7-25-at-2-36-PM.jpg)\n",
    "\n",
    "##### **Generalizations/Reminders:**\n",
    "- All possible/needed iterations need to be accounted for precisely (no overlaps).\n",
    "- The '==' sign should not be used for comparison of strings; use the equals method instead.\n",
    "- Result variable has to be initialized at the start of the loop. \n",
    "- Incorrect parameter types and the order of parameters in the method declaration will not be given credit.\n",
    "- Be careful of the control flow of the loop. \n"
   ]
  },
  {
   "cell_type": "markdown",
   "metadata": {},
   "source": [
    "##### **Part (b):**\n",
    "- this part is similar to part (a) and typically asks you to write a method that satisfies the given set of rules.\n",
    "- it may build upon the method created in part (a) (when this is done, it allows you to assume that the method in part (a) works as intended)\n"
   ]
  },
  {
   "cell_type": "markdown",
   "metadata": {},
   "source": [
    "##### **Additional Resources**\n",
    "- [FRQ List Based on Type](https://frccompsci.weebly.com/uploads/6/0/1/9/60195103/apcsa_frq_released_questions_by_type.pdf)"
   ]
  },
  {
   "cell_type": "markdown",
   "metadata": {},
   "source": [
    "# **Homework**"
   ]
  },
  {
   "cell_type": "code",
   "execution_count": 4,
   "metadata": {},
   "outputs": [
    {
     "name": "stdout",
     "output_type": "stream",
     "text": [
      "Can we solve the maze? true\n"
     ]
    }
   ],
   "source": [
    "// This is the main class where we solve the maze problem\n",
    "public class MazeSolver {\n",
    "\n",
    "    // This method checks if there's a way from (startX, startY) to 'E'\n",
    "    public static boolean solveMaze(char[][] maze, int startX, int startY) {\n",
    "        // 1. Check if we're outside the maze or at a wall\n",
    "        if (startX < 0 || startX >= maze.length || startY < 0 || startY >= maze[0].length || maze[startX][startY] == '#') {\n",
    "            return false; // Can't move here\n",
    "        }\n",
    "\n",
    "        // 2. Check if we've found the exit\n",
    "        if (maze[startX][startY] == 'E') {\n",
    "            return true; // Exit found!\n",
    "        }\n",
    "\n",
    "        // 3. Mark this spot as visited to avoid loops\n",
    "        maze[startX][startY] = '#';\n",
    "\n",
    "        // 4. Try moving in all four directions\n",
    "        // Move up\n",
    "        boolean up = solveMaze(maze, startX - 1, startY);\n",
    "        // Move down\n",
    "        boolean down = solveMaze(maze, startX + 1, startY);\n",
    "        // Move left\n",
    "        boolean left = solveMaze(maze, startX, startY - 1);\n",
    "        // Move right\n",
    "        boolean right = solveMaze(maze, startX, startY + 1);\n",
    "\n",
    "        // 5. Restore the current cell (backtracking)\n",
    "        maze[startX][startY] = ' ';\n",
    "\n",
    "        // 6. If any direction leads to the exit, return true\n",
    "        return up || down || left || right;\n",
    "    }\n",
    "\n",
    "    // The main method to test the maze\n",
    "    public static void main(String[] args) {\n",
    "        // A simple maze where '#' = wall, ' ' = open path, 'E' = exit\n",
    "        char[][] maze = {\n",
    "            {'#', '#', '#', '#', '#'},\n",
    "            {'#', ' ', ' ', '#', 'E'},\n",
    "            {'#', ' ', '#', ' ', '#'},\n",
    "            {'#', ' ', ' ', ' ', '#'},\n",
    "            {'#', '#', '#', '#', '#'}\n",
    "        };\n",
    "\n",
    "        // Start at position (1, 4) and check if we can reach the exit\n",
    "        boolean result = solveMaze(maze, 1, 4);\n",
    "        // Print the result\n",
    "        System.out.println(\"Can we solve the maze? \" + result); // Should print: true\n",
    "    }\n",
    "}\n",
    "\n",
    "MazeSolver.main(null);\n",
    "\n"
   ]
  },
  {
   "cell_type": "code",
   "execution_count": 4,
   "metadata": {},
   "outputs": [
    {
     "name": "stdout",
     "output_type": "stream",
     "text": [
      "Can we solve the maze? true\n"
     ]
    }
   ],
   "source": [
    "// This is the main class where we solve the maze problem\n",
    "public class MazeSolver {\n",
    "\n",
    "    // This method checks if there's a way from (startX, startY) to 'E'\n",
    "    public static boolean solveMaze(char[][] maze, int startX, int startY) {\n",
    "        // 1. Check if we're outside the maze or at a wall\n",
    "        if (startX < 0 || startX >= maze.length || startY < 0 || startY >= maze[0].length || maze[startX][startY] == '#') {\n",
    "            return false; // Can't move here\n",
    "        }\n",
    "\n",
    "        // 2. Check if we've found the exit\n",
    "        if (maze[startX][startY] == 'E') {\n",
    "            return true; // Exit found!\n",
    "        }\n",
    "\n",
    "        // 3. Mark this spot as visited to avoid loops\n",
    "        maze[startX][startY] = '#';\n",
    "\n",
    "        // 4. Try moving in all four directions\n",
    "        // Move up\n",
    "        boolean up = solveMaze(maze, startX - 1, startY);\n",
    "        // Move down\n",
    "        boolean down = solveMaze(maze, startX + 1, startY);\n",
    "        // Move left\n",
    "        boolean left = solveMaze(maze, startX, startY - 1);\n",
    "        // Move right\n",
    "        boolean right = solveMaze(maze, startX, startY + 1);\n",
    "\n",
    "        // 5. Restore the current cell (backtracking)\n",
    "        maze[startX][startY] = ' ';\n",
    "\n",
    "        // 6. If any direction leads to the exit, return true\n",
    "        return up || down || left || right;\n",
    "    }\n",
    "\n",
    "    // The main method to test the maze\n",
    "    public static void main(String[] args) {\n",
    "        // A simple maze where '#' = wall, ' ' = open path, 'E' = exit\n",
    "        char[][] maze = {\n",
    "            {'#', '#', '#', '#', '#'},\n",
    "            {'#', ' ', ' ', '#', '#'},\n",
    "            {'#', ' ', '#', 'E', '#'},\n",
    "            {'#', ' ', ' ', ' ', '#'},\n",
    "            {'#', '#', '#', '#', '#'}\n",
    "        };\n",
    "        \n",
    "        boolean result = solveMaze(maze, 3, 1); // Start at (3, 1)\n",
    "        System.out.println(\"Can we solve the maze? \" + result); // Should print: true\n",
    "    }\n",
    "}\n",
    "\n",
    "\n",
    "MazeSolver.main(null);\n",
    "\n",
    "\n"
   ]
  }
 ],
 "metadata": {
  "kernelspec": {
   "display_name": "Java",
   "language": "java",
   "name": "java"
  },
  "language_info": {
   "codemirror_mode": "java",
   "file_extension": ".jshell",
   "mimetype": "text/x-java-source",
   "name": "java",
   "pygments_lexer": "java",
   "version": "17.0.12+0"
  }
 },
 "nbformat": 4,
 "nbformat_minor": 2
}
