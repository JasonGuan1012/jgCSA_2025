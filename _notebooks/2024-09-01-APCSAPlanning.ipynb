{
 "cells": [
  {
   "cell_type": "markdown",
   "metadata": {},
   "source": [
    "---\n",
    "layout: post\n",
    "categories: [Hacks]\n",
    "title: APCSA Planning page\n",
    "description:  APCSA Planning...\n",
    "type: issues \n",
    "comments: true\n",
    "---"
   ]
  },
  {
   "cell_type": "markdown",
   "metadata": {},
   "source": [
    "### Goals\n",
    "- Learn to use the `emoji` and `wikipedia` libraries in Python.\n",
    "- Create a Jupyter Notebook that extracts information from Wikipedia.\n",
    "- Enhance the project with emoji and markdown for better presentation.\n",
    "- Learn a new computer language - `Java`.\n",
    "\n",
    "### Challenges\n",
    "- Understanding how to install and use new Python libraries.\n",
    "- Getting the markdown and emoji to display correctly in Jupyter Notebook.\n",
    "- Linking the notebook to the `index.md` file on GitHub Pages.\n",
    "- Understanding and utilize `Java` flexible.\n",
    "\n",
    "### Accomplishments\n",
    "- Successfully installed and used the `emoji` and `wikipedia` libraries.\n",
    "- Created a notebook that extracts and displays Wikipedia summaries.\n",
    "- Added emoji to make the output more engaging.\n"
   ]
  }
 ],
 "metadata": {
  "language_info": {
   "name": "python"
  }
 },
 "nbformat": 4,
 "nbformat_minor": 2
}
