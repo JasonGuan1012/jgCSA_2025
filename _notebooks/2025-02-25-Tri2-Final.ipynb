{
 "cells": [
  {
   "cell_type": "markdown",
   "metadata": {},
   "source": [
    "---\n",
    "toc: true\n",
    "layout: post\n",
    "title: Final Exam/Retrospective for Trimester 2 Review Ticket  \n",
    "description:  Final Exam/Retrospective for Trimester 2 Review Ticket\n",
    "type: issues \n",
    "courses: { csa: {week: 19} }\n",
    "comments: true\n",
    "---"
   ]
  },
  {
   "cell_type": "markdown",
   "metadata": {},
   "source": [
    "| **Requirement**                                                                        | **Description**                                                                                                                                                                                                                           | **Points** | **Evidence/Artifacts**                                                                    | **Status**         |\n",
    "|----------------------------------------------------------------------------------------|-------------------------------------------------------------------------------------------------------------------------------------------------------------------------------------------------------------------------------------------|-----------:|--------------------------------------------------------------------------------------------|--------------------|\n",
    "| **1. Five major accomplishments** <br>(Issues, Burn Down, lessons, presentations, analytics, personal blog) | List 5 things you’ve done over the past 12 weeks. Examples: <ul><li>Created/resolved Issues in GitHub</li><li>Used Burn Down charts</li><li>Presented lessons or analytics</li><li>Maintained a personal blog</li></ul>                   | 4.65/5          | - [Presentation for the Classes TeamTeach](https://nighthawkcoders.github.io/portfolio_2025/period3/frq/classes) <br> - [My GitHub Issues](https://github.com/JasonGuan1012/jgCSA_2025/issues) <br> - [My Personal Blog](https://jasonguan1012.github.io/jgCSA_2025/) <br> - [Burn Down List](https://github.com/JasonGuan1012/jgCSA_2025/issues/14) <br> - [Analytics](https://github.com/JasonGuan1012?tab=overview&from=2025-02-01&to=2025-02-26) <img width=\"900\" alt=\"Image\" src=\"https://github.com/user-attachments/assets/1cd308a6-efc9-408c-88e9-acd7f48d9314\" />| *To Do / <mark>**In Progress**</mark> / Done* |\n",
    "| **2. Full Stack Feature Demo** <br>(Include Java + N@tM feedback)                       | Demonstrate a full stack feature in your project. Highlight the Java code you wrote. Also include any feedback received during N@tM (Night at the Museum) or other showcases.                                                             | 1.87/2          | ![Image](https://github.com/user-attachments/assets/6219a36d-b6f6-4fcd-9c7e-74a6d0a4f64e) <br>- The parents from N@tM were giving us feedback such as \"Good Frontend design\", \"Interested Idea\", and \"I really like the mining game\", etc...                                                     | *To Do / In Progress / <mark>**Done**</mark>* |\n",
    "| **3. Key Feature Blog Write-Up** <br>(Visualization in drawIO or mermaid)               | Write a blog post explaining a key feature. Include a diagram (drawIO, mermaid, or similar) that illustrates your feature’s architecture or workflow.                                                                                    | 0.95/1          | <img width=\"854\" alt=\"Image\" src=\"https://github.com/user-attachments/assets/3f9e2dd3-f603-4777-aaef-1aebec0892d3\" />                                                                       | *To Do / In Progress / <mark>**Done**</mark>* |\n",
    "| **4. MCQ / FRQ Work**                                                                   | Show your practice or solutions for Multiple Choice Questions or Free Response Questions (AP exam style).                                                                                                                                | 0.87/1          | - [2015 Review Ticket](https://jasonguan1012.github.io/jgCSA_2025/2025/03/01/Practice-MCQ-ticket_IPYNB_2_.html) <br>- Getting such a high score in the Practice MCQ completely shocked me, however, there is still a lot for me to explore and practice because I know this luck won't always be there when it comes to the AP Test.                                                      | *To Do / <mark>**In Progress**</mark> / Done* |\n",
    "| **5. Impress Me (Reflection & Looking Forward)** <br>(The “10th Point”)                 | Provide a thoughtful retrospective: <ul><li>Reflect on strengths/weaknesses, next steps, and future plans in CS</li><li>Show interest in others’ projects (reviews, help)</li><li>Share your self-grade and reasoning</li><li>Prepare a concise 3-minute review</li></ul> | 0.92/1          | - **Reflection on Strengths & Weaknesses:** I managed my time really well, but the thing is that I'll need to work even better with the teams.<br> - **Next Steps & Future Plans:** My next step in CS is pretty hard to say, it's still undecided, but likely going to the Environmental Science major path. <br>  - **Engagement & Contributions:** I offered pretty clear feedback and helped a new classmate in CSSE and a few classmates with exam materials.  <br> - **Self-Grade & Justification:** I give myself a 0.92/1 for strong efficiency, and with room to improve planning.                                                    | *To Do / In Progress / **<mark>Done**</mark>* |\n"
   ]
  }
 ],
 "metadata": {
  "language_info": {
   "name": "python"
  }
 },
 "nbformat": 4,
 "nbformat_minor": 2
}
