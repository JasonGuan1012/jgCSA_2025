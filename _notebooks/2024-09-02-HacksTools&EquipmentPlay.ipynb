{
 "cells": [
  {
   "cell_type": "markdown",
   "metadata": {
    "vscode": {
     "languageId": "yaml"
    }
   },
   "source": [
    "---\n",
    "layout: post\n",
    "categories: [Hacks]\n",
    "title: Hacks Tools & Equipment Play Hacks\n",
    "description:  Hacks Tools & Equipment Play Hacks\n",
    "type: issues \n",
    "comments: true\n",
    "---"
   ]
  },
  {
   "cell_type": "markdown",
   "metadata": {},
   "source": [
    "# ***Formatting messages with emoji ↓↓↓***"
   ]
  },
  {
   "cell_type": "code",
   "execution_count": 3,
   "metadata": {},
   "outputs": [
    {
     "name": "stdout",
     "output_type": "stream",
     "text": [
      "Defaulting to user installation because normal site-packages is not writeable\n",
      "Collecting emoji\n",
      "  Downloading emoji-2.12.1-py3-none-any.whl.metadata (5.4 kB)\n",
      "Requirement already satisfied: typing-extensions>=4.7.0 in /home/jasonguan1012/.local/lib/python3.10/site-packages (from emoji) (4.9.0)\n",
      "Downloading emoji-2.12.1-py3-none-any.whl (431 kB)\n",
      "\u001b[33mWARNING: Error parsing dependencies of send2trash: Expected matching RIGHT_PARENTHESIS for LEFT_PARENTHESIS, after version specifier\n",
      "    sys-platform (==\"darwin\") ; extra == 'objc'\n",
      "                 ~^\u001b[0m\u001b[33m\n",
      "\u001b[0mInstalling collected packages: emoji\n",
      "Successfully installed emoji-2.12.1\n"
     ]
    }
   ],
   "source": [
    "!pip install emoji"
   ]
  },
  {
   "cell_type": "code",
   "execution_count": 4,
   "metadata": {},
   "outputs": [],
   "source": [
    "from emoji import emojize"
   ]
  },
  {
   "cell_type": "code",
   "execution_count": 7,
   "metadata": {},
   "outputs": [
    {
     "name": "stdout",
     "output_type": "stream",
     "text": [
      "👎 Python is confusing... 😢\n"
     ]
    }
   ],
   "source": [
    "message = emojize(\":thumbs_down: Python is confusing... :crying_face:\")\n",
    "print(message)"
   ]
  },
  {
   "cell_type": "markdown",
   "metadata": {},
   "source": [
    "# ***Exploring data with newspaper and wikipedia libraries ↓↓↓***"
   ]
  },
  {
   "cell_type": "code",
   "execution_count": 8,
   "metadata": {},
   "outputs": [
    {
     "name": "stdout",
     "output_type": "stream",
     "text": [
      "Defaulting to user installation because normal site-packages is not writeable\n",
      "Collecting newspaper3k\n",
      "  Downloading newspaper3k-0.2.8-py3-none-any.whl.metadata (11 kB)\n",
      "Collecting wikipedia\n",
      "  Downloading wikipedia-1.4.0.tar.gz (27 kB)\n",
      "  Preparing metadata (setup.py) ... \u001b[?25ldone\n",
      "\u001b[?25hRequirement already satisfied: beautifulsoup4>=4.4.1 in /usr/lib/python3/dist-packages (from newspaper3k) (4.10.0)\n",
      "Requirement already satisfied: Pillow>=3.3.0 in /usr/lib/python3/dist-packages (from newspaper3k) (9.0.1)\n",
      "Requirement already satisfied: PyYAML>=3.11 in /usr/lib/python3/dist-packages (from newspaper3k) (5.4.1)\n",
      "Collecting cssselect>=0.9.2 (from newspaper3k)\n",
      "  Downloading cssselect-1.2.0-py2.py3-none-any.whl.metadata (2.2 kB)\n",
      "Requirement already satisfied: lxml>=3.6.0 in /usr/lib/python3/dist-packages (from newspaper3k) (4.8.0)\n",
      "Collecting nltk>=3.2.1 (from newspaper3k)\n",
      "  Downloading nltk-3.9.1-py3-none-any.whl.metadata (2.9 kB)\n",
      "Requirement already satisfied: requests>=2.10.0 in /home/jasonguan1012/.local/lib/python3.10/site-packages (from newspaper3k) (2.31.0)\n",
      "Collecting feedparser>=5.2.1 (from newspaper3k)\n",
      "  Downloading feedparser-6.0.11-py3-none-any.whl.metadata (2.4 kB)\n",
      "Collecting tldextract>=2.0.1 (from newspaper3k)\n",
      "  Downloading tldextract-5.1.2-py3-none-any.whl.metadata (11 kB)\n",
      "Collecting feedfinder2>=0.0.4 (from newspaper3k)\n",
      "  Downloading feedfinder2-0.0.4.tar.gz (3.3 kB)\n",
      "  Preparing metadata (setup.py) ... \u001b[?25ldone\n",
      "\u001b[?25hCollecting jieba3k>=0.35.1 (from newspaper3k)\n",
      "  Downloading jieba3k-0.35.1.zip (7.4 MB)\n",
      "\u001b[2K     \u001b[90m━━━━━━━━━━━━━━━━━━━━━━━━━━━━━━━━━━━━━━━━\u001b[0m \u001b[32m7.4/7.4 MB\u001b[0m \u001b[31m17.1 MB/s\u001b[0m eta \u001b[36m0:00:00\u001b[0ma \u001b[36m0:00:01\u001b[0m\n",
      "\u001b[?25h  Preparing metadata (setup.py) ... \u001b[?25ldone\n",
      "\u001b[?25hRequirement already satisfied: python-dateutil>=2.5.3 in /usr/lib/python3/dist-packages (from newspaper3k) (2.8.1)\n",
      "Collecting tinysegmenter==0.3 (from newspaper3k)\n",
      "  Downloading tinysegmenter-0.3.tar.gz (16 kB)\n",
      "  Preparing metadata (setup.py) ... \u001b[?25ldone\n",
      "\u001b[?25hRequirement already satisfied: six in /usr/lib/python3/dist-packages (from feedfinder2>=0.0.4->newspaper3k) (1.16.0)\n",
      "Collecting sgmllib3k (from feedparser>=5.2.1->newspaper3k)\n",
      "  Downloading sgmllib3k-1.0.0.tar.gz (5.8 kB)\n",
      "  Preparing metadata (setup.py) ... \u001b[?25ldone\n",
      "\u001b[?25hRequirement already satisfied: click in /home/jasonguan1012/.local/lib/python3.10/site-packages (from nltk>=3.2.1->newspaper3k) (8.1.7)\n",
      "Collecting joblib (from nltk>=3.2.1->newspaper3k)\n",
      "  Downloading joblib-1.4.2-py3-none-any.whl.metadata (5.4 kB)\n",
      "Collecting regex>=2021.8.3 (from nltk>=3.2.1->newspaper3k)\n",
      "  Downloading regex-2024.7.24-cp310-cp310-manylinux_2_17_x86_64.manylinux2014_x86_64.whl.metadata (40 kB)\n",
      "Collecting tqdm (from nltk>=3.2.1->newspaper3k)\n",
      "  Downloading tqdm-4.66.5-py3-none-any.whl.metadata (57 kB)\n",
      "Requirement already satisfied: charset-normalizer<4,>=2 in /home/jasonguan1012/.local/lib/python3.10/site-packages (from requests>=2.10.0->newspaper3k) (3.3.2)\n",
      "Requirement already satisfied: idna<4,>=2.5 in /home/jasonguan1012/.local/lib/python3.10/site-packages (from requests>=2.10.0->newspaper3k) (3.6)\n",
      "Requirement already satisfied: urllib3<3,>=1.21.1 in /home/jasonguan1012/.local/lib/python3.10/site-packages (from requests>=2.10.0->newspaper3k) (2.2.0)\n",
      "Requirement already satisfied: certifi>=2017.4.17 in /home/jasonguan1012/.local/lib/python3.10/site-packages (from requests>=2.10.0->newspaper3k) (2023.11.17)\n",
      "Collecting requests-file>=1.4 (from tldextract>=2.0.1->newspaper3k)\n",
      "  Downloading requests_file-2.1.0-py2.py3-none-any.whl.metadata (1.7 kB)\n",
      "Collecting filelock>=3.0.8 (from tldextract>=2.0.1->newspaper3k)\n",
      "  Downloading filelock-3.15.4-py3-none-any.whl.metadata (2.9 kB)\n",
      "Downloading newspaper3k-0.2.8-py3-none-any.whl (211 kB)\n",
      "Downloading cssselect-1.2.0-py2.py3-none-any.whl (18 kB)\n",
      "Downloading feedparser-6.0.11-py3-none-any.whl (81 kB)\n",
      "Downloading nltk-3.9.1-py3-none-any.whl (1.5 MB)\n",
      "\u001b[2K   \u001b[90m━━━━━━━━━━━━━━━━━━━━━━━━━━━━━━━━━━━━━━━━\u001b[0m \u001b[32m1.5/1.5 MB\u001b[0m \u001b[31m18.8 MB/s\u001b[0m eta \u001b[36m0:00:00\u001b[0m\n",
      "\u001b[?25hDownloading tldextract-5.1.2-py3-none-any.whl (97 kB)\n",
      "Downloading filelock-3.15.4-py3-none-any.whl (16 kB)\n",
      "Downloading regex-2024.7.24-cp310-cp310-manylinux_2_17_x86_64.manylinux2014_x86_64.whl (776 kB)\n",
      "\u001b[2K   \u001b[90m━━━━━━━━━━━━━━━━━━━━━━━━━━━━━━━━━━━━━━━━\u001b[0m \u001b[32m776.5/776.5 kB\u001b[0m \u001b[31m21.5 MB/s\u001b[0m eta \u001b[36m0:00:00\u001b[0m\n",
      "\u001b[?25hDownloading requests_file-2.1.0-py2.py3-none-any.whl (4.2 kB)\n",
      "Downloading joblib-1.4.2-py3-none-any.whl (301 kB)\n",
      "Downloading tqdm-4.66.5-py3-none-any.whl (78 kB)\n",
      "Building wheels for collected packages: tinysegmenter, wikipedia, feedfinder2, jieba3k, sgmllib3k\n",
      "  Building wheel for tinysegmenter (setup.py) ... \u001b[?25ldone\n",
      "\u001b[?25h  Created wheel for tinysegmenter: filename=tinysegmenter-0.3-py3-none-any.whl size=13553 sha256=b151187f455fbef6709aab7f94504d12145d743f5bf2944e9a3a86eea244e8f4\n",
      "  Stored in directory: /home/jasonguan1012/.cache/pip/wheels/c8/d6/6c/384f58df48c00b9a31d638005143b5b3ac62c3d25fb1447f23\n",
      "  Building wheel for wikipedia (setup.py) ... \u001b[?25ldone\n",
      "\u001b[?25h  Created wheel for wikipedia: filename=wikipedia-1.4.0-py3-none-any.whl size=11695 sha256=55addc4604af321a7cf2cb88dc6c1f748c92f368f6edf966f817f7fd11305db7\n",
      "  Stored in directory: /home/jasonguan1012/.cache/pip/wheels/5e/b6/c5/93f3dec388ae76edc830cb42901bb0232504dfc0df02fc50de\n",
      "  Building wheel for feedfinder2 (setup.py) ... \u001b[?25ldone\n",
      "\u001b[?25h  Created wheel for feedfinder2: filename=feedfinder2-0.0.4-py3-none-any.whl size=3357 sha256=d1d6df7c136c87229ce347cae3613595382253485e97fd9fd75ad1b482c1db7e\n",
      "  Stored in directory: /home/jasonguan1012/.cache/pip/wheels/97/02/e7/a1ff1760e12bdbaab0ac824fae5c1bc933e41c4ccd6a8f8edb\n",
      "  Building wheel for jieba3k (setup.py) ... \u001b[?25ldone\n",
      "\u001b[?25h  Created wheel for jieba3k: filename=jieba3k-0.35.1-py3-none-any.whl size=7398404 sha256=1b5ee8a1ba5babe9f8b9dfe59b4b4da19f064fc164f545015e71b40971bbb276\n",
      "  Stored in directory: /home/jasonguan1012/.cache/pip/wheels/7a/c4/0c/12a9a314ecac499456c4c3b2fcc2f635a3b45a39dfbd240299\n",
      "  Building wheel for sgmllib3k (setup.py) ... \u001b[?25ldone\n",
      "\u001b[?25h  Created wheel for sgmllib3k: filename=sgmllib3k-1.0.0-py3-none-any.whl size=6066 sha256=57fcec7f569af6775cf31a073f8423ed525a1631a140dbe79f039c6b5fbe02f3\n",
      "  Stored in directory: /home/jasonguan1012/.cache/pip/wheels/f0/69/93/a47e9d621be168e9e33c7ce60524393c0b92ae83cf6c6e89c5\n",
      "Successfully built tinysegmenter wikipedia feedfinder2 jieba3k sgmllib3k\n",
      "\u001b[33mWARNING: Error parsing dependencies of send2trash: Expected matching RIGHT_PARENTHESIS for LEFT_PARENTHESIS, after version specifier\n",
      "    sys-platform (==\"darwin\") ; extra == 'objc'\n",
      "                 ~^\u001b[0m\u001b[33m\n",
      "\u001b[0mInstalling collected packages: tinysegmenter, sgmllib3k, jieba3k, tqdm, regex, joblib, filelock, feedparser, cssselect, wikipedia, requests-file, nltk, feedfinder2, tldextract, newspaper3k\n",
      "Successfully installed cssselect-1.2.0 feedfinder2-0.0.4 feedparser-6.0.11 filelock-3.15.4 jieba3k-0.35.1 joblib-1.4.2 newspaper3k-0.2.8 nltk-3.9.1 regex-2024.7.24 requests-file-2.1.0 sgmllib3k-1.0.0 tinysegmenter-0.3 tldextract-5.1.2 tqdm-4.66.5 wikipedia-1.4.0\n"
     ]
    }
   ],
   "source": [
    "#!pip install newspaper3k and wikipedia\n",
    "!pip install newspaper3k wikipedia\n",
    "\n",
    "from newspaper import Article\n",
    "import wikipedia \n",
    "from IPython.display import display, Markdown # add for Jupyter"
   ]
  },
  {
   "cell_type": "code",
   "execution_count": 9,
   "metadata": {},
   "outputs": [
    {
     "data": {
      "text/markdown": [
       "‘The Mandalorian’ finally comes into focus, while giving out a ‘Rebels’ yell"
      ],
      "text/plain": [
       "<IPython.core.display.Markdown object>"
      ]
     },
     "metadata": {},
     "output_type": "display_data"
    },
    {
     "data": {
      "text/markdown": [
       "Editor’s Note: The following contains spoilers about the fifth episode of “The Mandalorian,” Season 3, “The Pirate.”\n",
       "\n",
       "CNN —\n",
       "\n",
       "After what can at best be described as a somewhat disjointed third season thus far, the fifth episode of “The Mandalorian” began to bring those pieces together and into focus, while continuing to draw upon the “Star Wars” animated series that preceded it, including another cameo by a character from the rightfully lauded “Rebels.”\n",
       "\n",
       "Subtitled “The Pirate,” the episode presented further evidence of the dysfunctional nature of the New Republic, unable or unwilling to defend a faraway planet from an invading band of pirates. (Lucasfilm being a unit of Disney, the marauders had a certain “Yo ho, yo ho” vibe to them.)\n",
       "\n",
       "The siege also played into Mandalorian politics, and the efforts of Bo-Katan (Katee Sackhoff) to reclaim her heritage and potentially reunite her people’s various tribes, after leading them, along with Din Djarin (voiced by Pedro Pascal), to the rescue of his pal Greef Karga (Carl Weathers) and the planet’s residents.\n",
       "\n",
       "Still, the most pleasing moment for longtime “Star Wars” fans was likely what amounted to a throwaway scene, introducing a live-action version of the hulking alien Zeb, a character from the animated “Star Wars Rebels,” which concluded in 2018. “The Mandalorian” has drawn heavily from those properties, which were overseen by one of its executive producers, Dave Filoni. (In another nice touch, Steve Blum again provided the voice of the character, and Zeb looked a whole lot better than the pirate leader.)\n",
       "\n",
       "Finally, the episode closed with evidence that the evil Moff Gideon (played by Giancarlo Esposito previously) had seemingly been freed from the prison ship that was transporting him to stand trial, reviving that potential threat.\n",
       "\n",
       "Having resolved the fate of Grogu, a.k.a. Baby Yoda, during the first two seasons, “The Mandalorian” has thus moved on to fill in narrative gaps about an under-explored chapter in “Star Wars” history – namely, the factors that resulted in the fall of the New Republic and the rise of the First Order, the plot line featured in the most recent trilogy that began with “The Force Awakens.”\n",
       "\n",
       "“This isn’t a rebellion anymore,” a bureaucrat (played by Tim Meadows) says about what happens outside of the New Republic’s jurisdiction, conveying an indifference to the fate of the planet Nevarro overtly articulated later when it was observed that the governing body in Coruscant “doesn’t care.”\n",
       "\n",
       "Executive producers Jon Favreau and Filoni have taken their time in reaching this point, juggling these various issues in somewhat ungainly fashion through the first half of the season. That perhaps reflects the transition of the show to an emphasis on the macro instead of the micro, while still finding time to detour for the occasional “Rebels” yell."
      ],
      "text/plain": [
       "<IPython.core.display.Markdown object>"
      ]
     },
     "metadata": {},
     "output_type": "display_data"
    },
    {
     "name": "stdout",
     "output_type": "stream",
     "text": [
      "\n",
      "\n"
     ]
    },
    {
     "data": {
      "text/markdown": [
       "‘Jurassic Park’ still has bite at 30 years old, and here’s why"
      ],
      "text/plain": [
       "<IPython.core.display.Markdown object>"
      ]
     },
     "metadata": {},
     "output_type": "display_data"
    },
    {
     "data": {
      "text/markdown": [
       "CNN —\n",
       "\n",
       "It’s been 30 years since Steven Spielberg’s dinosaurs stampeded across the screen in the first “Jurassic Park,” but it feels more recent.\n",
       "\n",
       "I was 12 in June of 1993 and vividly remember watching with glee when the Tyrannosaurus Rex, with its teeny arms and perpetual scowl, blew the walls of the bathroom down like a big bad wolf and promptly ate the lawyer character (played to hilarious effect by Martin Ferrero). Part of this, surely, had to do with the fact that I was a mouthy pre-teen, and many adults in my sphere at the time opined that I “would make a great lawyer” just like my father – a fate I abhorred.\n",
       "\n",
       "Admittedly, I was the exact target audience for this creature feature, and even though I was already somewhat of a self-taught critic (note the aforementioned mouthiness), I was awed by what I saw that summer three decades ago, and my impressions of “Jurassic Park” remain to this day.\n",
       "\n",
       "Joseph Mazzello in \"Jurassic Park.\" Amblin/Universal/Kobal/Shutterstock\n",
       "\n",
       "Part of that lasting impact, of course, has to do with the still-groundbreaking effects in the movie, which surprisingly hold up, and on a fairly hi-tech 72-inch TV screen to boot. While the first dino money shot – of the plant-eating brachiosaurus – might look just a tad soupy in 2023, it still looks considerably better than more contemporary fare, and the ensuing imagery of the more predatory beasts (like T-rex and especially those raptors) remains top-notch. The computer-generated imagery in the movie is essentially credited with marking the end of stop-motion animation as the go-to effects option for films such as these, notably used in everything that came before, from 1933’s “King Kong” to 1981’s “Clash of the Titans.” The animatronics are something to behold as well, particularly the ailing triceratops responsible for that “one big pile of s—,” one of many priceless quips uttered by Ian Malcolm (Jeff Goldblum).\n",
       "\n",
       "The appeal of “Jurassic,” based on Michael Crichton’s acclaimed novel, is also largely due to the film’s suspenseful and pared-down pacing, which of course can be linked to Spielberg, who learned a thing or two about keeping his cards close to his chest with “Jaws” – the great white mother of all creature features that famously showed startlingly little of the big fish before the climax.\n",
       "\n",
       "Another “Jaws” connection is prolific film composer John Williams, the Spielberg collaborator who created a majestic score for “Jurassic Park” that is still synonymous with an air of discovery, one that can easily be hummed when looking upon any great view or upon entering a new and uncharted space.\n",
       "\n",
       "Laura Dern, Sam Neill and Joseph Mazzello in \"Jurassic Park.\" Amblin/Universal/Kobal/Shutterstock\n",
       "\n",
       "And then there’s the casting, an element that sometimes takes a number of years to truly appreciate. Aside from the always-dependable Goldblum, there’s Laura Dern, who carved out her own Sigourney Weaver-shaped notch in the movie thanks to that one terrifying sequence in the control shed. Plus, her reaction shot to that first dinosaur reveal – along with that of Sam Neill – could be viewed as a textbook for green-screen acting, which has become the standard ever since, in Marvel movies and beyond. Add to that the amazing and meme-worthy smaller performances from Samuel L. Jackson (“Hold onto your butts!”), Wayne Knight (“Ah ah ah! You didn’t say the magic word!”) and Bob Peck (“Clever girl”), and you’ve got a crowd-pleaser that is equal parts adventure, comedy and chomp-chomp thriller.\n",
       "\n",
       "While the rest of the entries in the “Jurassic” franchise have not exactly been up to par (aside from 2015’s not-terrible first reboot “Jurassic World”), the original flick still “rules” – and is definitely worth a rewatch on the occasion of its 30th birthday."
      ],
      "text/plain": [
       "<IPython.core.display.Markdown object>"
      ]
     },
     "metadata": {},
     "output_type": "display_data"
    },
    {
     "name": "stdout",
     "output_type": "stream",
     "text": [
      "\n",
      "\n"
     ]
    }
   ],
   "source": [
    "# Now i'll be extracting the articles and display them\n",
    "urls = [\"http://cnn.com/2023/03/29/entertainment/the-mandalorian-episode-5-recap/index.html\", \n",
    "        \"https://www.cnn.com/2023/06/09/entertainment/jurassic-park-anniversary/index.html\"]\n",
    "\n",
    "for url in urls:\n",
    "    article = Article(url)\n",
    "    article.download()\n",
    "    article.parse()\n",
    "    display(Markdown(article.title))\n",
    "    display(Markdown(article.text))\n",
    "    print(\"\\n\")"
   ]
  },
  {
   "cell_type": "code",
   "execution_count": 11,
   "metadata": {},
   "outputs": [
    {
     "data": {
      "text/markdown": [
       "### Python (programming language)"
      ],
      "text/plain": [
       "<IPython.core.display.Markdown object>"
      ]
     },
     "metadata": {},
     "output_type": "display_data"
    },
    {
     "data": {
      "text/markdown": [
       "Python is a high-level, general-purpose programming language. Its design philosophy emphasizes code readability with the use of significant indentation.\n",
       "Python is dynamically typed and garbage-collected. It supports multiple programming paradigms, including structured (particularly procedural), object-oriented and functional programming. It is often described as a \"batteries included\" language due to its comprehensive standard library.\n",
       "Guido van Rossum began working on Python in the late 1980s as a successor to the ABC programming language and first released it in 1991 as Python 0.9.0. Python 2.0 was released in 2000. Python 3.0, released in 2008, was a major revision not completely backward-compatible with earlier versions. Python 2.7.18, released in 2020, was the last release of Python 2.\n",
       "Python consistently ranks as one of the most popular programming languages, and has gained widespread use in the machine learning community.\n",
       "\n"
      ],
      "text/plain": [
       "<IPython.core.display.Markdown object>"
      ]
     },
     "metadata": {},
     "output_type": "display_data"
    },
    {
     "data": {
      "text/markdown": [
       "### JavaScript"
      ],
      "text/plain": [
       "<IPython.core.display.Markdown object>"
      ]
     },
     "metadata": {},
     "output_type": "display_data"
    },
    {
     "data": {
      "text/markdown": [
       "JavaScript (), often abbreviated as JS, is a programming language and core technology of the Web, alongside HTML and CSS. 99% of websites use JavaScript on the client side for webpage behavior.\n",
       "Web browsers have a dedicated JavaScript engine that executes the client code. These engines are also utilized in some servers and a variety of apps. The most popular runtime system for non-browser usage is Node.js.\n",
       "JavaScript is a high-level, often just-in-time compiled language that conforms to the ECMAScript standard. It has dynamic typing, prototype-based object-orientation, and first-class functions. It is multi-paradigm, supporting event-driven, functional, and imperative programming styles. It has application programming interfaces (APIs) for working with text, dates, regular expressions, standard data structures, and the Document Object Model (DOM).\n",
       "The ECMAScript standard does not include any input/output (I/O), such as networking, storage, or graphics facilities. In practice, the web browser or other runtime system provides JavaScript APIs for I/O.\n",
       "Although Java and JavaScript are similar in name, syntax, and respective standard libraries, the two languages are distinct and differ greatly in design."
      ],
      "text/plain": [
       "<IPython.core.display.Markdown object>"
      ]
     },
     "metadata": {},
     "output_type": "display_data"
    }
   ],
   "source": [
    "# Now I'll be extracting and displaying data from Wikipedia\n",
    "terms = [\"Python (programming language)\", \"JavaScript\"]\n",
    "for term in terms:\n",
    "    result = wikipedia.search(term)\n",
    "    summary = wikipedia.summary(result[0])\n",
    "    display(Markdown(f\"### {term}\"))\n",
    "    display(Markdown(summary))"
   ]
  },
  {
   "cell_type": "markdown",
   "metadata": {},
   "source": [
    "# ***Inspecting a Function ↓↓↓***"
   ]
  },
  {
   "cell_type": "code",
   "execution_count": 12,
   "metadata": {},
   "outputs": [
    {
     "name": "stdout",
     "output_type": "stream",
     "text": [
      "class Article(object):\n",
      "    \"\"\"Article objects abstract an online news article page\n",
      "    \"\"\"\n",
      "    def __init__(self, url, title='', source_url='', config=None, **kwargs):\n",
      "        \"\"\"The **kwargs argument may be filled with config values, which\n",
      "        is added into the config object\n",
      "        \"\"\"\n",
      "        if isinstance(title, Configuration) or \\\n",
      "                isinstance(source_url, Configuration):\n",
      "            raise ArticleException(\n",
      "                'Configuration object being passed incorrectly as title or '\n",
      "                'source_url! Please verify `Article`s __init__() fn.')\n",
      "\n",
      "        self.config = config or Configuration()\n",
      "        self.config = extend_config(self.config, kwargs)\n",
      "\n",
      "        self.extractor = ContentExtractor(self.config)\n",
      "\n",
      "        if source_url == '':\n",
      "            scheme = urls.get_scheme(url)\n",
      "            if scheme is None:\n",
      "                scheme = 'http'\n",
      "            source_url = scheme + '://' + urls.get_domain(url)\n",
      "\n",
      "        if source_url is None or source_url == '':\n",
      "            raise ArticleException('input url bad format')\n",
      "\n",
      "        # URL to the main page of the news source which owns this article\n",
      "        self.source_url = source_url\n",
      "\n",
      "        self.url = urls.prepare_url(url, self.source_url)\n",
      "\n",
      "        self.title = title\n",
      "\n",
      "        # URL of the \"best image\" to represent this article\n",
      "        self.top_img = self.top_image = ''\n",
      "\n",
      "        # stores image provided by metadata\n",
      "        self.meta_img = ''\n",
      "\n",
      "        # All image urls in this article\n",
      "        self.imgs = self.images = []\n",
      "\n",
      "        # All videos in this article: youtube, vimeo, etc\n",
      "        self.movies = []\n",
      "\n",
      "        # Body text from this article\n",
      "        self.text = ''\n",
      "\n",
      "        # `keywords` are extracted via nlp() from the body text\n",
      "        self.keywords = []\n",
      "\n",
      "        # `meta_keywords` are extracted via parse() from <meta> tags\n",
      "        self.meta_keywords = []\n",
      "\n",
      "        # `tags` are also extracted via parse() from <meta> tags\n",
      "        self.tags = set()\n",
      "\n",
      "        # List of authors who have published the article, via parse()\n",
      "        self.authors = []\n",
      "\n",
      "        self.publish_date = ''\n",
      "\n",
      "        # Summary generated from the article's body txt\n",
      "        self.summary = ''\n",
      "\n",
      "        # This article's unchanged and raw HTML\n",
      "        self.html = ''\n",
      "\n",
      "        # The HTML of this article's main node (most important part)\n",
      "        self.article_html = ''\n",
      "\n",
      "        # Keep state for downloads and parsing\n",
      "        self.is_parsed = False\n",
      "        self.download_state = ArticleDownloadState.NOT_STARTED\n",
      "        self.download_exception_msg = None\n",
      "\n",
      "        # Meta description field in the HTML source\n",
      "        self.meta_description = \"\"\n",
      "\n",
      "        # Meta language field in HTML source\n",
      "        self.meta_lang = \"\"\n",
      "\n",
      "        # Meta favicon field in HTML source\n",
      "        self.meta_favicon = \"\"\n",
      "\n",
      "        # Meta tags contain a lot of structured data, e.g. OpenGraph\n",
      "        self.meta_data = {}\n",
      "\n",
      "        # The canonical link of this article if found in the meta data\n",
      "        self.canonical_link = \"\"\n",
      "\n",
      "        # Holds the top element of the DOM that we determine is a candidate\n",
      "        # for the main body of the article\n",
      "        self.top_node = None\n",
      "\n",
      "        # A deepcopied clone of the above object before heavy parsing\n",
      "        # operations, useful for users to query data in the\n",
      "        # \"most important part of the page\"\n",
      "        self.clean_top_node = None\n",
      "\n",
      "        # lxml DOM object generated from HTML\n",
      "        self.doc = None\n",
      "\n",
      "        # A deepcopied clone of the above object before undergoing heavy\n",
      "        # cleaning operations, serves as an API if users need to query the DOM\n",
      "        self.clean_doc = None\n",
      "\n",
      "        # A property dict for users to store custom data.\n",
      "        self.additional_data = {}\n",
      "\n",
      "    def build(self):\n",
      "        \"\"\"Build a lone article from a URL independent of the source (newspaper).\n",
      "        Don't normally call this method b/c it's good to multithread articles\n",
      "        on a source (newspaper) level.\n",
      "        \"\"\"\n",
      "        self.download()\n",
      "        self.parse()\n",
      "        self.nlp()\n",
      "\n",
      "    def download(self, input_html=None, title=None, recursion_counter=0):\n",
      "        \"\"\"Downloads the link's HTML content, don't use if you are batch async\n",
      "        downloading articles\n",
      "\n",
      "        recursion_counter (currently 1) stops refreshes that are potentially\n",
      "        infinite\n",
      "        \"\"\"\n",
      "        if input_html is None:\n",
      "            try:\n",
      "                html = network.get_html_2XX_only(self.url, self.config)\n",
      "            except requests.exceptions.RequestException as e:\n",
      "                self.download_state = ArticleDownloadState.FAILED_RESPONSE\n",
      "                self.download_exception_msg = str(e)\n",
      "                log.debug('Download failed on URL %s because of %s' %\n",
      "                          (self.url, self.download_exception_msg))\n",
      "                return\n",
      "        else:\n",
      "            html = input_html\n",
      "\n",
      "        if self.config.follow_meta_refresh:\n",
      "            meta_refresh_url = extract_meta_refresh(html)\n",
      "            if meta_refresh_url and recursion_counter < 1:\n",
      "                return self.download(\n",
      "                    input_html=network.get_html(meta_refresh_url),\n",
      "                    recursion_counter=recursion_counter + 1)\n",
      "\n",
      "        self.set_html(html)\n",
      "        self.set_title(title)\n",
      "\n",
      "    def parse(self):\n",
      "        self.throw_if_not_downloaded_verbose()\n",
      "\n",
      "        self.doc = self.config.get_parser().fromstring(self.html)\n",
      "        self.clean_doc = copy.deepcopy(self.doc)\n",
      "\n",
      "        if self.doc is None:\n",
      "            # `parse` call failed, return nothing\n",
      "            return\n",
      "\n",
      "        # TODO: Fix this, sync in our fix_url() method\n",
      "        parse_candidate = self.get_parse_candidate()\n",
      "        self.link_hash = parse_candidate.link_hash  # MD5\n",
      "\n",
      "        document_cleaner = DocumentCleaner(self.config)\n",
      "        output_formatter = OutputFormatter(self.config)\n",
      "\n",
      "        title = self.extractor.get_title(self.clean_doc)\n",
      "        self.set_title(title)\n",
      "\n",
      "        authors = self.extractor.get_authors(self.clean_doc)\n",
      "        self.set_authors(authors)\n",
      "\n",
      "        meta_lang = self.extractor.get_meta_lang(self.clean_doc)\n",
      "        self.set_meta_language(meta_lang)\n",
      "\n",
      "        if self.config.use_meta_language:\n",
      "            self.extractor.update_language(self.meta_lang)\n",
      "            output_formatter.update_language(self.meta_lang)\n",
      "\n",
      "        meta_favicon = self.extractor.get_favicon(self.clean_doc)\n",
      "        self.set_meta_favicon(meta_favicon)\n",
      "\n",
      "        meta_description = \\\n",
      "            self.extractor.get_meta_description(self.clean_doc)\n",
      "        self.set_meta_description(meta_description)\n",
      "\n",
      "        canonical_link = self.extractor.get_canonical_link(\n",
      "            self.url, self.clean_doc)\n",
      "        self.set_canonical_link(canonical_link)\n",
      "\n",
      "        tags = self.extractor.extract_tags(self.clean_doc)\n",
      "        self.set_tags(tags)\n",
      "\n",
      "        meta_keywords = self.extractor.get_meta_keywords(\n",
      "            self.clean_doc)\n",
      "        self.set_meta_keywords(meta_keywords)\n",
      "\n",
      "        meta_data = self.extractor.get_meta_data(self.clean_doc)\n",
      "        self.set_meta_data(meta_data)\n",
      "\n",
      "        self.publish_date = self.extractor.get_publishing_date(\n",
      "            self.url,\n",
      "            self.clean_doc)\n",
      "\n",
      "        # Before any computations on the body, clean DOM object\n",
      "        self.doc = document_cleaner.clean(self.doc)\n",
      "\n",
      "        self.top_node = self.extractor.calculate_best_node(self.doc)\n",
      "        if self.top_node is not None:\n",
      "            video_extractor = VideoExtractor(self.config, self.top_node)\n",
      "            self.set_movies(video_extractor.get_videos())\n",
      "\n",
      "            self.top_node = self.extractor.post_cleanup(self.top_node)\n",
      "            self.clean_top_node = copy.deepcopy(self.top_node)\n",
      "\n",
      "            text, article_html = output_formatter.get_formatted(\n",
      "                self.top_node)\n",
      "            self.set_article_html(article_html)\n",
      "            self.set_text(text)\n",
      "\n",
      "        self.fetch_images()\n",
      "\n",
      "        self.is_parsed = True\n",
      "        self.release_resources()\n",
      "\n",
      "    def fetch_images(self):\n",
      "        if self.clean_doc is not None:\n",
      "            meta_img_url = self.extractor.get_meta_img_url(\n",
      "                self.url, self.clean_doc)\n",
      "            self.set_meta_img(meta_img_url)\n",
      "\n",
      "            imgs = self.extractor.get_img_urls(self.url, self.clean_doc)\n",
      "            if self.meta_img:\n",
      "                imgs.add(self.meta_img)\n",
      "            self.set_imgs(imgs)\n",
      "\n",
      "        if self.clean_top_node is not None and not self.has_top_image():\n",
      "            first_img = self.extractor.get_first_img_url(\n",
      "                self.url, self.clean_top_node)\n",
      "            if self.config.fetch_images:\n",
      "                self.set_top_img(first_img)\n",
      "            else:\n",
      "                self.set_top_img_no_check(first_img)\n",
      "\n",
      "        if not self.has_top_image() and self.config.fetch_images:\n",
      "            self.set_reddit_top_img()\n",
      "\n",
      "    def has_top_image(self):\n",
      "        return self.top_img is not None and self.top_img != ''\n",
      "\n",
      "    def is_valid_url(self):\n",
      "        \"\"\"Performs a check on the url of this link to determine if article\n",
      "        is a real news article or not\n",
      "        \"\"\"\n",
      "        return urls.valid_url(self.url)\n",
      "\n",
      "    def is_valid_body(self):\n",
      "        \"\"\"If the article's body text is long enough to meet\n",
      "        standard article requirements, keep the article\n",
      "        \"\"\"\n",
      "        if not self.is_parsed:\n",
      "            raise ArticleException('must parse article before checking \\\n",
      "                                    if it\\'s body is valid!')\n",
      "        meta_type = self.extractor.get_meta_type(self.clean_doc)\n",
      "        wordcount = self.text.split(' ')\n",
      "        sentcount = self.text.split('.')\n",
      "\n",
      "        if (meta_type == 'article' and len(wordcount) >\n",
      "                (self.config.MIN_WORD_COUNT)):\n",
      "            log.debug('%s verified for article and wc' % self.url)\n",
      "            return True\n",
      "\n",
      "        if not self.is_media_news() and not self.text:\n",
      "            log.debug('%s caught for no media no text' % self.url)\n",
      "            return False\n",
      "\n",
      "        if self.title is None or len(self.title.split(' ')) < 2:\n",
      "            log.debug('%s caught for bad title' % self.url)\n",
      "            return False\n",
      "\n",
      "        if len(wordcount) < self.config.MIN_WORD_COUNT:\n",
      "            log.debug('%s caught for word cnt' % self.url)\n",
      "            return False\n",
      "\n",
      "        if len(sentcount) < self.config.MIN_SENT_COUNT:\n",
      "            log.debug('%s caught for sent cnt' % self.url)\n",
      "            return False\n",
      "\n",
      "        if self.html is None or self.html == '':\n",
      "            log.debug('%s caught for no html' % self.url)\n",
      "            return False\n",
      "\n",
      "        log.debug('%s verified for default true' % self.url)\n",
      "        return True\n",
      "\n",
      "    def is_media_news(self):\n",
      "        \"\"\"If the article is related heavily to media:\n",
      "        gallery, video, big pictures, etc\n",
      "        \"\"\"\n",
      "        safe_urls = ['/video', '/slide', '/gallery', '/powerpoint',\n",
      "                     '/fashion', '/glamour', '/cloth']\n",
      "        for s in safe_urls:\n",
      "            if s in self.url:\n",
      "                return True\n",
      "        return False\n",
      "\n",
      "    def nlp(self):\n",
      "        \"\"\"Keyword extraction wrapper\n",
      "        \"\"\"\n",
      "        self.throw_if_not_downloaded_verbose()\n",
      "        self.throw_if_not_parsed_verbose()\n",
      "\n",
      "        nlp.load_stopwords(self.config.get_language())\n",
      "        text_keyws = list(nlp.keywords(self.text).keys())\n",
      "        title_keyws = list(nlp.keywords(self.title).keys())\n",
      "        keyws = list(set(title_keyws + text_keyws))\n",
      "        self.set_keywords(keyws)\n",
      "\n",
      "        max_sents = self.config.MAX_SUMMARY_SENT\n",
      "\n",
      "        summary_sents = nlp.summarize(title=self.title, text=self.text, max_sents=max_sents)\n",
      "        summary = '\\n'.join(summary_sents)\n",
      "        self.set_summary(summary)\n",
      "\n",
      "    def get_parse_candidate(self):\n",
      "        \"\"\"A parse candidate is a wrapper object holding a link hash of this\n",
      "        article and a final_url of the article\n",
      "        \"\"\"\n",
      "        if self.html:\n",
      "            return RawHelper.get_parsing_candidate(self.url, self.html)\n",
      "        return URLHelper.get_parsing_candidate(self.url)\n",
      "\n",
      "    def build_resource_path(self):\n",
      "        \"\"\"Must be called after computing HTML/final URL\n",
      "        \"\"\"\n",
      "        res_path = self.get_resource_path()\n",
      "        if not os.path.exists(res_path):\n",
      "            os.mkdir(res_path)\n",
      "\n",
      "    def get_resource_path(self):\n",
      "        \"\"\"Every article object has a special directory to store data in from\n",
      "        initialization to garbage collection\n",
      "        \"\"\"\n",
      "        res_dir_fn = 'article_resources'\n",
      "        resource_directory = os.path.join(settings.TOP_DIRECTORY, res_dir_fn)\n",
      "        if not os.path.exists(resource_directory):\n",
      "            os.mkdir(resource_directory)\n",
      "        dir_path = os.path.join(resource_directory, '%s_' % self.link_hash)\n",
      "        return dir_path\n",
      "\n",
      "    def release_resources(self):\n",
      "        # TODO: implement in entirety\n",
      "        path = self.get_resource_path()\n",
      "        for fname in glob.glob(path):\n",
      "            try:\n",
      "                os.remove(fname)\n",
      "            except OSError:\n",
      "                pass\n",
      "        # os.remove(path)\n",
      "\n",
      "    def set_reddit_top_img(self):\n",
      "        \"\"\"Wrapper for setting images. Queries known image attributes\n",
      "        first, then uses Reddit's image algorithm as a fallback.\n",
      "        \"\"\"\n",
      "        try:\n",
      "            s = images.Scraper(self)\n",
      "            self.set_top_img(s.largest_image_url())\n",
      "        except TypeError as e:\n",
      "            if \"Can't convert 'NoneType' object to str implicitly\" in e.args[0]:\n",
      "                log.debug('No pictures found. Top image not set, %s' % e)\n",
      "            elif 'timed out' in e.args[0]:\n",
      "                log.debug('Download of picture timed out. Top image not set, %s' % e)\n",
      "            else:\n",
      "                log.critical('TypeError other than None type error. '\n",
      "                             'Cannot set top image using the Reddit '\n",
      "                             'algorithm. Possible error with PIL., %s' % e)\n",
      "        except Exception as e:\n",
      "            log.critical('Other error with setting top image using the '\n",
      "                         'Reddit algorithm. Possible error with PIL, %s' % e)\n",
      "\n",
      "    def set_title(self, input_title):\n",
      "        if input_title:\n",
      "            self.title = input_title[:self.config.MAX_TITLE]\n",
      "\n",
      "    def set_text(self, text):\n",
      "        text = text[:self.config.MAX_TEXT]\n",
      "        if text:\n",
      "            self.text = text\n",
      "\n",
      "    def set_html(self, html):\n",
      "        \"\"\"Encode HTML before setting it\n",
      "        \"\"\"\n",
      "        if html:\n",
      "            if isinstance(html, bytes):\n",
      "                html = self.config.get_parser().get_unicode_html(html)\n",
      "            self.html = html\n",
      "            self.download_state = ArticleDownloadState.SUCCESS\n",
      "\n",
      "    def set_article_html(self, article_html):\n",
      "        \"\"\"Sets the HTML of just the article's `top_node`\n",
      "        \"\"\"\n",
      "        if article_html:\n",
      "            self.article_html = article_html\n",
      "\n",
      "    def set_meta_img(self, src_url):\n",
      "        self.meta_img = src_url\n",
      "        self.set_top_img_no_check(src_url)\n",
      "\n",
      "    def set_top_img(self, src_url):\n",
      "        if src_url is not None:\n",
      "            s = images.Scraper(self)\n",
      "            if s.satisfies_requirements(src_url):\n",
      "                self.set_top_img_no_check(src_url)\n",
      "\n",
      "    def set_top_img_no_check(self, src_url):\n",
      "        \"\"\"Provide 2 APIs for images. One at \"top_img\", \"imgs\"\n",
      "        and one at \"top_image\", \"images\"\n",
      "        \"\"\"\n",
      "        self.top_img = src_url\n",
      "        self.top_image = src_url\n",
      "\n",
      "    def set_imgs(self, imgs):\n",
      "        \"\"\"The motive for this method is the same as above, provide APIs\n",
      "        for both `article.imgs` and `article.images`\n",
      "        \"\"\"\n",
      "        self.images = imgs\n",
      "        self.imgs = imgs\n",
      "\n",
      "    def set_keywords(self, keywords):\n",
      "        \"\"\"Keys are stored in list format\n",
      "        \"\"\"\n",
      "        if not isinstance(keywords, list):\n",
      "            raise Exception(\"Keyword input must be list!\")\n",
      "        if keywords:\n",
      "            self.keywords = keywords[:self.config.MAX_KEYWORDS]\n",
      "\n",
      "    def set_authors(self, authors):\n",
      "        \"\"\"Authors are in [\"firstName lastName\", \"firstName lastName\"] format\n",
      "        \"\"\"\n",
      "        if not isinstance(authors, list):\n",
      "            raise Exception(\"authors input must be list!\")\n",
      "        if authors:\n",
      "            self.authors = authors[:self.config.MAX_AUTHORS]\n",
      "\n",
      "    def set_summary(self, summary):\n",
      "        \"\"\"Summary here refers to a paragraph of text from the\n",
      "        title text and body text\n",
      "        \"\"\"\n",
      "        self.summary = summary[:self.config.MAX_SUMMARY]\n",
      "\n",
      "    def set_meta_language(self, meta_lang):\n",
      "        \"\"\"Save langauges in their ISO 2-character form\n",
      "        \"\"\"\n",
      "        if meta_lang and len(meta_lang) >= 2 and \\\n",
      "           meta_lang in get_available_languages():\n",
      "            self.meta_lang = meta_lang[:2]\n",
      "\n",
      "    def set_meta_keywords(self, meta_keywords):\n",
      "        \"\"\"Store the keys in list form\n",
      "        \"\"\"\n",
      "        self.meta_keywords = [k.strip() for k in meta_keywords.split(',')]\n",
      "\n",
      "    def set_meta_favicon(self, meta_favicon):\n",
      "        self.meta_favicon = meta_favicon\n",
      "\n",
      "    def set_meta_description(self, meta_description):\n",
      "        self.meta_description = meta_description\n",
      "\n",
      "    def set_meta_data(self, meta_data):\n",
      "        self.meta_data = meta_data\n",
      "\n",
      "    def set_canonical_link(self, canonical_link):\n",
      "        self.canonical_link = canonical_link\n",
      "\n",
      "    def set_tags(self, tags):\n",
      "        self.tags = tags\n",
      "\n",
      "    def set_movies(self, movie_objects):\n",
      "        \"\"\"Trim video objects into just urls\n",
      "        \"\"\"\n",
      "        movie_urls = [o.src for o in movie_objects if o and o.src]\n",
      "        self.movies = movie_urls\n",
      "\n",
      "    def throw_if_not_downloaded_verbose(self):\n",
      "        \"\"\"Parse ArticleDownloadState -> log readable status\n",
      "        -> maybe throw ArticleException\n",
      "        \"\"\"\n",
      "        if self.download_state == ArticleDownloadState.NOT_STARTED:\n",
      "            raise ArticleException('You must `download()` an article first!')\n",
      "        elif self.download_state == ArticleDownloadState.FAILED_RESPONSE:\n",
      "            raise ArticleException('Article `download()` failed with %s on URL %s' %\n",
      "                  (self.download_exception_msg, self.url))\n",
      "\n",
      "    def throw_if_not_parsed_verbose(self):\n",
      "        \"\"\"Parse `is_parsed` status -> log readable status\n",
      "        -> maybe throw ArticleException\n",
      "        \"\"\"\n",
      "        if not self.is_parsed:\n",
      "            raise ArticleException('You must `parse()` an article first!')\n",
      "\n"
     ]
    }
   ],
   "source": [
    "import inspect \n",
    "from newspaper import Article\n",
    "\n",
    "# Inspect the source code of the Article function\n",
    "print(inspect.getsource(Article))"
   ]
  },
  {
   "cell_type": "markdown",
   "metadata": {},
   "source": [
    "# "
   ]
  },
  {
   "cell_type": "code",
   "execution_count": 14,
   "metadata": {},
   "outputs": [
    {
     "name": "stdout",
     "output_type": "stream",
     "text": [
      "Python (programming language)\n",
      "Python is a high-level, general-purpose programming language. Its design philosophy emphasizes code readability with the use of significant indentation.\n",
      "Python is dynamically typed and garbage-collected. It supports multiple programming paradigms, including structured (particularly procedural), object-oriented and functional programming. It is often described as a \"batteries included\" language due to its comprehensive standard library.\n",
      "Guido van Rossum began working on Python in the late 1980s as a successor to the ABC programming language and first released it in 1991 as Python 0.9.0. Python 2.0 was released in 2000. Python 3.0, released in 2008, was a major revision not completely backward-compatible with earlier versions. Python 2.7.18, released in 2020, was the last release of Python 2.\n",
      "Python consistently ranks as one of the most popular programming languages, and has gained widespread use in the machine learning community.\n",
      "\n",
      "\n"
     ]
    },
    {
     "data": {
      "text/markdown": [
       "**Python (programming language)**"
      ],
      "text/plain": [
       "<IPython.core.display.Markdown object>"
      ]
     },
     "metadata": {},
     "output_type": "display_data"
    },
    {
     "data": {
      "text/markdown": [
       "Python is a high-level, general-purpose programming language. Its design philosophy emphasizes code readability with the use of significant indentation.\n",
       "Python is dynamically typed and garbage-collected. It supports multiple programming paradigms, including structured (particularly procedural), object-oriented and functional programming. It is often described as a \"batteries included\" language due to its comprehensive standard library.\n",
       "Guido van Rossum began working on Python in the late 1980s as a successor to the ABC programming language and first released it in 1991 as Python 0.9.0. Python 2.0 was released in 2000. Python 3.0, released in 2008, was a major revision not completely backward-compatible with earlier versions. Python 2.7.18, released in 2020, was the last release of Python 2.\n",
       "Python consistently ranks as one of the most popular programming languages, and has gained widespread use in the machine learning community.\n",
       "\n"
      ],
      "text/plain": [
       "<IPython.core.display.Markdown object>"
      ]
     },
     "metadata": {},
     "output_type": "display_data"
    },
    {
     "name": "stdout",
     "output_type": "stream",
     "text": [
      "JavaScript\n",
      "JavaScript (), often abbreviated as JS, is a programming language and core technology of the Web, alongside HTML and CSS. 99% of websites use JavaScript on the client side for webpage behavior.\n",
      "Web browsers have a dedicated JavaScript engine that executes the client code. These engines are also utilized in some servers and a variety of apps. The most popular runtime system for non-browser usage is Node.js.\n",
      "JavaScript is a high-level, often just-in-time compiled language that conforms to the ECMAScript standard. It has dynamic typing, prototype-based object-orientation, and first-class functions. It is multi-paradigm, supporting event-driven, functional, and imperative programming styles. It has application programming interfaces (APIs) for working with text, dates, regular expressions, standard data structures, and the Document Object Model (DOM).\n",
      "The ECMAScript standard does not include any input/output (I/O), such as networking, storage, or graphics facilities. In practice, the web browser or other runtime system provides JavaScript APIs for I/O.\n",
      "Although Java and JavaScript are similar in name, syntax, and respective standard libraries, the two languages are distinct and differ greatly in design.\n"
     ]
    },
    {
     "data": {
      "text/markdown": [
       "**JavaScript**"
      ],
      "text/plain": [
       "<IPython.core.display.Markdown object>"
      ]
     },
     "metadata": {},
     "output_type": "display_data"
    },
    {
     "data": {
      "text/markdown": [
       "JavaScript (), often abbreviated as JS, is a programming language and core technology of the Web, alongside HTML and CSS. 99% of websites use JavaScript on the client side for webpage behavior.\n",
       "Web browsers have a dedicated JavaScript engine that executes the client code. These engines are also utilized in some servers and a variety of apps. The most popular runtime system for non-browser usage is Node.js.\n",
       "JavaScript is a high-level, often just-in-time compiled language that conforms to the ECMAScript standard. It has dynamic typing, prototype-based object-orientation, and first-class functions. It is multi-paradigm, supporting event-driven, functional, and imperative programming styles. It has application programming interfaces (APIs) for working with text, dates, regular expressions, standard data structures, and the Document Object Model (DOM).\n",
       "The ECMAScript standard does not include any input/output (I/O), such as networking, storage, or graphics facilities. In practice, the web browser or other runtime system provides JavaScript APIs for I/O.\n",
       "Although Java and JavaScript are similar in name, syntax, and respective standard libraries, the two languages are distinct and differ greatly in design."
      ],
      "text/plain": [
       "<IPython.core.display.Markdown object>"
      ]
     },
     "metadata": {},
     "output_type": "display_data"
    },
    {
     "name": "stdout",
     "output_type": "stream",
     "text": [
      "Python is confusing! 👎 😢\n"
     ]
    }
   ],
   "source": [
    "# I have to make sure that the \"emoji\" and \"wikipedia\" is installed correctly orelse it won't display correctly or even not shwoing up\n",
    "# I installed them using !pip install...\n",
    "# !pip install emoji wikipedia\n",
    "# # Import necessary libraries\n",
    "import wikipedia  # This library helps you get Wikipedia informations\n",
    "from IPython.display import display, Markdown  # For displaying content nicely in Jupyter Notebook\n",
    "\n",
    "# This is listing topics that we wanted to look up on Wikipedia\n",
    "terms = [\"Python (programming language)\", \"JavaScript\"]\n",
    "\n",
    "for term in terms:\n",
    "    # Searching Wikipedia for the term\n",
    "    result = wikipedia.search(term)\n",
    "    \n",
    "    # Get a summary of the first result\n",
    "    summary = wikipedia.summary(result[0])\n",
    "    \n",
    "    # Printing out the topic and the summary\n",
    "    print(term)\n",
    "    print(summary)  # This will show up in the console\n",
    "\n",
    "    # Display the summary in Jupyter Notebook\n",
    "    display(Markdown(f\"**{term}**\"))  # Display the topic\n",
    "    display(Markdown(summary))  # Display the summary\n",
    "\n",
    "# Import the emoji library\n",
    "import emoji\n",
    "\n",
    "# Print a message with emojis\n",
    "print(emoji.emojize(\"Python is confusing! :thumbs_down: :crying_face:\"))\n",
    "\n"
   ]
  }
 ],
 "metadata": {
  "kernelspec": {
   "display_name": "Python 3",
   "language": "python",
   "name": "python3"
  },
  "language_info": {
   "codemirror_mode": {
    "name": "ipython",
    "version": 3
   },
   "file_extension": ".py",
   "mimetype": "text/x-python",
   "name": "python",
   "nbconvert_exporter": "python",
   "pygments_lexer": "ipython3",
   "version": "3.10.12"
  }
 },
 "nbformat": 4,
 "nbformat_minor": 2
}
