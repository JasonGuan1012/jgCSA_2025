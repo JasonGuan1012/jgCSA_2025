{
 "cells": [
  {
   "cell_type": "markdown",
   "metadata": {},
   "source": [
    "---\n",
    "layout: post\n",
    "categories: [DevOps]\n",
    "title: 7.6 TeamTeach - ArrayLists, Sorting\n",
    "description:  Here's where I will use to teach 7.6 - ArrayLists, Sorting.\n",
    "type: issues \n",
    "comments: true\n",
    "---"
   ]
  },
  {
   "cell_type": "markdown",
   "metadata": {},
   "source": [
    "# **7.6 - ArrayLists, Sorting**\n",
    "\n",
    "## Selection Sort. \n",
    "- The one of the easiest sorts to demonstrate. \n",
    "- The selection sort identifies either the **maximum** or **minimum** of the compared values and iterates over the structure checking if the item stored at the index matches that condition, if so, it will swap the value stroed at that index and continue. \n",
    "- This implementation uses a helper method to perform the swap operation since variables can hold **only one value at a time**!!!\n",
    "\n",
    "### Let’s use this array as an example: **arr[] = {64, 25, 12, 22, 11}**\n",
    "![picture 1 for selection sortin](https://i.ibb.co/0CLDsNx/Screenshot-2024-09-17-12-39-20.png)\n",
    "![picture 2 for selection sortin](https://i.ibb.co/cLVWs6T/Screenshot-2024-09-17-12-41-30.png)\n",
    "![picture 3 for selection sortin](https://i.ibb.co/T2KjMtR/Screenshot-2024-09-17-12-41-37.png)\n",
    "![picture 4 for selection sortin](https://i.ibb.co/109NWPk/Screenshot-2024-09-17-12-41-42.png)\n",
    "![picture 5 for selection sortin](https://i.ibb.co/h8vhKcQ/Screenshot-2024-09-17-12-41-57.png)\n",
    "\n",
    "\n",
    "\n",
    "### ***Can an enhanced for loop be used?***\n",
    "- **Answer:** No, The Selection Sort algorithm needs to know the index of the item it is working with.\n",
    "### ***How does the swap occur?***\n",
    "- **Answer:** A third variable is needed to temporarily hold on to the swapped value from the array since variables can only hold one thing at a time.\n",
    "\n",
    "\n",
    "**College Board Example code below...**"
   ]
  },
  {
   "cell_type": "code",
   "execution_count": null,
   "metadata": {
    "vscode": {
     "languageId": "java"
    }
   },
   "outputs": [],
   "source": [
    "for (int outerLoop = 0; outerLoop < myDucks.length; outerLoop++) \n",
    "{\n",
    "    int minIndex = outerLoop;\n",
    "    for (int inner = outerLoop + 1; inner < myDucks.length; inner++) \n",
    "    {\n",
    "        if (myDucks[inner].compareTo(myDucks[minIndex]) < 0) \n",
    "        {\n",
    "            minIndex = inner;\n",
    "        }\n",
    "    }\n",
    "\n",
    "    if (minIndex != outerLoop) \n",
    "    {\n",
    "        swapItems(minIndex, outerLoop, myDucks);\n",
    "    }\n",
    "}"
   ]
  },
  {
   "cell_type": "code",
   "execution_count": 1,
   "metadata": {
    "vscode": {
     "languageId": "java"
    }
   },
   "outputs": [],
   "source": [
    "public class DuckSorter {\n",
    "\n",
    "    public static void main(String[] args) {\n",
    "        // Create an array (list) of duck names to be sorted\n",
    "        String[] myDucks = {\"Mallard\", \"Teal\", \"Wood Duck\", \"Mandarin\"};\n",
    "\n",
    "        // Call the selectionSort method to sort the duck names alphabetically\n",
    "        selectionSort(myDucks);\n",
    "\n",
    "        // After sorting, print out the sorted list of ducks\n",
    "        for (String duck : myDucks) {\n",
    "            System.out.println(duck);\n",
    "        }\n",
    "    }\n",
    "\n",
    "    // This method sorts an array of strings (in this case, duck names) using selection sort\n",
    "    public static void selectionSort(String[] myDucks) {\n",
    "        // Outer loop: goes through each element in the array\n",
    "        for (int outerLoop = 0; outerLoop < myDucks.length; outerLoop++) {\n",
    "            // Assume the current position (outerLoop) holds the minimum value\n",
    "            int minIndex = outerLoop;\n",
    "\n",
    "            // Inner loop: compares the current element with the rest of the array\n",
    "            for (int inner = outerLoop + 1; inner < myDucks.length; inner++) {\n",
    "                // If we find a smaller value, update minIndex to that smaller value's position\n",
    "                if (myDucks[inner].compareTo(myDucks[minIndex]) < 0) {\n",
    "                    minIndex = inner;\n",
    "                }\n",
    "            }\n",
    "\n",
    "            // If the minimum value is not already in its correct position, swap the elements\n",
    "            if (minIndex != outerLoop) {\n",
    "                swapItems(minIndex, outerLoop, myDucks);\n",
    "            }\n",
    "        }\n",
    "    }\n",
    "\n",
    "    // This method swaps two elements in the array\n",
    "    // index1 and index2 are the positions of the elements to swap\n",
    "    public static void swapItems(int index1, int index2, String[] array) {\n",
    "        // Temporarily store the value at index1\n",
    "        String temp = array[index1];\n",
    "        // Move the value at index2 to index1\n",
    "        array[index1] = array[index2];\n",
    "        // Move the temporarily stored value into index2\n",
    "        array[index2] = temp;\n",
    "    }\n",
    "}\n"
   ]
  },
  {
   "cell_type": "markdown",
   "metadata": {},
   "source": [
    "# Inserting Sort"
   ]
  }
 ],
 "metadata": {
  "kernelspec": {
   "display_name": "Java",
   "language": "java",
   "name": "java"
  },
  "language_info": {
   "codemirror_mode": "java",
   "file_extension": ".jshell",
   "mimetype": "text/x-java-source",
   "name": "Java",
   "pygments_lexer": "java",
   "version": "17.0.12+7-Ubuntu-1ubuntu222.04"
  }
 },
 "nbformat": 4,
 "nbformat_minor": 2
}
