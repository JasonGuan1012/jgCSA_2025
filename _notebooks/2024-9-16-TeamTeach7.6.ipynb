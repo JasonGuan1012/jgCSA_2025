{
 "cells": [
  {
   "cell_type": "markdown",
   "metadata": {},
   "source": [
    "# **7.6 - ArrayLists, Sorting**\n",
    "\n",
    "### Selection Sort. \n",
    "- The one of the easiest sorts to demonstrate. \n",
    "- The selection sort identifies either the **maximum** or **minimum** of the compared values and iterates over the structure checking if the item stored at the index matches that condition, if so, it will swap the value stroed at that index and continue. \n",
    "- This implementation uses a helper method to perform the swap operation since variables can hold **only one value at a time**!!!\n",
    "\n",
    "**Example below...**"
   ]
  },
  {
   "cell_type": "code",
   "execution_count": null,
   "metadata": {
    "vscode": {
     "languageId": "java"
    }
   },
   "outputs": [],
   "source": [
    "for (int outerLoop = 0; outerLoop < myDucks.length; outerLoop++) \n",
    "{\n",
    "    int minIndex = outerLoop;\n",
    "    for (int inner = outerLoop + 1; inner < myDucks.length; inner++) \n",
    "    {\n",
    "        if (myDucks[inner].compareTo(myDucks[minIndex]) < 0) \n",
    "        {\n",
    "            minIndex = inner;\n",
    "        }\n",
    "    }\n",
    "\n",
    "    if (minIndex != outerLoop) \n",
    "    {\n",
    "        swapItems(minIndex, outerLoop, myDucks);\n",
    "    }\n",
    "}"
   ]
  },
  {
   "cell_type": "code",
   "execution_count": 2,
   "metadata": {
    "vscode": {
     "languageId": "java"
    }
   },
   "outputs": [],
   "source": [
    "public class DuckSorter {\n",
    "\n",
    "    public static void main(String[] args) {\n",
    "        // Create an array (list) of duck names to be sorted\n",
    "        String[] myDucks = {\"Mallard\", \"Teal\", \"Wood Duck\", \"Mandarin\"};\n",
    "\n",
    "        // Call the selectionSort method to sort the duck names alphabetically\n",
    "        selectionSort(myDucks);\n",
    "\n",
    "        // After sorting, print out the sorted list of ducks\n",
    "        for (String duck : myDucks) {\n",
    "            System.out.println(duck);\n",
    "        }\n",
    "    }\n",
    "\n",
    "    // This method sorts an array of strings (in this case, duck names) using selection sort\n",
    "    public static void selectionSort(String[] myDucks) {\n",
    "        // Outer loop: goes through each element in the array\n",
    "        for (int outerLoop = 0; outerLoop < myDucks.length; outerLoop++) {\n",
    "            // Assume the current position (outerLoop) holds the minimum value\n",
    "            int minIndex = outerLoop;\n",
    "\n",
    "            // Inner loop: compares the current element with the rest of the array\n",
    "            for (int inner = outerLoop + 1; inner < myDucks.length; inner++) {\n",
    "                // If we find a smaller value, update minIndex to that smaller value's position\n",
    "                if (myDucks[inner].compareTo(myDucks[minIndex]) < 0) {\n",
    "                    minIndex = inner;\n",
    "                }\n",
    "            }\n",
    "\n",
    "            // If the minimum value is not already in its correct position, swap the elements\n",
    "            if (minIndex != outerLoop) {\n",
    "                swapItems(minIndex, outerLoop, myDucks);\n",
    "            }\n",
    "        }\n",
    "    }\n",
    "\n",
    "    // This method swaps two elements in the array\n",
    "    // index1 and index2 are the positions of the elements to swap\n",
    "    public static void swapItems(int index1, int index2, String[] array) {\n",
    "        // Temporarily store the value at index1\n",
    "        String temp = array[index1];\n",
    "        // Move the value at index2 to index1\n",
    "        array[index1] = array[index2];\n",
    "        // Move the temporarily stored value into index2\n",
    "        array[index2] = temp;\n",
    "    }\n",
    "}\n"
   ]
  }
 ],
 "metadata": {
  "kernelspec": {
   "display_name": "java (IJava/j!)",
   "language": "java",
   "name": "jbang-ijava"
  },
  "language_info": {
   "codemirror_mode": "java",
   "file_extension": ".jshell",
   "mimetype": "text/x-java-source",
   "name": "Java",
   "pygments_lexer": "java",
   "version": "17.0.12+7"
  }
 },
 "nbformat": 4,
 "nbformat_minor": 2
}
