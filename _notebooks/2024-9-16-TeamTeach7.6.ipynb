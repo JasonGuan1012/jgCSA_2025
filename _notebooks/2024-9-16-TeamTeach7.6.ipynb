{
 "cells": [
  {
   "cell_type": "markdown",
   "metadata": {},
   "source": [
    "---\n",
    "layout: post\n",
    "categories: [DevOps]\n",
    "title: 7.6 TeamTeach - ArrayLists, Sorting\n",
    "description:  Here's where I will use to teach 7.6 - ArrayLists, Sorting.\n",
    "type: issues \n",
    "comments: true\n",
    "---"
   ]
  },
  {
   "cell_type": "markdown",
   "metadata": {},
   "source": [
    "# **7.6 - ArrayLists, Sorting**\n",
    "\n",
    "## Selection Sort. \n",
    "- The one of the easiest sorts to demonstrate. \n",
    "- The selection sort identifies either the **maximum** or **minimum** of the compared values and iterates over the structure checking if the item stored at the index matches that condition, if so, it will swap the value stroed at that index and continue. \n",
    "- This implementation uses a helper method to perform the swap operation since variables can hold **only one value at a time**!!!\n",
    "\n",
    "### Let’s use this array as an example: **arr[] = {64, 25, 12, 22, 11}**\n",
    "![picture 1 for selection sortin](https://i.ibb.co/0CLDsNx/Screenshot-2024-09-17-12-39-20.png)\n",
    "![picture 2 for selection sortin](https://i.ibb.co/cLVWs6T/Screenshot-2024-09-17-12-41-30.png)\n",
    "![picture 3 for selection sortin](https://i.ibb.co/T2KjMtR/Screenshot-2024-09-17-12-41-37.png)\n",
    "![picture 4 for selection sortin](https://i.ibb.co/109NWPk/Screenshot-2024-09-17-12-41-42.png)\n",
    "![picture 5 for selection sortin](https://i.ibb.co/h8vhKcQ/Screenshot-2024-09-17-12-41-57.png)\n",
    "\n",
    "\n",
    "\n",
    "\n",
    "## **College Board Example code below...**"
   ]
  },
  {
   "cell_type": "code",
   "execution_count": null,
   "metadata": {},
   "outputs": [],
   "source": [
    "for (int outerLoop = 0; outerLoop < myDucks.length; outerLoop++) \n",
    "{\n",
    "    // Start by assuming the current item is the smallest\n",
    "    int minIndex = outerLoop;\n",
    "    \n",
    "    // Check the rest of the array for anything smaller\n",
    "    for (int inner = outerLoop + 1; inner < myDucks.length; inner++) \n",
    "    {\n",
    "        // If you find something smaller, update the index\n",
    "        if (myDucks[inner].compareTo(myDucks[minIndex]) < 0) \n",
    "        {\n",
    "            minIndex = inner;\n",
    "        }\n",
    "    }\n",
    "\n",
    "    // If the smallest item isn’t already in the right place, swap them\n",
    "    if (minIndex != outerLoop) \n",
    "    {\n",
    "        swapItems(minIndex, outerLoop, myDucks);\n",
    "    }\n",
    "}\n"
   ]
  },
  {
   "cell_type": "markdown",
   "metadata": {},
   "source": [
    "### Another Example..."
   ]
  },
  {
   "cell_type": "code",
   "execution_count": null,
   "metadata": {},
   "outputs": [],
   "source": [
    "public class SelectionSort {\n",
    "    public static void main(String[] args) {\n",
    "        int[] numbers = {64, 25, 12, 22, 11};  // Example array of numbers\n",
    "\n",
    "        // Perform selection sort\n",
    "        for (int outerLoop = 0; outerLoop < numbers.length - 1; outerLoop++) {\n",
    "            // Start by assuming the current item is the smallest\n",
    "            int minIndex = outerLoop;\n",
    "\n",
    "            // Check the rest of the array for anything smaller\n",
    "            for (int inner = outerLoop + 1; inner < numbers.length; inner++) {\n",
    "                // If you find something smaller, update the index\n",
    "                if (numbers[inner] < numbers[minIndex]) {\n",
    "                    minIndex = inner;\n",
    "                }\n",
    "            }\n",
    "\n",
    "            // If the smallest item isn’t already in the right place, swap them\n",
    "            if (minIndex != outerLoop) {\n",
    "                // Swap numbers[outerLoop] and numbers[minIndex]\n",
    "                int temp = numbers[outerLoop];\n",
    "                numbers[outerLoop] = numbers[minIndex];\n",
    "                numbers[minIndex] = temp;\n",
    "            }\n",
    "        }\n",
    "\n",
    "        // Print the sorted array\n",
    "        System.out.println(\"Sorted array:\");\n",
    "        for (int num : numbers) {\n",
    "            System.out.print(num + \" \");\n",
    "        }\n",
    "    }\n",
    "}\n"
   ]
  },
  {
   "cell_type": "markdown",
   "metadata": {},
   "source": [
    "### How does the swapping actualy happen?\n",
    "- We use swap-item mothod.\n",
    "\n",
    "**Swap Algorithm**"
   ]
  },
  {
   "cell_type": "code",
   "execution_count": null,
   "metadata": {},
   "outputs": [],
   "source": [
    "private void swapItems(int firstIndex, int secondIndex, Object[] arrayOfStuff)\n",
    "{\n",
    "    // **thirdHand** temporarily holds the value from firstIndex so it doesn't get lost during the swap\n",
    "    Object thirdHand = arrayOfStuff[firstIndex];\n",
    "    \n",
    "    // Move the value from secondIndex to firstIndex\n",
    "    arrayOfStuff[firstIndex] = arrayOfStuff[secondIndex];\n",
    "    \n",
    "    // Place the value that was originally at firstIndex (stored in thirdHand) into secondIndex\n",
    "    arrayOfStuff[secondIndex] = thirdHand;\n",
    "}\n",
    "// First you will see the three parameters as you can see below↓↓↓\n",
    "// **The firstIndex** = The index of the first item to be swapped.\n",
    "// **The secondIndex** = The index of the second item to be swapped.\n",
    "// **arrayOfStuff** = The array where the swapping takes place."
   ]
  },
  {
   "cell_type": "markdown",
   "metadata": {},
   "source": [
    "## Some common questions:\n",
    "### ***Can an enhanced for loop be used?***\n",
    "- **Answer:** No, The Selection Sort algorithm needs to know the index of the item it is working with.\n",
    "### ***How does the swap occur?***\n",
    "- **Answer:** A third variable is needed to temporarily hold on to the swapped value from the array since variables can only hold one thing at a time."
   ]
  },
  {
   "cell_type": "markdown",
   "metadata": {},
   "source": [
    "<br><br><br><br>"
   ]
  },
  {
   "cell_type": "markdown",
   "metadata": {},
   "source": [
    "## Inserting Sort\n",
    "- The insertion sort is characterized by building a sorted structure as it proceeds. It inserts each value it finds at the appropriate location in the data structure. This is often accomplished by using a while loop as the inner loop.\n",
    "\n",
    "![picture 1 for inserting sortin](https://media.geeksforgeeks.org/wp-content/uploads/20240802210251/Insertion-sorting.png)\n",
    "- Consider an array having elements : {23, 1, 10, 5, 2}\n",
    "\n",
    "\n",
    "\n",
    "***initial***:\n",
    "- Current element is ***23***\n",
    "- The first element in the array is assumed to be sorted.\n",
    "- The sorted part until ***0th*** index is : ***[23]***\n",
    "\n",
    "***First Pass***:\n",
    "- Compare ***1*** with ***23*** (current element with the sorted part).\n",
    "- Since ***1*** is smaller, insert ***1*** before ***23*** .\n",
    "- The sorted part until ***1st*** index is: ***[1, 23]***\n",
    "\n",
    "***Second Pass***:\n",
    "- Compare ***10*** with ***1*** and ***23*** (current element with the sorted part).\n",
    "- Since ***10*** is greater than ***1*** and smaller than ***23*** , insert ***10*** between ***1*** and ***23*** .\n",
    "- The sorted part until ***2nd*** index is: ***[1, 10, 23]***\n",
    "\n",
    "***Third Pass:***\n",
    "- Compare ***5*** with ***1*** , ***10***, and ***23*** (current element with the sorted part).\n",
    "- Since ***5*** is greater than ***1*** and smaller than ***10*** , insert ***5*** between ***1*** and ***10***\n",
    "- The sorted part until ***3rd*** index is : ***[1, 5, 10, 23]***\n",
    "\n",
    "***Fourth Pass:***\n",
    "- Compare ***2*** with ***1***, ***5***, ***10*** , and ***23*** (current element with the sorted part).\n",
    "- Since ***2*** is greater than ***1*** and smaller than ***5*** insert ***2*** between ***1*** and ***5*** .\n",
    "- The sorted part until ***4th*** index is: ***[1, 2, 5, 10, 23]***\n",
    "\n",
    "***Final Array:***\n",
    "- The sorted array is: ***[1, 2, 5, 10, 23]***"
   ]
  },
  {
   "cell_type": "markdown",
   "metadata": {},
   "source": [
    "## **College Board Example code below...**"
   ]
  },
  {
   "cell_type": "code",
   "execution_count": null,
   "metadata": {},
   "outputs": [],
   "source": [
    "for (int outer = 1; outer < randomList.size(); outer++) \n",
    "{\n",
    "    // Store the current element at position 'outer' to be inserted into the sorted portion\n",
    "    DebugDuck tested = randomList.get(outer);\n",
    "    int inner = outer - 1;\n",
    "\n",
    "    // Move elements to the right if they are greater than 'tested'\n",
    "    while (inner >= 0 && tested.compareTo(randomList.get(inner)) < 0) \n",
    "    {\n",
    "        // Shift element at 'inner' to the right\n",
    "        randomList.set(inner + 1, randomList.get(inner));\n",
    "        inner--;\n",
    "    }\n",
    "\n",
    "    // Insert 'tested' at the correct position\n",
    "    randomList.set(inner + 1, tested);\n",
    "}"
   ]
  },
  {
   "cell_type": "markdown",
   "metadata": {},
   "source": [
    "## Some common questions:\n",
    "### ***Why use a while loop as the inner loop?***\n",
    "- **Answer:** As soon as the condition is failed a while loop will not execute again, if a for loop was chosen a much more complex middle section of the for loop header is required.\n",
    "### ***Why is te insertion sort better than selection sort?***\n",
    "- **Answer:** This is because the structure is sorted up to the current value of execution."
   ]
  },
  {
   "cell_type": "markdown",
   "metadata": {},
   "source": [
    "# What should we take away? \n",
    "- Selection sort and insertion sort are iterative sorting algorithms that can be used to sort elemets in an arrayor **ArrayList**.\n",
    "- Informal run-time comparisons of program code segments can be made using statement execution counts."
   ]
  }
 ],
 "metadata": {
  "kernelspec": {
   "display_name": "java (IJava/j!)",
   "language": "java",
   "name": "jbang-ijava"
  },
  "language_info": {
   "codemirror_mode": "java",
   "file_extension": ".jshell",
   "mimetype": "text/x-java-source",
   "name": "java",
   "pygments_lexer": "java",
   "version": "17.0.12+7-Ubuntu-1ubuntu222.04"
  }
 },
 "nbformat": 4,
 "nbformat_minor": 2
}
