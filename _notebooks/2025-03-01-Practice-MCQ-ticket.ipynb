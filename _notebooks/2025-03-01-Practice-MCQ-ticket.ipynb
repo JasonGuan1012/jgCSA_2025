{
 "cells": [
  {
   "cell_type": "markdown",
   "metadata": {},
   "source": [
    "---\n",
    "toc: true\n",
    "layout: post\n",
    "title: 2015 Practice Exam MCQ - Review Ticket  \n",
    "description:  Student Teach and Software Development Objectives for Sprint 2 live reivew\n",
    "type: issues \n",
    "courses: { csa: {week: 18} }\n",
    "comments: true\n",
    "---"
   ]
  },
  {
   "cell_type": "markdown",
   "metadata": {},
   "source": [
    "# **2015 Practice Exam MCQ - Review Ticket**"
   ]
  },
  {
   "cell_type": "markdown",
   "metadata": {},
   "source": [
    "## 2015 Practice Exam MCQ - **Scores**\n",
    "\n",
    "My score is *34/39 (87%)*"
   ]
  },
  {
   "cell_type": "markdown",
   "metadata": {},
   "source": [
    "#### ***Corrections:***\n",
    "\n",
    "**Q33: Find maximum in 1D int array**\n",
    "- The correct answer should be **Answer E** because Choice I sets max to Integer.MIN_VALUE, which is the smallest possible integer value. Then it accesses each element in arr and assigns them value. \n",
    "\n",
    "\n",
    "**Q35: Iterative binarySearch of 1D int array**\n",
    "- The correct answer should **Answer C** because in the first iteration of the binary search, it will check the value at index (0 + 7) / 2 which is index 3. Since 8 is greater than data[3], start is assigned mid + 1 which is 4 and the process will repeat. In the second iteration of the while loop, it will check the value at index (4 + 7) / 2 which is index 5. Since data[5] is 8, 5 is returned.\n",
    "\n",
    "**Q37: concatWords method with String array**\n",
    "- The correct answer is **Answer E** because Choice I adds duplicates, Choice II reverses order, and Choice III correctly reverses and selects elements.\n",
    "\n",
    "**Q38: mystery method with 1D int array, v and numVals**\n",
    "- The correct answer is **Answer C** because the method recursively counts occurrences of `v` in `numbers`, summing 1 for matches and 0 otherwise.\n",
    "\n",
    "**Q39: Consider the following code segment.**\n",
    "- The correct answer is **Answer C** because the first loop replaces all elements with \"Alex\" while printing original values, and the second loop prints \"Alex\" for each element."
   ]
  }
 ],
 "metadata": {
  "language_info": {
   "name": "python"
  }
 },
 "nbformat": 4,
 "nbformat_minor": 2
}
