{
 "cells": [
  {
   "cell_type": "markdown",
   "id": "0fd63fe4",
   "metadata": {},
   "source": [
    "---\n",
    "title: CyberSecurity Panel Takeaways.\n",
    "description: Takeaways from the CyerbSecurity Panel.\n",
    "type: issue\n",
    "comments: true\n",
    "permalink: /panel\n",
    "---"
   ]
  },
  {
   "cell_type": "markdown",
   "id": "de851d02",
   "metadata": {},
   "source": [
    "# ***CyberSecurity Panel Notes/Takeaways***\n",
    "\n",
    "## **CyberSecurity Landscape - Real World Thread**\n",
    "- Trying to steal data\n",
    "   - Fix the issue by reporting the violation of the hacking rule and saving the information to a safer location.\n",
    "- What is Zero Day? \n",
    "   - A vulnerability in software or hardware that is unknown by the developer or security community.\n",
    "\n",
    "## **Career Opportunities**\n",
    "- A career is not related to interest. Wanting chances in cybersecurity does not imply that you enjoy working with computers.\n",
    "- First, understand the subject and get experience to adjusted to the jobs.\n",
    "- Leadership and teamwork are really crucial.\n",
    "- A positive personality is also crucial in a cybersecurity team.\n",
    "- The main challenge is giving business arguments and communicating with leaders.\n",
    "\n",
    "## **Future of CyberSecurity**\n",
    "*What is the trend in the development of cybersecurity?*\n",
    "- The introduction of AI involves educating new employees on how to use technologies such as AI.\n",
    "   - Researching in cybersecurity area is highly competitive. \n",
    "      - Programmers compete each other around the nations. \n",
    "      - There are even some competition between the countries such as between Russia, US, and China, etc.\n",
    "\n",
    "\n",
    "### Selfies  \n",
    "<img src=\"https://github.com/user-attachments/assets/79df0e08-90f0-4551-8d16-5ff0856e8c4e\" width=\"200\"/>\n",
    "<img src=\"https://github.com/user-attachments/assets/12b87301-ede7-4a7c-bd27-1d189aecfaff\" width=\"200\"/>\n",
    "<img src=\"https://github.com/user-attachments/assets/8c8df428-739a-4cb4-8d92-93e118f505dd\" width=\"200\"/>\n",
    "<img src=\"https://github.com/user-attachments/assets/da985348-0034-4fd8-8065-7c6d752f2767\" width=\"200\"/>\n"
   ]
  }
 ],
 "metadata": {
  "language_info": {
   "name": "python"
  }
 },
 "nbformat": 4,
 "nbformat_minor": 5
}
