{
 "cells": [
  {
   "cell_type": "markdown",
   "id": "0fd63fe4",
   "metadata": {},
   "source": [
    "---\n",
    "title: CyberSecurity Panel Takeaways.\n",
    "description: Takeaways from the CyerbSecurity Panel.\n",
    "type: issue\n",
    "comments: true\n",
    "permalink: /panel\n",
    "---"
   ]
  },
  {
   "cell_type": "markdown",
   "id": "de851d02",
   "metadata": {},
   "source": [
    "# ***CyberSecurity Panel Notes/Takeaways***\n",
    "\n",
    "## **CyberSecurity Landscape - Real World Thread**\n",
    "- Trying to steal data  \n",
    "   - In real life, companies get hacked and people try to steal important info.  \n",
    "   - Best way to fix it is report the issue fast and move the data to somewhere safer.  \n",
    "   - This can really hurt a company if they lose key info — like money loss or trust issues.  \n",
    "- What is Zero Day?  \n",
    "   - It’s a security problem in software or hardware that no one knows about yet, not even the company that made it.  \n",
    "   - Since nobody knows, there’s no fix for it, so hackers can take advantage of it fast.  \n",
    "\n",
    "## **Career Opportunities**\n",
    "- A career not always come from interest. Just because you want to try cybersecurity doesn’t mean you love computers.  \n",
    "   - Some people just curious or want to solve real problems.  \n",
    "- First understand the topic and get some experience to get used to how the jobs feel like.  \n",
    "   - Try reading computer science book or take beginner class, or join clubs.  \n",
    "   - Things like internships or real practice help you learn better.  \n",
    "- Leadership and teamwork is super important.  \n",
    "   - You won’t be working alone, so knowing how to work with people matters a lot.  \n",
    "- Good personality helps a lot too in cybersecurity team.  \n",
    "   - Being friendly, easy to work with, and open to learning makes things smoother.  \n",
    "- Big challenge is talking with leaders and giving business reasons.  \n",
    "   - It’s hard to explain tech stuff in a simple way that business people understand.  \n",
    "   - You need to learn how to turn technical words into clear, easy explanations.  \n",
    "\n",
    "## **Future of CyberSecurity**  \n",
    "*What is the trend in the development of cybersecurity?*  \n",
    "- AI is coming in, and people need to be taught how to use tools like AI.  \n",
    "   - AI can help find problems or stop attacks faster, but people still need to know how to use it right.  \n",
    "- Cybersecurity research is super competitive.  \n",
    "   - Programmers from everywhere are working hard to build better tech.  \n",
    "   - Countries like US, Russia, and China also compete a lot in this space.  \n",
    "\n",
    "## **Key Takeaways**\n",
    "- Cybersecurity isn’t just coding. You also need to talk well, lead, and work in teams.  \n",
    "   - You might do more people stuff than just sitting and typing code.  \n",
    "- A career here doesn’t need to start with loving computers. Curiosity and wanting to help is enough to start.  \n",
    "   - Many people found this job just from wanting to fix or protect things.  \n",
    "- Ethical issues show up a lot. You gotta balance privacy, doing the right thing, and what’s legal.  \n",
    "   - Like sometimes what’s legal might not feel right, so you need to think carefully.  \n",
    "- Get a mentor, try real-world stuff, and don’t rush. Basics are important before going into hard stuff.  \n",
    "   - Learn step by step. Ask for help and learn by doing.  \n",
    "- Hardest part not always the tech stuff. Sometimes the hardest is saying things clear to leaders.  \n",
    "   - Being able to explain your idea in simple way can make a big difference.  \n",
    "\n",
    "### Selfies  \n",
    "<img src=\"https://github.com/user-attachments/assets/79df0e08-90f0-4551-8d16-5ff0856e8c4e\" width=\"200\"/>  \n",
    "<img src=\"https://github.com/user-attachments/assets/12b87301-ede7-4a7c-bd27-1d189aecfaff\" width=\"200\"/>  \n",
    "<img src=\"https://github.com/user-attachments/assets/8c8df428-739a-4cb4-8d92-93e118f505dd\" width=\"200\"/>  \n",
    "<img src=\"https://github.com/user-attachments/assets/da985348-0034-4fd8-8065-7c6d752f2767\" width=\"200\"/>  "
   ]
  }
 ],
 "metadata": {
  "language_info": {
   "name": "python"
  }
 },
 "nbformat": 4,
 "nbformat_minor": 5
}
