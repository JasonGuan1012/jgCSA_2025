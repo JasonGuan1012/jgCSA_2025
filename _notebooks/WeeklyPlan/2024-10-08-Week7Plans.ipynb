{
 "cells": [
  {
   "cell_type": "markdown",
   "metadata": {},
   "source": [
    "---\n",
    "layout: post\n",
    "title: Week 7 Plans\n",
    "description:  Week 7 Plans\n",
    "courses: {csa: {week: 7} }\n",
    "type: issues \n",
    "comments: true\n",
    "---"
   ]
  },
  {
   "cell_type": "markdown",
   "metadata": {},
   "source": [
    "# ***Trimester 1 PBL project.***\n",
    "\n",
    "- Having an idea on the PBL project where it's related to **finance**.\n",
    "\n",
    "- Make a summaries for all the teamteaches (Unit 1 - Unit 9)\n",
    "    - Finish the checklist / issue for **Sprint 2**.\n",
    "\n",
    "- Prepare for the Sprint 2 Live Review\n",
    "    - Make the homepage like a history timeline\n",
    "        - Make it contains all the projects that I've done in APCSA.\n",
    "\n",
    "- Keep updating the Weekly Plans.\n",
    "\n",
    "\n",
    "\n",
    "\n",
    "\n",
    "\n"
   ]
  }
 ],
 "metadata": {
  "language_info": {
   "name": "python"
  }
 },
 "nbformat": 4,
 "nbformat_minor": 2
}
