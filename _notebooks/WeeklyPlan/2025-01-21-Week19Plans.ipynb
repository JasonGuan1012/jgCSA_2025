{
 "cells": [
  {
   "cell_type": "markdown",
   "metadata": {},
   "source": [
    "---\n",
    "layout: post\n",
    "title: Week 19 Plans\n",
    "description:  Week 19 Plans\n",
    "courses: {csa: {week: 19} }\n",
    "type: issues \n",
    "comments: true\n",
    "---"
   ]
  },
  {
   "cell_type": "markdown",
   "metadata": {},
   "source": [
    "# ***Tri 1 - PBL Project Ideation.***\n",
    "\n",
    "- Finish the ideation for PBL Project.\n",
    "\n",
    "- Keep updating the Weekly Plans.\n",
    "\n",
    "- Prepare for the Live Review.\n",
    "\n",
    "\n",
    "\n",
    "\n",
    "\n",
    "\n",
    "\n"
   ]
  }
 ],
 "metadata": {
  "language_info": {
   "name": "python"
  }
 },
 "nbformat": 4,
 "nbformat_minor": 2
}
