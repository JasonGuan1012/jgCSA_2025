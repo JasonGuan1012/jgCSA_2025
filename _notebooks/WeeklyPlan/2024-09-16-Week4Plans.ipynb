{
 "cells": [
  {
   "cell_type": "markdown",
   "metadata": {},
   "source": [
    "---\n",
    "layout: post\n",
    "title: Week 4 Plans\n",
    "description:  Week 4 Plans\n",
    "courses: {csa: {week: 4} }\n",
    "type: issues \n",
    "comments: true\n",
    "---"
   ]
  },
  {
   "cell_type": "markdown",
   "metadata": {},
   "source": [
    "# ***Team Teaches...***\n",
    "\n",
    "- Get ready for the **Unit 7 Team Teach** live review.\n",
    "\n",
    "    - Go on College Board and learn about *ArrayLists - Sortings*.\n",
    "\n",
    "    - Put on the visual representations so that the audiences might have a better understandings on the contents.\n",
    "\n",
    "    - Put the College Board example codes for both the Selection Sorting and Inserting Sorting.\n",
    "\n",
    "    - Add a big one popcorn hack for 7.6 Sorting.\n",
    "\n",
    "- Finishing the TeamTeaches hacks.\n",
    "\n",
    "\n",
    "\n",
    "\n",
    "\n",
    "\n"
   ]
  }
 ],
 "metadata": {
  "language_info": {
   "name": "python"
  }
 },
 "nbformat": 4,
 "nbformat_minor": 2
}
