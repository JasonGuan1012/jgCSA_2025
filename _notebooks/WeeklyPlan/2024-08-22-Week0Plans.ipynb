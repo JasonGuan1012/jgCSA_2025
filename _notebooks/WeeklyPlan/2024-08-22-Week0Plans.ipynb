{
 "cells": [
  {
   "cell_type": "markdown",
   "metadata": {},
   "source": [
    "---\n",
    "layout: post\n",
    "title: Week 0 Plans\n",
    "description:  Week 0 Plans\n",
    "courses: {csa: {week: 0} }\n",
    "type: issues \n",
    "comments: true\n",
    "---"
   ]
  },
  {
   "cell_type": "markdown",
   "metadata": {},
   "source": [
    "\n",
    "# ***Get the tools set up***\n",
    "\n",
    "- Look at the **README.md**.\n",
    "\n",
    "- Look at the things that we need to do next week.\n",
    "    - So that I'm prepared.\n",
    "    \n",
    "- Get used to the new environment for APCSA.\n",
    "    - Since it's not APCSP anymore, probably be a little bit different."
   ]
  }
 ],
 "metadata": {
  "language_info": {
   "name": "python"
  }
 },
 "nbformat": 4,
 "nbformat_minor": 2
}
