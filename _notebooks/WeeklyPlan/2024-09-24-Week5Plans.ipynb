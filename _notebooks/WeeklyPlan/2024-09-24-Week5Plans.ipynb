{
 "cells": [
  {
   "cell_type": "markdown",
   "metadata": {},
   "source": [
    "---\n",
    "layout: post\n",
    "title: Week 5 Plans\n",
    "description:  Week 5 Plans\n",
    "courses: {csa: {week: 5} }\n",
    "type: issues \n",
    "comments: true\n",
    "---"
   ]
  },
  {
   "cell_type": "markdown",
   "metadata": {},
   "source": [
    "# ***Team Teaches...***\n",
    "\n",
    "- Get ready for the **Unit 7 Team Teach** live review.\n",
    "\n",
    "    - Go on College Board and learn about *ArrayLists - Sortings*.\n",
    "        - Also go on other websites to learn more about Sorting so that I'm more prepared for the TeamTeaches.\n",
    "\n",
    "    - Putting on the visual representations so that the audiences might have a better understandings on the contents.\n",
    "\n",
    "    - Putting the College Board example codes for both the Selection Sorting and Inserting Sorting.\n",
    "\n",
    "    - Adding a big one popcorn hack for 7.6 Sorting.\n",
    "\n",
    "    - Writing the comments for the example codes.\n",
    "\n",
    "- Finishing the TeamTeaches hacks.\n",
    "\n",
    "\n",
    "\n",
    "\n",
    "\n"
   ]
  }
 ],
 "metadata": {
  "language_info": {
   "name": "python"
  }
 },
 "nbformat": 4,
 "nbformat_minor": 2
}
