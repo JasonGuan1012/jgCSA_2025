{
 "cells": [
  {
   "cell_type": "markdown",
   "metadata": {},
   "source": [
    "---\n",
    "layout: post\n",
    "title: Week 6 Plans\n",
    "description:  Week 6 Plans\n",
    "courses: {csa: {week: 6} }\n",
    "type: issues \n",
    "comments: true\n",
    "---"
   ]
  },
  {
   "cell_type": "markdown",
   "metadata": {},
   "source": [
    "# ***Java/Spring backend for Trimester 1 PBL project.***\n",
    "\n",
    "- Gstarted on ***Java/Spring backend for Trimester 1 PBL project***\n",
    "\n",
    "- Live Review starting on Wednesday for Unit 1 - Unit 9.\n",
    "    - Complete the 3 checklists that Mort provided that was linked on Slack.\n",
    "\n",
    "\n",
    "\n",
    "\n",
    "\n",
    "\n"
   ]
  }
 ],
 "metadata": {
  "language_info": {
   "name": "python"
  }
 },
 "nbformat": 4,
 "nbformat_minor": 2
}
