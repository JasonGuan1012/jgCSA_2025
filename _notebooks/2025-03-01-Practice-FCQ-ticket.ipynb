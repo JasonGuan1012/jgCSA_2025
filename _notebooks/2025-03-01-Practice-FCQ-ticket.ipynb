{
 "cells": [
  {
   "cell_type": "markdown",
   "metadata": {},
   "source": [
    "---\n",
    "toc: true\n",
    "layout: post\n",
    "title: 2014/2015 Practice Exam FCQ - Review Ticket  \n",
    "description: 2014/2015 Practice Exam FCQ - Review Ticket\n",
    "type: issues \n",
    "courses: { csa: {week: 24} }\n",
    "comments: true\n",
    "---"
   ]
  },
  {
   "cell_type": "markdown",
   "metadata": {},
   "source": [
    "# **2014 Practice Exam FRQ - Review Ticket**"
   ]
  },
  {
   "cell_type": "markdown",
   "metadata": {},
   "source": [
    "## 2014 Practice Exam FRQ - **Scores**\n",
    "\n",
    "idk"
   ]
  },
  {
   "cell_type": "markdown",
   "metadata": {},
   "source": [
    "#### ***Corrections:***\n",
    "\n",
    "**Q#: TYPE**\n",
    "- TYPE\n",
    "\n"
   ]
  },
  {
   "cell_type": "markdown",
   "metadata": {},
   "source": [
    "# **2015 Practice Exam FRQ - Review Ticket**"
   ]
  },
  {
   "cell_type": "markdown",
   "metadata": {},
   "source": [
    "#### ***Corrections:***\n",
    "\n",
    "**Q#: TYPE**\n",
    "- TYPE \n",
    "\n"
   ]
  }
 ],
 "metadata": {
  "language_info": {
   "name": "python"
  }
 },
 "nbformat": 4,
 "nbformat_minor": 2
}
