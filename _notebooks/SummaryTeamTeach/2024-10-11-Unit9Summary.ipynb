{
 "cells": [
  {
   "cell_type": "markdown",
   "metadata": {},
   "source": [
    "---\n",
    "layout: post\n",
    "title: Unit 9 Summary\n",
    "courses: { csa: {week: 7} }\n",
    "comments: true\n",
    "author: Jason Guan\n",
    "---"
   ]
  },
  {
   "cell_type": "markdown",
   "metadata": {},
   "source": [
    "\n",
    "---\n",
    "\n",
    "### Unit 9: Inheritance\n",
    "- Introduces inheritance as a way to create a hierarchy of classes.\n",
    "- Discusses extending a class using `extends` to reuse code and functionality.\n",
    "- Covers the `super` keyword for accessing parent class constructors or methods.\n",
    "- Explores overriding methods in subclasses to provide specialized behavior.\n",
    "- Introduces polymorphism and how subclasses can be treated as their parent class.\n",
    "- Discusses abstract classes and interfaces to define common behaviors.\n",
    "\n",
    "<br>\n",
    "\n",
    "**Connections to PBL:**\n",
    "- In **back-end** systems, inheritance allows developers to extend base models (e.g., creating a subclass `Admin` from a `User` class).\n",
    "- **Front-end** frameworks leverage inheritance to extend UI components and maintain consistency across applications.\n",
    "- **API design** might include creating different types of requests or responses that inherit common functionality (e.g., different user roles or product types).\n",
    "\n",
    "---\n",
    "\n",
    "Link back to the Team Teach Lesson itself: [Unit 9 Team Teach](https://jasonguan1012.github.io/jgCSA_2025/devops/2024/09/12/U9-0-Inheritance_IPYNB_2_.html)"
   ]
  }
 ],
 "metadata": {
  "language_info": {
   "name": "python"
  }
 },
 "nbformat": 4,
 "nbformat_minor": 2
}
