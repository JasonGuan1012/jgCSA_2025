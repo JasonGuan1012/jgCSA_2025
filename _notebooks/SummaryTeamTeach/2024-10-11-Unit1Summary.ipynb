{
 "cells": [
  {
   "cell_type": "markdown",
   "metadata": {},
   "source": [
    "---\n",
    "layout: post\n",
    "title: Unit 1 Summary\n",
    "courses: { csa: {week: 7} }\n",
    "comments: true\n",
    "author: Jason Guan\n",
    "---"
   ]
  },
  {
   "cell_type": "markdown",
   "metadata": {},
   "source": [
    "\n",
    "---\n",
    "\n",
    "### Unit 1: Primitive Types\n",
    "- Introduces basic data types like `int`, `double`, `char`, `boolean`.\n",
    "- Focuses on variable declaration, initialization, and use in expressions.\n",
    "- Arithmetic operations, including division, modulus, and type casting.\n",
    "- Explores data conversions between primitive types (e.g., `int` to `double`).\n",
    "- Discusses the importance of precision in data types like `float` and `double`.\n",
    "- Logical and comparison operators for basic decision-making.\n",
    "\n",
    "**Connections to PBL:**\n",
    "- In a PBL project, primitive types are used to validate and process user input on the **front-end** (e.g., form data like age, price).\n",
    "- In the **back-end**, primitive types are often involved in database queries and logic (e.g., comparing IDs or calculating totals).\n",
    "- **API interactions** require these types to parse and validate incoming data (e.g., a request that contains product prices or user ages).\n",
    "\n",
    "---\n",
    "\n",
    "Link back to the Team Teach Lesson itself: [Unit 1 Team Teach](https://nighthawkcoders.github.io/portfolio_2025/csa/unit1/primitives)"
   ]
  }
 ],
 "metadata": {
  "language_info": {
   "name": "python"
  }
 },
 "nbformat": 4,
 "nbformat_minor": 2
}
