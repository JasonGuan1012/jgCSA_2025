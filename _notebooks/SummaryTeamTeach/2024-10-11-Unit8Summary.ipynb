{
 "cells": [
  {
   "cell_type": "markdown",
   "metadata": {},
   "source": [
    "---\n",
    "layout: post\n",
    "title: Unit 8 Summary\n",
    "courses: { csa: {week: 7} }\n",
    "comments: true\n",
    "author: Jason Guan\n",
    "---"
   ]
  },
  {
   "cell_type": "markdown",
   "metadata": {},
   "source": [
    "\n",
    "---\n",
    "\n",
    "### Unit 8: 2D Arrays\n",
    "- Introduces two-dimensional arrays for storing data in a grid-like structure.\n",
    "- Discusses accessing elements using two indices (rows and columns).\n",
    "- Covers common use cases, like representing matrices or tables of data.\n",
    "- Introduces nested loops to traverse 2D arrays.\n",
    "- Discusses common operations, like summing rows/columns or searching for specific elements.\n",
    "- Explores memory representation and how 2D arrays are stored internally.\n",
    "\n",
    "**Connections to PBL:**\n",
    "- In **front-end** applications, 2D arrays can be used to render data in table format (e.g., displaying rows of product data).\n",
    "- On the **back-end**, 2D arrays can represent more complex datasets or grids (e.g., seating charts or adjacency matrices).\n",
    "- **APIs** that deal with structured data (like spreadsheets) might send or receive data in a 2D array format.\n",
    "\n",
    "---\n",
    "\n",
    "Link back to the Team Teach Lesson itself: [Unit 8 Team Teach](https://jasonguan1012.github.io/jgCSA_2025/devops/2024/09/19/Home_IPYNB_2_.html)"
   ]
  }
 ],
 "metadata": {
  "language_info": {
   "name": "python"
  }
 },
 "nbformat": 4,
 "nbformat_minor": 2
}
