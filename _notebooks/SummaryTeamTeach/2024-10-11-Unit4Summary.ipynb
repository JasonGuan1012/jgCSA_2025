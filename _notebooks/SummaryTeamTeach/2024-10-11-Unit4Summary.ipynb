{
 "cells": [
  {
   "cell_type": "markdown",
   "metadata": {},
   "source": [
    "---\n",
    "layout: post\n",
    "title: Unit 4 Summary\n",
    "courses: { csa: {week: 7} }\n",
    "comments: true\n",
    "author: Jason Guan\n",
    "---"
   ]
  },
  {
   "cell_type": "markdown",
   "metadata": {},
   "source": [
    "\n",
    "---\n",
    "\n",
    "### Unit 4: Iteration\n",
    "- Explains loops (`for`, `while`, and `do-while`) and their structures.\n",
    "- Discusses controlling loops with counters, conditions, and `break`/`continue` statements.\n",
    "- Explores nested loops and their role in processing multi-dimensional data.\n",
    "- Introduces the concept of traversing arrays or lists with loops.\n",
    "- Discusses infinite loops and how to avoid them.\n",
    "- Explores practical applications of loops, like summing numbers or searching data.\n",
    "\n",
    "**Connections to PBL:**\n",
    "- In the **front-end**, loops are essential for rendering lists of data dynamically, like displaying products in an e-commerce app.\n",
    "- **APIs** often iterate through data (e.g., looping through user records in a database) to process requests or respond with multiple items.\n",
    "- On the **back-end**, iteration is vital for performing batch operations or looping through datasets retrieved from a database.\n",
    "\n",
    "---\n",
    "\n",
    "Link back to the Team Teach Lesson itself: [Unit 4 Team Teach](https://jasonguan1012.github.io/jgCSA_2025/devops/2024/09/12/U4-Iteration_IPYNB_2_.html)"
   ]
  }
 ],
 "metadata": {
  "language_info": {
   "name": "python"
  }
 },
 "nbformat": 4,
 "nbformat_minor": 2
}
