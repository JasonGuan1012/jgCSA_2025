{
 "cells": [
  {
   "cell_type": "markdown",
   "metadata": {},
   "source": [
    "---\n",
    "layout: post\n",
    "title: Unit 2 Summary\n",
    "courses: { csa: {week: 7} }\n",
    "comments: true\n",
    "author: Jason Guan\n",
    "---"
   ]
  },
  {
   "cell_type": "markdown",
   "metadata": {},
   "source": [
    "\n",
    "---\n",
    "\n",
    "### Unit 2: Using Objects\n",
    "- Introduces object-oriented programming (OOP) and instantiating objects from classes.\n",
    "- Discusses method calling and passing parameters to methods.\n",
    "- Explores constructors, both default and parameterized, to initialize objects.\n",
    "- Differentiates between primitive data types and reference types (objects).\n",
    "- Covers basic string manipulations and the `String` class.\n",
    "- Discusses encapsulation and why we use getter and setter methods.\n",
    "\n",
    "<br>\n",
    "\n",
    "**Connections to PBL:**\n",
    "- In the **front-end**, objects might represent UI components or encapsulate form data to send as JSON to an API.\n",
    "- The **back-end** can leverage objects to model real-world entities (e.g., a `User` class to store user information, with methods for updating).\n",
    "- **APIs** often handle complex objects sent in requests, such as a user profile or order, and parse these into backend models.\n",
    "\n",
    "---\n",
    "\n",
    "Link back to the Team Teach Lesson itself: [Unit 2 Team Teach](https://jasonguan1012.github.io/jgCSA_2025/devops/2024/09/12/Unit_2_home_IPYNB_2_.html)"
   ]
  }
 ],
 "metadata": {
  "language_info": {
   "name": "python"
  }
 },
 "nbformat": 4,
 "nbformat_minor": 2
}
