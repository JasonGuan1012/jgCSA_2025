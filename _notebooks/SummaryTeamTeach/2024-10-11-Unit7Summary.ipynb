{
 "cells": [
  {
   "cell_type": "markdown",
   "metadata": {},
   "source": [
    "---\n",
    "layout: post\n",
    "title: Unit 7 Summary\n",
    "courses: { csa: {week: 7} }\n",
    "comments: true\n",
    "author: Jason Guan\n",
    "---"
   ]
  },
  {
   "cell_type": "markdown",
   "metadata": {},
   "source": [
    "\n",
    "---\n",
    "\n",
    "### Unit 7: ArrayLists\n",
    "- Explores the `ArrayList` class, a dynamic array implementation.\n",
    "- Discusses methods for adding, removing, and accessing elements (`add()`, `remove()`, `get()`).\n",
    "- Introduces the concept of dynamic resizing, unlike fixed-size arrays.\n",
    "- Covers iterating through `ArrayList` with `for` loops and enhanced `for` loops.\n",
    "- Discusses `ArrayList` methods for searching (`contains()`, `indexOf()`).\n",
    "- Introduces wrapper classes for storing primitive types (e.g., `Integer` for `int`).\n",
    "\n",
    "<br>\n",
    "\n",
    "**Connections to PBL:**\n",
    "- In the **back-end**, `ArrayLists` are often used to manage dynamic collections of objects, such as processing orders that grow over time.\n",
    "- **Front-end** can use array-like structures to dynamically render UI components based on user interactions (e.g., a dynamic shopping cart).\n",
    "- **APIs** might return lists of data as `ArrayList` (e.g., fetching a list of users or products).\n",
    "\n",
    "---\n",
    "\n",
    "Link back to the Team Teach Lesson itself: [Unit 7 Team Teach](https://nighthawkcoders.github.io/portfolio_2025/csa/unit7-p3/home)"
   ]
  }
 ],
 "metadata": {
  "language_info": {
   "name": "python"
  }
 },
 "nbformat": 4,
 "nbformat_minor": 2
}
