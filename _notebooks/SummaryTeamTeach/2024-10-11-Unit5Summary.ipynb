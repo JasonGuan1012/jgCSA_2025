{
 "cells": [
  {
   "cell_type": "markdown",
   "metadata": {},
   "source": [
    "---\n",
    "layout: post\n",
    "title: Unit 5 Summary\n",
    "courses: { csa: {week: 7} }\n",
    "comments: true\n",
    "author: Jason Guan\n",
    "---"
   ]
  },
  {
   "cell_type": "markdown",
   "metadata": {},
   "source": [
    "\n",
    "---\n",
    "\n",
    "### Unit 5: Writing Classes\n",
    "- Introduces class creation, with attributes (fields) and methods (behaviors).\n",
    "- Discusses access modifiers (`private`, `public`) to encapsulate data.\n",
    "- Explores constructors for object instantiation and method overloading.\n",
    "- Demonstrates how to define and use methods, including returning values.\n",
    "- Introduces the concept of `this` to reference the current instance.\n",
    "- Covers encapsulation to protect class attributes and allow controlled access.\n",
    "\n",
    "**Connections to PBL:**\n",
    "- In the **back-end**, classes are used to define the structure of data entities like `User`, `Order`, or `Product`, with methods to handle their behaviors (e.g., processing orders).\n",
    "- **Front-end** libraries and frameworks use classes to manage UI components (e.g., React class components).\n",
    "- **API** design often involves defining classes for data models that are serialized and deserialized when sending or receiving data.\n",
    "\n",
    "---\n",
    "\n",
    "Link back to the Team Teach Lesson itself: [Unit 5 Team Teach](https://jasonguan1012.github.io/jgCSA_2025/devops/2024/09/22/unit_5-home_IPYNB_2_.html)"
   ]
  }
 ],
 "metadata": {
  "language_info": {
   "name": "python"
  }
 },
 "nbformat": 4,
 "nbformat_minor": 2
}
