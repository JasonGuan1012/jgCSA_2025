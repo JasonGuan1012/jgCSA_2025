{
 "cells": [
  {
   "cell_type": "markdown",
   "metadata": {},
   "source": [
    "---\n",
    "layout: post\n",
    "title: Unit 6 Summary\n",
    "courses: { csa: {week: 7} }\n",
    "comments: true\n",
    "author: Jason Guan\n",
    "---"
   ]
  },
  {
   "cell_type": "markdown",
   "metadata": {},
   "source": [
    "\n",
    "---\n",
    "\n",
    "### Unit 6: Arrays\n",
    "- Introduces one-dimensional arrays to store multiple values of the same type.\n",
    "- Covers array declaration, initialization, and accessing elements by index.\n",
    "- Discusses array bounds, common errors (like `ArrayIndexOutOfBoundsException`).\n",
    "- Shows how to iterate through arrays using loops.\n",
    "- Covers searching and sorting arrays (e.g., linear search, selection sort).\n",
    "- Explores common array algorithms like summing or finding the maximum value.\n",
    "\n",
    "<br>\n",
    "\n",
    "**Connections to PBL:**\n",
    "- Arrays are used on the **back-end** for managing collections of data (e.g., storing a list of users or products in memory).\n",
    "- In **front-end** projects, arrays hold data to render multiple UI elements, like lists of items.\n",
    "- Arrays are often passed back and forth between **front-end** and **API** for batch processing or handling multiple inputs (e.g., submitting a form with multiple entries).\n",
    "\n",
    "---\n",
    "\n",
    "Link back to the Team Teach Lesson itself: [Unit 6 Team Teach](https://jasonguan1012.github.io/jgCSA_2025/devops/2024/09/12/Unit-6-0-Home-Page_IPYNB_2_.html)"
   ]
  }
 ],
 "metadata": {
  "language_info": {
   "name": "python"
  }
 },
 "nbformat": 4,
 "nbformat_minor": 2
}
