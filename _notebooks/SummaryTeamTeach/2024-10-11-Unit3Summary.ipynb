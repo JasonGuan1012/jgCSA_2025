{
 "cells": [
  {
   "cell_type": "markdown",
   "metadata": {},
   "source": [
    "---\n",
    "layout: post\n",
    "title: Unit 3 Summary\n",
    "courses: { csa: {week: 7} }\n",
    "comments: true\n",
    "author: Jason Guan\n",
    "---"
   ]
  },
  {
   "cell_type": "markdown",
   "metadata": {},
   "source": [
    "\n",
    "---\n",
    "\n",
    "### Unit 3: Boolean Expressions and if Statements\n",
    "- Introduces Boolean data type (`true`/`false`) and logical expressions.\n",
    "- Focuses on decision-making structures using `if`, `else if`, and `else`.\n",
    "- Covers relational operators (`==`, `!=`, `<`, `>`) for comparisons.\n",
    "- Uses logical operators (`&&`, `||`, `!`) to build more complex conditions.\n",
    "- Explores nested `if` statements and the role of indentation for readability.\n",
    "- Introduces short-circuiting and why it matters in logical operations.\n",
    "\n",
    "<br>\n",
    "\n",
    "**Connections to PBL:**\n",
    "- In a **front-end** project, Boolean expressions are used for conditional rendering (e.g., showing a loading spinner or error message).\n",
    "- **API logic** relies on Boolean expressions to validate requests (e.g., checking if a user is authorized before providing access).\n",
    "- On the **back-end**, Boolean logic is often used to control flow, such as allowing or denying access based on user roles.\n",
    "\n",
    "---\n",
    "\n",
    "Link back to the Team Teach Lesson itself: [Unit 3 Team Teach](https://jasonguan1012.github.io/jgCSA_2025/devops/2024/09/12/U3-0-intro_IPYNB_2_.html)"
   ]
  }
 ],
 "metadata": {
  "language_info": {
   "name": "python"
  }
 },
 "nbformat": 4,
 "nbformat_minor": 2
}
