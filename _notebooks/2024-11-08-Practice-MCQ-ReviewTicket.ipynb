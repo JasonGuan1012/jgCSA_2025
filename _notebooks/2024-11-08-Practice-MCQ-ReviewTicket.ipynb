{
 "cells": [
  {
   "cell_type": "markdown",
   "metadata": {},
   "source": [
    "---\n",
    "toc: true\n",
    "layout: post\n",
    "title: 2014 Practice Exam MCQ - Review Ticket  \n",
    "description:  Student Teach and Software Development Objectives for Sprint 2 live reivew\n",
    "type: issues \n",
    "courses: { csa: {week: 13} }\n",
    "comments: true\n",
    "---"
   ]
  },
  {
   "cell_type": "markdown",
   "metadata": {},
   "source": [
    "# **2014 Practice Exam MCQ - Review Ticket**"
   ]
  },
  {
   "cell_type": "markdown",
   "metadata": {},
   "source": [
    "## 2014 Practice Exam MCQ - Scores\n",
    "\n",
    "My score is 24/40 (60%). 24 questions correct, 16 questions incorrect."
   ]
  },
  {
   "cell_type": "markdown",
   "metadata": {},
   "source": [
    "## 2014 Practice Exam MCQ - Corrections\n",
    "\n",
    "### Question 2\n",
    "![image.png](https://i.ibb.co/XJTvdrG/Screenshot-2024-11-18-at-11-11-00-PM.png)\n",
    "- D is incorrect since getA is not a static method, it must be called with an object of SomeClass rather than the class name. \n",
    "\n",
    "### Question 4\n",
    "![image-2.png](https://i.ibb.co/F72pcTY/Screenshot-2024-11-18-at-11-10-43-PM.png)\n",
    "- B is incorrect because this would be the result if the division used was floating point division, instead of integer division. This would be the case if either x or y were of type double instead of type int or if either value was typecast as a double in the expression.\n",
    "\n",
    "### Question 9\n",
    "![image-3.png](https://i.ibb.co/ypG9cTN/Screenshot-2024-11-18-at-11-10-25-PM.png)\n",
    "- C is incorrect because the element at index 0 will be excluded from the sum, since i starts at 1 instead of 0. When i is key.length an ArrayIndexOutOfBoundsException will be thrown.\n",
    "\n",
    "### Question 21\n",
    "![image-4.png](https://i.ibb.co/7vfMGRy/Screenshot-2024-11-18-at-11-10-04-PM.png)\n",
    "- E is incorrect since an enhanced for loop rather than a standard for loop is used, the value of num is an element in mat and not necessarily a valid column value of mat.\n",
    "\n",
    "### Question 22\n",
    "![image-5.png](https://i.ibb.co/g91PKz4/Screenshot-2024-11-18-at-11-09-39-PM.png)\n",
    "- E is incorrect because the element at index 1 was initialized wo a new Book object in line 3.\n",
    "\n",
    "### Question 25\n",
    "![image-6.png](https://i.ibb.co/Mfh4nnG/Screenshot-2024-11-18-at-11-09-09-PM.png)\n",
    "- C is incorrect because Choice I and Choice II allow comparisons of dimensions to determine if one box can fit inside another, Choice III is flawed because smaller surface area or volume does not guarantee that a box can fit.\n",
    "\n",
    "### Question 26\n",
    "![image-7.png](https://i.ibb.co/rwpWgCv/Screenshot-2024-11-18-at-11-08-40-PM.png)\n",
    "- B is incorrect because this algorithm use a for loop with a loop control variable k that has an initial value of 1, and increments by 1 until k is arr.length. While this algorithm accesses the elements of arr correctly to check whether the values are odd, the indices for arrays start at 0, meaning if arr[0] is odd, it will be skipped and not printed.\n",
    "\n",
    "### Question 28\n",
    "![image-8.png](https://i.ibb.co/VBP4XJz/Screenshot-2024-11-18-at-11-08-03-PM.png)\n",
    "- It's not B because if the value of n is 2 or less in the original call to the method mystery, the loop will be skipped and x will be 1 at //Point C.\n",
    "\n",
    "### Question 29\n",
    "![image-9.png](https://i.ibb.co/7g8Th4S/Screenshot-2024-11-18-at-11-07-39-PM.png)\n",
    "- It's not B because this will print the values [1, 5, 9, 13, 17, 21, 25, 29, 33, 37, 41, 45, 49, 53, 57, 61, 65, 69, 73, 77, 81, 85, 89, 93, and 97]. This will output the same number of values but the values will not be the same.\n",
    "\n",
    "### Question 30\n",
    "![image-10.png](https://i.ibb.co/F7GtZQY/Screenshot-2024-11-18-at-11-07-24-PM.png)\n",
    "- It's not B because this would be the result if the first call to substring was word.substring(howFar, word.length()).\n",
    "\n",
    "### Question 31\n",
    "![image-11.png](https://i.ibb.co/7V8sBGh/Screenshot-2024-11-18-at-11-07-00-PM.png)\n",
    "- It's not B since passing a reference parameter results in the formal parameter and the actual parameter being aliases. They both refer to the same object. Any updates made to the referenced array when mystery is called are being made on the single array that is reference by both data and values. When data[k + 1] is updated, this value new value should be used in the subsequent calculations.\n",
    "\n",
    "### Question 33\n",
    "![image-12.png](https://i.ibb.co/NnpHQvy/Screenshot-2024-11-18-at-11-06-37-PM.png)\n",
    "- It's not C because this would be correct if the boolean condition was changed from an or (||) to an and (&&). Since k is never incremented, the or (||) will always be true since k will always be less than 4 and an infinite loop will occur.\n",
    "\n",
    "### Question 34\n",
    "![image-13.png](https://i.ibb.co/xDQdzG2/Screenshot-2024-11-18-at-11-06-13-PM.png)\n",
    "- It's not D because Choice III uses the default Point constructor to assign center a new Point with x and y both equal to 0. It attempts to update x and y, however since they are private instance variables in Point, they are not able to be accessed directly in Circle. This code will cause a compile time error.\n",
    "\n",
    "### Question 38\n",
    "![image-14.png](https://i.ibb.co/2nfdTHL/Screenshot-2024-11-18-at-11-05-50-PM.png)\n",
    "- It's not D because this expression will evaluate to false whenever y is less than 10000 regardless of whether x is in the correct range between 1000 and 1500.\n",
    "\n",
    "### Question 39\n",
    "![image-15.png](https://i.ibb.co/W5zsC2m/Screenshot-2024-11-18-at-11-05-24-PM.png)\n",
    "- It's not A because the value of recur(4) is 8, however the result of this recursive call is passed as a parameter to our final recursive call. The call recur(8) returns 16.\n",
    "\n",
    "### Question 40\n",
    "![image-16.png](https://i.ibb.co/zngBvsc/Screenshot-2024-11-18-at-11-04-46-PM.png)\n",
    "- Option D is incorrect because when whatsItDo(“W”) is called, nothing is printed since the print occurs in the if statement which does not execute. All previous recursive method calls print a substring of str and not str.\n",
    "\n"
   ]
  },
  {
   "cell_type": "markdown",
   "metadata": {},
   "source": [
    "## 2014 Practice Exam MCQ - Reflection\n",
    "\n",
    "I made multiple mistakes because **I didn't fully understand key concepts**, including static methods (Question 2) and integer division (Question 4). Some of them, such as Questions 9 and 26, happened because I missed looking at how loops or indices function, indicating that I need to improve my implementation skills. A few failures, such as in Question 33, were caused by misreading logic conditions; so, **I need to improve my skills in interpreting and debugging boolean expressions.**"
   ]
  }
 ],
 "metadata": {
  "language_info": {
   "name": "python"
  }
 },
 "nbformat": 4,
 "nbformat_minor": 2
}
